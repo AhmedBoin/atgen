{
 "cells": [
  {
   "cell_type": "markdown",
   "metadata": {},
   "source": [
    "# Design paradigm\n",
    "\n",
    "### 1. episode length & epoch average reward\n",
    "\n",
    "- define episode step length\n",
    "- if accuracy increased in new generation increase epoch by 1\n",
    "- if accuracy decreased in new generation increase episode length by previous defined size\n",
    "\n",
    "\n",
    "### 2. Incremental Genetic"
   ]
  },
  {
   "cell_type": "code",
   "execution_count": null,
   "metadata": {},
   "outputs": [],
   "source": []
  }
 ],
 "metadata": {
  "language_info": {
   "name": "python"
  }
 },
 "nbformat": 4,
 "nbformat_minor": 2
}
