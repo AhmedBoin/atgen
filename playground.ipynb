{
 "cells": [
  {
   "cell_type": "markdown",
   "metadata": {},
   "source": [
    "# Adaptive Tensor Genetic Evolutionary Network\n",
    "\n",
    "## Introduction\n",
    "\n",
    "The **Adaptive Tensor Genetic Evolutionary Network (ATGEN)** is an innovative approach in neural network design that combines traditional neural networks with genetic algorithms. The core idea is to dynamically evolve the structure and parameters of the neural network during training, thereby creating a highly adaptable model capable of learning complex patterns more efficiently.\n",
    "\n",
    "### Key Features\n",
    "\n",
    "1. **Dynamic Network Evolution**: The network's structure is not fixed; it can evolve over time. Layers and neurons can be added or removed based on a set of evolutionary rules, which allows the network to adapt its complexity to the task at hand.\n",
    "\n",
    "2. **Genetic Algorithm-Based Training**: The network employs a genetic algorithm to evolve its weights and structure. This involves selecting parent networks based on their fitness, performing crossover to combine features of two parents, and applying mutations to introduce new variations.\n",
    "\n",
    "3. **Adaptive Activation Functions**: The network supports the dynamic adjustment of activation functions. This adaptability allows the model to switch from linear to non-linear transformations seamlessly, providing greater flexibility in learning different types of data distributions.\n",
    "\n",
    "4. **Neuron and Weight Management**: ATGEN includes mechanisms to add and remove neurons and weights in each layer. This helps in optimizing the network size and performance during the evolution process.\n",
    "\n",
    "## Implementation Overview\n",
    "\n",
    "### Components\n",
    "\n",
    "- **Linear Layer (`Linear` class)**: A custom linear layer with dynamic neuron management, including methods to add, remove, and initialize neurons and weights.\n",
    "- **Activation Switch (`ActiSwitch` class)**: A module that allows smooth transitions between different activation functions, controlled by a learnable parameter.\n",
    "- **Evolutionary Network (`ATNetwork` class)**: A neural network that evolves its structure and weights based on predefined rules and random mutations.\n",
    "- **Genetic Algorithm (`GeneticAlgorithm` class)**: A framework that orchestrates the evolutionary process, handling fitness evaluation, selection, crossover, mutation, and pruning of neurons.\n",
    "\n",
    "### Getting Started\n",
    "\n",
    "Below, we provide a step-by-step implementation of the Adaptive Tensor Genetic Evolution Network and demonstrate its unique capabilities through various experiments and tests. The notebook is divided into sections covering the core components, training routines, and network evolution strategies.\n",
    "\n",
    "---\n",
    "\n",
    "Let's dive into the implementation details and see how we can build a network that learns to evolve!"
   ]
  },
  {
   "cell_type": "code",
   "execution_count": 211,
   "metadata": {},
   "outputs": [],
   "source": [
    "# Import necessary libraries\n",
    "import torch\n",
    "from torch import nn\n",
    "import torch.nn.functional as F\n",
    "from torch.optim import AdamW\n",
    "\n",
    "# Import utility packages\n",
    "import math\n",
    "import copy\n",
    "import random\n",
    "from typing import List, Tuple\n",
    "\n",
    "# Import custom modules from the same folder\n",
    "from atgen.layers import Linear, ActiSwitch, Pass\n",
    "from atgen.network import ATNetwork\n",
    "from atgen.memory import ReplayBuffer\n",
    "from atgen.utils import activation_functions\n",
    "from atgen.ga import ATGEN\n",
    "\n",
    "# Additional visualization or utility packages, if needed\n",
    "# from torchsummary import summary\n",
    "# import gymnasium as gym\n"
   ]
  },
  {
   "cell_type": "markdown",
   "metadata": {},
   "source": [
    "## The `Layer` Module"
   ]
  },
  {
   "cell_type": "markdown",
   "metadata": {},
   "source": [
    "### 1. `ActiSwitch` with ReLU Activation\n",
    "\n",
    "The `ActiSwitch` class is tested with the `nn.Tanh()` activation function:\n",
    "\n",
    "- **Input**: A tensor of shape `(5, 4, 3, 2)` with random values.\n",
    "- **Output**: The resulting tensor after applying the activation function.\n",
    "- **Assertions**:\n",
    "  - The shape of the output tensor should match the shape of the input tensor.\n",
    "  - Check if the input and output tensors have the same values (i.e., the output tensor should be equal to the input tensor)."
   ]
  },
  {
   "cell_type": "code",
   "execution_count": 212,
   "metadata": {},
   "outputs": [
    {
     "name": "stdout",
     "output_type": "stream",
     "text": [
      "Input: torch.Size([5, 4, 3, 2])\n",
      "Output: torch.Size([5, 4, 3, 2])\n",
      "No change in data: True\n"
     ]
    }
   ],
   "source": [
    "# 1. Testing ActiSwitch with ReLU Activation\n",
    "linear_pass_relu = ActiSwitch(nn.Tanh())\n",
    "x = torch.randn(5, 4, 3, 2)\n",
    "output: torch.Tensor = linear_pass_relu(x)\n",
    "\n",
    "print(f\"Input: {x.shape}\")\n",
    "print(f\"Output: {output.shape}\")\n",
    "print(f\"No change in data: {(x==output).all().item()}\")"
   ]
  },
  {
   "cell_type": "markdown",
   "metadata": {},
   "source": [
    "### 2. `Linear` Layer Initialization\n",
    "\n",
    "The `Linear` layer is tested for its weight and bias initialization:\n",
    "\n",
    "- **Initial State**:\n",
    "  - Display the initial weights and biases of the `Linear` layer."
   ]
  },
  {
   "cell_type": "code",
   "execution_count": 213,
   "metadata": {},
   "outputs": [
    {
     "name": "stdout",
     "output_type": "stream",
     "text": [
      "Initial weights:\n",
      "Parameter containing:\n",
      "tensor([[ 0.3527,  0.2342, -0.2040],\n",
      "        [-0.2726, -0.5544,  0.1190]], requires_grad=True)\n",
      "Initial bias:\n",
      "Parameter containing:\n",
      "tensor([ 0.3825, -0.4965], requires_grad=True)\n"
     ]
    }
   ],
   "source": [
    "# 2. Testing Linear Layer Initialization\n",
    "linear = Linear(in_features=3, out_features=2)\n",
    "\n",
    "print(\"Initial weights:\")\n",
    "print(linear.weight)\n",
    "print(\"Initial bias:\")\n",
    "print(linear.bias)"
   ]
  },
  {
   "cell_type": "markdown",
   "metadata": {},
   "source": [
    "### 3. Adding a Neuron to the `Linear` Layer\n",
    "\n",
    "Test the addition of a new output neuron:\n",
    "\n",
    "- **Action**: Add a new output neuron to the `Linear` layer.\n",
    "- **Assertions**:\n",
    "  - Display the updated weights and biases to verify the addition."
   ]
  },
  {
   "cell_type": "code",
   "execution_count": 214,
   "metadata": {},
   "outputs": [
    {
     "name": "stdout",
     "output_type": "stream",
     "text": [
      "After adding a new output neuron:\n",
      "Parameter containing:\n",
      "tensor([[ 0.3527,  0.2342, -0.2040],\n",
      "        [-0.2726, -0.5544,  0.1190],\n",
      "        [ 0.1701, -0.3570,  0.4331]], requires_grad=True)\n",
      "Parameter containing:\n",
      "tensor([ 0.3825, -0.4965, -0.5423], requires_grad=True)\n"
     ]
    }
   ],
   "source": [
    "# 3. Adding a Neuron\n",
    "linear.add_neuron()\n",
    "print(\"After adding a new output neuron:\")\n",
    "print(linear.weight)\n",
    "print(linear.bias)"
   ]
  },
  {
   "cell_type": "markdown",
   "metadata": {},
   "source": [
    "### 4. Increasing the Input Dimension of the `Linear` Layer\n",
    "\n",
    "Test the increase of the input dimension:\n",
    "\n",
    "- **Action**: Increase the input dimension of the `Linear` layer.\n",
    "- **Assertions**:\n",
    "  - Display the updated weights and biases to verify the change in input dimension."
   ]
  },
  {
   "cell_type": "code",
   "execution_count": 215,
   "metadata": {},
   "outputs": [
    {
     "name": "stdout",
     "output_type": "stream",
     "text": [
      "After increasing the input dimension:\n",
      "Parameter containing:\n",
      "tensor([[ 0.3527,  0.2342, -0.2040,  0.0000],\n",
      "        [-0.2726, -0.5544,  0.1190,  0.0000],\n",
      "        [ 0.1701, -0.3570,  0.4331,  0.0000]], requires_grad=True)\n",
      "Parameter containing:\n",
      "tensor([ 0.3825, -0.4965, -0.5423], requires_grad=True)\n"
     ]
    }
   ],
   "source": [
    "# 4. Increasing Input Dimension\n",
    "linear.add_weight()\n",
    "print(\"After increasing the input dimension:\")\n",
    "print(linear.weight)\n",
    "print(linear.bias)"
   ]
  },
  {
   "cell_type": "markdown",
   "metadata": {},
   "source": [
    "### 5. Removing a Neuron from the `Linear` Layer\n",
    "\n",
    "Test the removal of an output neuron:\n",
    "\n",
    "- **Action**: Remove an output neuron from the `Linear` layer.\n",
    "- **Assertions**:\n",
    "  - Display the updated weights and biases to verify the removal."
   ]
  },
  {
   "cell_type": "code",
   "execution_count": 216,
   "metadata": {},
   "outputs": [
    {
     "name": "stdout",
     "output_type": "stream",
     "text": [
      "After removing an output neuron:\n",
      "Parameter containing:\n",
      "tensor([[-0.2726, -0.5544,  0.1190,  0.0000],\n",
      "        [ 0.1701, -0.3570,  0.4331,  0.0000]], requires_grad=True)\n",
      "Parameter containing:\n",
      "tensor([-0.4965, -0.5423], requires_grad=True)\n"
     ]
    }
   ],
   "source": [
    "# 5. Removing a Neuron\n",
    "linear.remove_neuron(0)  # Assumes such a method exists\n",
    "print(\"After removing an output neuron:\")\n",
    "print(linear.weight)\n",
    "print(linear.bias)"
   ]
  },
  {
   "cell_type": "markdown",
   "metadata": {},
   "source": [
    "### 6. Removing an Input Weight from the `Linear` Layer\n",
    "\n",
    "Test the removal of an input weight:\n",
    "\n",
    "- **Action**: Remove an input weight from the `Linear` layer.\n",
    "- **Assertions**:\n",
    "  - Display the updated weights and biases to verify the removal."
   ]
  },
  {
   "cell_type": "code",
   "execution_count": 217,
   "metadata": {},
   "outputs": [
    {
     "name": "stdout",
     "output_type": "stream",
     "text": [
      "After removing an input weight:\n",
      "Parameter containing:\n",
      "tensor([[-0.5544,  0.1190,  0.0000],\n",
      "        [-0.3570,  0.4331,  0.0000]], requires_grad=True)\n",
      "Parameter containing:\n",
      "tensor([-0.4965, -0.5423], requires_grad=True)\n"
     ]
    }
   ],
   "source": [
    "# 6. Removing an Input Weight\n",
    "linear.remove_weight(0)  # Assumes such a method exists\n",
    "print(\"After removing an input weight:\")\n",
    "print(linear.weight)\n",
    "print(linear.bias)"
   ]
  },
  {
   "cell_type": "markdown",
   "metadata": {},
   "source": [
    "### 7. Identity Initialization of the `Linear` Layer\n",
    "\n",
    "Test the identity initialization of the `Linear` layer:\n",
    "\n",
    "- **Action**: Initialize a `Linear` layer with identity weights.\n",
    "- **Assertions**:\n",
    "  - Display the weights and biases to verify the identity initialization."
   ]
  },
  {
   "cell_type": "code",
   "execution_count": 218,
   "metadata": {},
   "outputs": [
    {
     "name": "stdout",
     "output_type": "stream",
     "text": [
      "Weights after identity initialization:\n",
      "Parameter containing:\n",
      "tensor([[1., 0., 0.],\n",
      "        [0., 1., 0.],\n",
      "        [0., 0., 1.]], requires_grad=True)\n",
      "Bias after identity initialization:\n",
      "Parameter containing:\n",
      "tensor([0., 0., 0.], requires_grad=True)\n"
     ]
    }
   ],
   "source": [
    "# 7. Testing Identity Initialization\n",
    "identity_layer = Linear.init_identity_layer(size=3)\n",
    "print(\"Weights after identity initialization:\")\n",
    "print(identity_layer.weight)\n",
    "print(\"Bias after identity initialization:\")\n",
    "print(identity_layer.bias)"
   ]
  },
  {
   "cell_type": "markdown",
   "metadata": {},
   "source": [
    "## Understanding the Identity Matrix in Neural Networks\n",
    "\n",
    "### Identity Matrix\n",
    "\n",
    "In the context of neural networks, the identity matrix is often used as an initialization method for weights in newly added layers. The identity matrix is a square matrix with ones on the main diagonal and zeros elsewhere. It has the property that when used in matrix multiplication, it does not alter the original matrix:\n",
    "\n",
    "$$\n",
    "I_n = \\begin{bmatrix}\n",
    "1 & 0 & 0 & 0 & 0 \\\\\n",
    "0 & 1 & 0 & 0 & 0 \\\\\n",
    "0 & 0 & 1 & 0 & 0 \\\\\n",
    "0 & 0 & 0 & 1 & 0 \\\\\n",
    "0 & 0 & 0 & 0 & 1 \n",
    "\\end{bmatrix}\n",
    "$$\n",
    "\n",
    "where $I_n$ is the identity matrix of size $n \\times n$. This matrix is called the identity matrix because it acts as a multiplicative identity in matrix multiplication.\n",
    "\n",
    "### Matrix Multiplication with the Identity Matrix\n",
    "\n",
    "When you multiply a matrix $A$ by an identity matrix $I$, the result is the matrix $A$ itself:\n",
    "\n",
    "$$\n",
    "A \\times I = A\n",
    "$$\n",
    "\n",
    "For example, consider a matrix $A$:\n",
    "\n",
    "$$\n",
    "A = \\begin{bmatrix}\n",
    "a & b \\\\\n",
    "c & d\n",
    "\\end{bmatrix}\n",
    "$$\n",
    "\n",
    "Multiplying $A$ by the $2 \\times 2$ identity matrix $I$:\n",
    "\n",
    "$$\n",
    "A \\times I_2 = \\begin{bmatrix}\n",
    "a & b \\\\\n",
    "c & d\n",
    "\\end{bmatrix}\n",
    "\\times\n",
    "\\begin{bmatrix}\n",
    "1 & 0 \\\\\n",
    "0 & 1\n",
    "\\end{bmatrix}\n",
    "=\n",
    "\\begin{bmatrix}\n",
    "a & b \\\\\n",
    "c & d\n",
    "\\end{bmatrix}\n",
    "$$\n",
    "\n",
    "The result is $A$, demonstrating that the identity matrix does not change the matrix it multiplies.\n",
    "\n",
    "### Usage in Neural Networks\n",
    "\n",
    "In neural networks, initializing weights with an identity matrix ensures that newly added layers do not alter the input significantly when first added. This can be particularly useful when experimenting with network architectures or adding new neurons, as it maintains stability in the output until training adjusts the weights."
   ]
  },
  {
   "cell_type": "markdown",
   "metadata": {},
   "source": [
    "## Handling Activation Functions in Deep Networks\n",
    "\n",
    "As neural networks become deeper, the introduction of new layers can affect the output of the network due to the activation functions applied. Even if the new layers are initialized with identity matrices, which theoretically do not alter the output directly, activation functions introduce non-linearity that can change the network's behavior.\n",
    "\n",
    "### The Problem with Activation Functions\n",
    "\n",
    "When adding new layers with identity matrix initialization, the direct output of these layers may remain unchanged. However, if the activation functions applied to these layers are non-linear, they can alter the output in ways that affect the network's overall performance. This introduces a challenge: ensuring that the output remains consistent while still benefiting from the added layers.\n",
    "\n",
    "### Solution: Smooth Transition with Blending Activation Functions\n",
    "\n",
    "To address this issue, a custom approach is used to blend linear and non-linear transformations. The idea is to smoothly transition between a linear pass-through and a non-linear activation function, based on a learnable weighting factor. This ensures that new layers can be added without introducing abrupt changes in output.\n",
    "\n",
    "One effective solution is to use a class that blends linear and non-linear activations. This class provides a learnable parameter that adjusts the balance between the linear transformation and the non-linear activation function. By controlling this parameter, the network can maintain the output consistency while allowing the flexibility to benefit from the additional layers.\n",
    "\n",
    "### Key Points\n",
    "\n",
    "- **Identity Matrix**: Ensures that additional layers do not affect the output directly but does not account for changes introduced by activation functions.\n",
    "- **Linear and Semi-Linear Activation Functions**: Maintain output consistency while adding layers, avoiding undesirable performance changes.\n",
    "- **Blending Mechanism**: Allows a smooth transition between linear and non-linear functions, controlled by a learnable parameter, to ensure the network adapts effectively.\n",
    "\n",
    "This approach helps in maintaining the performance and output consistency of deep networks while accommodating new layers and activation functions.\n",
    "```​⬤"
   ]
  },
  {
   "cell_type": "code",
   "execution_count": 219,
   "metadata": {},
   "outputs": [
    {
     "name": "stdout",
     "output_type": "stream",
     "text": [
      "\u001b[1m\u001b[38;5;153mModel Summary\u001b[0m\u001b[1m:\n",
      "-------------------------------------------------------------------------------------\n",
      "Layer      Output Shape                  Parameters     Activation     \n",
      "-------------------------------------------------------------------------------------\n",
      "Layer 1    (batch_size, 3)               18             ActiSwitch(ReLU, 0.00%)\n",
      "Layer 2    (batch_size, 1)               4              Pass           \n",
      "-------------------------------------------------------------------------------------\n",
      "\u001b[38;5;153mTotal Parameters:        \u001b[0m\u001b[1m22             \u001b[0m\n"
     ]
    }
   ],
   "source": [
    "# Helper loss function\n",
    "def loss(x1: torch.Tensor, x2: torch.Tensor):\n",
    "    val = torch.abs((x2 / x1).mean() - 1) * 100\n",
    "    print(f\"loss = {val:.10f}%\")\n",
    "\n",
    "# Define the Custom Network\n",
    "class CustomNetwork(ATNetwork):\n",
    "    def __init__(self):\n",
    "        # Do not call the parent __init__ with layers; initialize manually\n",
    "        super(ATNetwork, self).__init__()\n",
    "        self.layers = nn.ModuleList([\n",
    "            Linear(5, 3),\n",
    "            Linear(3, 1)\n",
    "        ])\n",
    "        self.activation = nn.ModuleList([\n",
    "            ActiSwitch(),\n",
    "            Pass()\n",
    "        ])\n",
    "        self.backprob_phase = True\n",
    "        self.default_activation = nn.ReLU()\n",
    "\n",
    "# Initialize the model and print the summary\n",
    "model = CustomNetwork()\n",
    "# summary(model, input_size=(5,))\n",
    "model.summary()\n",
    "\n",
    "# You can also initialize the model simply like next\n",
    "model = ATNetwork([5, 3, 1])\n",
    "\n",
    "# Test the network with random input\n",
    "x = torch.randn(4, 5)\n",
    "y1: torch.Tensor = model(x)"
   ]
  },
  {
   "cell_type": "code",
   "execution_count": 220,
   "metadata": {},
   "outputs": [
    {
     "name": "stdout",
     "output_type": "stream",
     "text": [
      "\u001b[1m\u001b[38;5;153mModel Summary\u001b[0m\u001b[1m:\n",
      "-------------------------------------------------------------------------------------\n",
      "Layer      Output Shape                  Parameters     Activation     \n",
      "-------------------------------------------------------------------------------------\n",
      "Layer 1    (batch_size, 5)               30             ActiSwitch(ReLU, 0.00%)\n",
      "Layer 2    (batch_size, 5)               30             ActiSwitch(ReLU, 0.00%)\n",
      "Layer 3    (batch_size, 5)               30             ActiSwitch(ReLU, 0.00%)\n",
      "Layer 4    (batch_size, 5)               30             ActiSwitch(ReLU, 0.00%)\n",
      "Layer 5    (batch_size, 5)               30             ActiSwitch(ReLU, 0.00%)\n",
      "Layer 6    (batch_size, 5)               30             ActiSwitch(ReLU, 0.00%)\n",
      "Layer 7    (batch_size, 5)               30             ActiSwitch(ReLU, 0.00%)\n",
      "Layer 8    (batch_size, 3)               18             ActiSwitch(ReLU, 0.00%)\n",
      "Layer 9    (batch_size, 3)               12             ActiSwitch(ReLU, 0.00%)\n",
      "Layer 10   (batch_size, 3)               12             ActiSwitch(ReLU, 0.00%)\n",
      "Layer 11   (batch_size, 3)               12             ActiSwitch(ReLU, 0.00%)\n",
      "Layer 12   (batch_size, 1)               4              Pass           \n",
      "-------------------------------------------------------------------------------------\n",
      "\u001b[38;5;153mTotal Parameters:        \u001b[0m\u001b[1m268            \u001b[0m\n"
     ]
    }
   ],
   "source": [
    "# Evolve the network by inserting new 10 layers\n",
    "for _ in range(10):\n",
    "    model.evolve_network()\n",
    "# summary(model, input_size=(5,))\n",
    "model.summary()"
   ]
  },
  {
   "cell_type": "code",
   "execution_count": 221,
   "metadata": {},
   "outputs": [
    {
     "name": "stdout",
     "output_type": "stream",
     "text": [
      "\u001b[1m\u001b[38;5;153mModel Summary\u001b[0m\u001b[1m:\n",
      "-------------------------------------------------------------------------------------\n",
      "Layer      Output Shape                  Parameters     Activation     \n",
      "-------------------------------------------------------------------------------------\n",
      "Layer 1    (batch_size, 44)              264            ActiSwitch(ReLU, 0.00%)\n",
      "Layer 2    (batch_size, 60)              2700           ActiSwitch(ReLU, 0.00%)\n",
      "Layer 3    (batch_size, 45)              2745           ActiSwitch(ReLU, 0.00%)\n",
      "Layer 4    (batch_size, 49)              2254           ActiSwitch(ReLU, 0.00%)\n",
      "Layer 5    (batch_size, 45)              2250           ActiSwitch(ReLU, 0.00%)\n",
      "Layer 6    (batch_size, 42)              1932           ActiSwitch(ReLU, 0.00%)\n",
      "Layer 7    (batch_size, 45)              1935           ActiSwitch(ReLU, 0.00%)\n",
      "Layer 8    (batch_size, 45)              2070           ActiSwitch(ReLU, 0.00%)\n",
      "Layer 9    (batch_size, 60)              2760           ActiSwitch(ReLU, 0.00%)\n",
      "Layer 10   (batch_size, 60)              3660           ActiSwitch(ReLU, 0.00%)\n",
      "Layer 11   (batch_size, 52)              3172           ActiSwitch(ReLU, 0.00%)\n",
      "Layer 12   (batch_size, 1)               53             Pass           \n",
      "-------------------------------------------------------------------------------------\n",
      "\u001b[38;5;153mTotal Parameters:        \u001b[0m\u001b[1m25795          \u001b[0m\n"
     ]
    }
   ],
   "source": [
    "# Evolve layers by adding new 500 nodes to random layers\n",
    "for _ in range(500):\n",
    "    model.evolve_layer()\n",
    "# summary(model, input_size=(5,))\n",
    "model.summary()"
   ]
  },
  {
   "cell_type": "code",
   "execution_count": 222,
   "metadata": {},
   "outputs": [
    {
     "name": "stdout",
     "output_type": "stream",
     "text": [
      "tensor([[0.7652, 0.7652],\n",
      "        [0.6517, 0.6517],\n",
      "        [0.2455, 0.2455],\n",
      "        [0.6973, 0.6973]], grad_fn=<CatBackward0>)\n",
      "loss = 0.0000000000%\n"
     ]
    }
   ],
   "source": [
    "# Print the concatenated results and loss\n",
    "y2: torch.Tensor = model(x)\n",
    "print(torch.cat((y1, y2), dim=1))  \n",
    "loss(y1, y2)\n"
   ]
  },
  {
   "cell_type": "code",
   "execution_count": 223,
   "metadata": {},
   "outputs": [
    {
     "name": "stdout",
     "output_type": "stream",
     "text": [
      "\u001b[1m\u001b[38;5;153mModel Summary\u001b[0m\u001b[1m:\n",
      "-------------------------------------------------------------------------------------\n",
      "Layer      Output Shape                  Parameters     Activation     \n",
      "-------------------------------------------------------------------------------------\n",
      "Layer 1    (batch_size, 39)              234            ActiSwitch(ReLU, 0.00%)\n",
      "Layer 2    (batch_size, 12)              480            ActiSwitch(ReLU, 0.00%)\n",
      "Layer 3    (batch_size, 6)               78             ActiSwitch(ReLU, 0.00%)\n",
      "Layer 4    (batch_size, 10)              70             ActiSwitch(ReLU, 0.00%)\n",
      "Layer 5    (batch_size, 5)               55             ActiSwitch(ReLU, 0.00%)\n",
      "Layer 6    (batch_size, 7)               42             ActiSwitch(ReLU, 0.00%)\n",
      "Layer 7    (batch_size, 9)               72             ActiSwitch(ReLU, 0.00%)\n",
      "Layer 8    (batch_size, 3)               30             ActiSwitch(ReLU, 0.00%)\n",
      "Layer 9    (batch_size, 7)               28             ActiSwitch(ReLU, 0.00%)\n",
      "Layer 10   (batch_size, 3)               24             ActiSwitch(ReLU, 0.00%)\n",
      "Layer 11   (batch_size, 4)               16             ActiSwitch(ReLU, 0.00%)\n",
      "Layer 12   (batch_size, 1)               5              Pass           \n",
      "-------------------------------------------------------------------------------------\n",
      "\u001b[38;5;153mTotal Parameters:        \u001b[0m\u001b[1m1134           \u001b[0m\n"
     ]
    }
   ],
   "source": [
    "# Get the output after evolution and pruning\n",
    "with torch.no_grad():\n",
    "    for layer in model.layers:\n",
    "        if isinstance(layer, Linear) or str(type(layer)) == \"<class 'layers.Linear'>\":\n",
    "            layer.weight.data *= 0.03\n",
    "            if layer.bias is not None:\n",
    "                layer.bias.data *= 0.03\n",
    "    # for layer in model.activation:\n",
    "    #     if isinstance(layer, ActiSwitch) or str(type(layer)) == \"<class 'layers.ActiSwitch'>\":\n",
    "    #         layer.weight.data.copy_(torch.tensor(1.0))\n",
    "\n",
    "model.prune(0.01)\n",
    "# summary(model, input_size=(5,))\n",
    "model.summary()"
   ]
  },
  {
   "cell_type": "markdown",
   "metadata": {},
   "source": [
    "### How Crossover works"
   ]
  },
  {
   "cell_type": "code",
   "execution_count": 224,
   "metadata": {},
   "outputs": [
    {
     "name": "stdout",
     "output_type": "stream",
     "text": [
      "\u001b[1m\u001b[38;5;153mModel Summary\u001b[0m\u001b[1m:\n",
      "-------------------------------------------------------------------------------------\n",
      "Layer      Output Shape                  Parameters     Activation     \n",
      "-------------------------------------------------------------------------------------\n",
      "Layer 1    (batch_size, 39)              234            ActiSwitch(ReLU, 0.00%)\n",
      "Layer 2    (batch_size, 12)              480            ActiSwitch(ReLU, 0.00%)\n",
      "Layer 3    (batch_size, 6)               78             ActiSwitch(ReLU, 0.00%)\n",
      "Layer 4    (batch_size, 10)              70             ActiSwitch(ReLU, 0.00%)\n",
      "Layer 5    (batch_size, 5)               55             ActiSwitch(ReLU, 0.00%)\n",
      "Layer 6    (batch_size, 7)               42             ActiSwitch(ReLU, 0.00%)\n",
      "Layer 7    (batch_size, 9)               72             ActiSwitch(ReLU, 0.00%)\n",
      "Layer 8    (batch_size, 3)               30             ActiSwitch(ReLU, 0.00%)\n",
      "Layer 9    (batch_size, 7)               28             ActiSwitch(ReLU, 0.00%)\n",
      "Layer 10   (batch_size, 3)               24             ActiSwitch(ReLU, 0.00%)\n",
      "Layer 11   (batch_size, 4)               16             ActiSwitch(ReLU, 0.00%)\n",
      "Layer 12   (batch_size, 1)               5              Pass           \n",
      "-------------------------------------------------------------------------------------\n",
      "\u001b[38;5;153mTotal Parameters:        \u001b[0m\u001b[1m1134           \u001b[0m\n"
     ]
    }
   ],
   "source": [
    "# Create parent networks with specified architectures\n",
    "parent1 = ATNetwork([10, 2, 5, 1])\n",
    "parent2 = ATNetwork([10, 2, 4, 3, 1])\n",
    "\n",
    "# Initialize the GeneticAlgorithm instance\n",
    "ga = ATGEN(population_size=10, layers=[8, 1, 4])\n",
    "\n",
    "# Perform crossover\n",
    "child = ga.crossover(parent1, parent2)\n",
    "\n",
    "# Print the child network architecture and parameters\n",
    "# summary(child, (10,))\n",
    "model.summary()\n",
    "\n",
    "# ga.run_generation(dummy_fitness_function, 10)"
   ]
  },
  {
   "cell_type": "code",
   "execution_count": 225,
   "metadata": {},
   "outputs": [
    {
     "name": "stdout",
     "output_type": "stream",
     "text": [
      "\u001b[1m\u001b[38;5;153mModel Summary\u001b[0m\u001b[1m:\n",
      "-------------------------------------------------------------------------------------\n",
      "Layer      Output Shape                  Parameters     Activation     \n",
      "-------------------------------------------------------------------------------------\n",
      "Layer 1    (batch_size, 4)               8              ActiSwitch(ReLU, 0.00%)\n",
      "Layer 2    (batch_size, 1)               5              Pass           \n",
      "-------------------------------------------------------------------------------------\n",
      "\u001b[38;5;153mTotal Parameters:        \u001b[0m\u001b[1m13             \u001b[0m\n"
     ]
    }
   ],
   "source": [
    "model = ATNetwork([1, 4, 1])\n",
    "optim = AdamW(model.parameters(), lr=0.01)\n",
    "# summary(model, (1,))\n",
    "model.summary()\n",
    "\n",
    "x = torch.randn(10, 1)\n",
    "y_real = torch.randn(10, 1)\n",
    "epochs = 1_000"
   ]
  },
  {
   "cell_type": "code",
   "execution_count": 226,
   "metadata": {},
   "outputs": [
    {
     "name": "stdout",
     "output_type": "stream",
     "text": [
      "Loss: 1.378637671470642\n"
     ]
    }
   ],
   "source": [
    "for i in range(epochs):\n",
    "    y_pred = model(x)\n",
    "    loss = F.mse_loss(y_pred, y_real)\n",
    "    optim.zero_grad()\n",
    "    loss.backward()\n",
    "    optim.step()\n",
    "print(\"Loss:\", loss.item())\n"
   ]
  },
  {
   "cell_type": "code",
   "execution_count": 227,
   "metadata": {},
   "outputs": [
    {
     "name": "stdout",
     "output_type": "stream",
     "text": [
      "Loss: 1.3776894807815552\n"
     ]
    }
   ],
   "source": [
    "for i in range(epochs):\n",
    "    y_pred = model(x)\n",
    "    loss = F.mse_loss(y_pred, y_real)\n",
    "    optim.zero_grad()\n",
    "    loss.backward()\n",
    "    optim.step()\n",
    "print(\"Loss:\", loss.item())"
   ]
  },
  {
   "cell_type": "code",
   "execution_count": 228,
   "metadata": {},
   "outputs": [
    {
     "name": "stdout",
     "output_type": "stream",
     "text": [
      "\u001b[1m\u001b[38;5;153mModel Summary\u001b[0m\u001b[1m:\n",
      "-------------------------------------------------------------------------------------\n",
      "Layer      Output Shape                  Parameters     Activation     \n",
      "-------------------------------------------------------------------------------------\n",
      "Layer 1    (batch_size, 12)              24             ActiSwitch(ReLU, 0.00%)\n",
      "Layer 2    (batch_size, 23)              299            ActiSwitch(ReLU, 0.00%)\n",
      "Layer 3    (batch_size, 20)              480            ActiSwitch(ReLU, 0.00%)\n",
      "Layer 4    (batch_size, 21)              441            ActiSwitch(ReLU, -1659.06%)\n",
      "Layer 5    (batch_size, 20)              440            ActiSwitch(ReLU, 0.00%)\n",
      "Layer 6    (batch_size, 19)              399            ActiSwitch(ReLU, 0.00%)\n",
      "Layer 7    (batch_size, 1)               20             Pass           \n",
      "-------------------------------------------------------------------------------------\n",
      "\u001b[38;5;153mTotal Parameters:        \u001b[0m\u001b[1m2103           \u001b[0m\n"
     ]
    }
   ],
   "source": [
    "for _ in range(5):\n",
    "    model.evolve_network()\n",
    "for _ in range(100):\n",
    "    model.evolve_layer()\n",
    "optim = AdamW(model.parameters(), lr=0.01)\n",
    "# summary(model, (1,))\n",
    "model.summary()\n"
   ]
  },
  {
   "cell_type": "code",
   "execution_count": 229,
   "metadata": {},
   "outputs": [
    {
     "name": "stdout",
     "output_type": "stream",
     "text": [
      "Parameter containing:\n",
      "tensor([[ 1.0000e+00,  0.0000e+00,  0.0000e+00,  0.0000e+00,  0.0000e+00,\n",
      "          0.0000e+00,  0.0000e+00,  0.0000e+00,  0.0000e+00,  0.0000e+00,\n",
      "          0.0000e+00,  0.0000e+00,  0.0000e+00,  0.0000e+00,  0.0000e+00,\n",
      "          0.0000e+00,  0.0000e+00,  0.0000e+00,  0.0000e+00,  0.0000e+00],\n",
      "        [ 0.0000e+00,  1.0000e+00,  0.0000e+00,  0.0000e+00,  0.0000e+00,\n",
      "          0.0000e+00,  0.0000e+00,  0.0000e+00,  0.0000e+00,  0.0000e+00,\n",
      "          0.0000e+00,  0.0000e+00,  0.0000e+00,  0.0000e+00,  0.0000e+00,\n",
      "          0.0000e+00,  0.0000e+00,  0.0000e+00,  0.0000e+00,  0.0000e+00],\n",
      "        [ 0.0000e+00,  0.0000e+00,  1.0000e+00,  0.0000e+00,  0.0000e+00,\n",
      "          0.0000e+00,  0.0000e+00,  0.0000e+00,  0.0000e+00,  0.0000e+00,\n",
      "          0.0000e+00,  0.0000e+00,  0.0000e+00,  0.0000e+00,  0.0000e+00,\n",
      "          0.0000e+00,  0.0000e+00,  0.0000e+00,  0.0000e+00,  0.0000e+00],\n",
      "        [ 0.0000e+00,  0.0000e+00,  0.0000e+00,  1.0000e+00,  0.0000e+00,\n",
      "          0.0000e+00,  0.0000e+00,  0.0000e+00,  0.0000e+00,  0.0000e+00,\n",
      "          0.0000e+00,  0.0000e+00,  0.0000e+00,  0.0000e+00,  0.0000e+00,\n",
      "          0.0000e+00,  0.0000e+00,  0.0000e+00,  0.0000e+00,  0.0000e+00],\n",
      "        [ 1.3194e-01, -9.1730e-02, -3.7962e-01,  1.7354e-01,  0.0000e+00,\n",
      "          0.0000e+00,  0.0000e+00,  0.0000e+00,  0.0000e+00,  0.0000e+00,\n",
      "          0.0000e+00,  0.0000e+00,  0.0000e+00,  0.0000e+00,  0.0000e+00,\n",
      "          0.0000e+00,  0.0000e+00,  0.0000e+00,  0.0000e+00,  0.0000e+00],\n",
      "        [ 1.5863e-01, -1.8020e-01, -2.6798e-01, -1.4657e-01, -1.1680e-01,\n",
      "          0.0000e+00,  0.0000e+00,  0.0000e+00,  0.0000e+00,  0.0000e+00,\n",
      "          0.0000e+00,  0.0000e+00,  0.0000e+00,  0.0000e+00,  0.0000e+00,\n",
      "          0.0000e+00,  0.0000e+00,  0.0000e+00,  0.0000e+00,  0.0000e+00],\n",
      "        [-1.5770e-01,  1.9930e-01,  3.2390e-01,  3.3139e-01, -4.2258e-01,\n",
      "          0.0000e+00,  0.0000e+00,  0.0000e+00,  0.0000e+00,  0.0000e+00,\n",
      "          0.0000e+00,  0.0000e+00,  0.0000e+00,  0.0000e+00,  0.0000e+00,\n",
      "          0.0000e+00,  0.0000e+00,  0.0000e+00,  0.0000e+00,  0.0000e+00],\n",
      "        [ 4.2376e-02,  1.2352e-01,  3.0504e-01, -4.0059e-01, -1.9955e-01,\n",
      "          0.0000e+00,  0.0000e+00,  0.0000e+00,  0.0000e+00,  0.0000e+00,\n",
      "          0.0000e+00,  0.0000e+00,  0.0000e+00,  0.0000e+00,  0.0000e+00,\n",
      "          0.0000e+00,  0.0000e+00,  0.0000e+00,  0.0000e+00,  0.0000e+00],\n",
      "        [ 6.0186e-02,  1.8770e-01,  1.4885e-01, -2.8769e-01,  1.9742e-01,\n",
      "          1.5448e-01, -3.4761e-01, -2.6425e-01,  0.0000e+00,  0.0000e+00,\n",
      "          0.0000e+00,  0.0000e+00,  0.0000e+00,  0.0000e+00,  0.0000e+00,\n",
      "          0.0000e+00,  0.0000e+00,  0.0000e+00,  0.0000e+00,  0.0000e+00],\n",
      "        [ 3.0927e-01, -3.3994e-01,  1.7384e-01, -2.9096e-01,  1.0174e-01,\n",
      "          1.5912e-01, -2.7173e-01,  6.1922e-02,  0.0000e+00,  0.0000e+00,\n",
      "          0.0000e+00,  0.0000e+00,  0.0000e+00,  0.0000e+00,  0.0000e+00,\n",
      "          0.0000e+00,  0.0000e+00,  0.0000e+00,  0.0000e+00,  0.0000e+00],\n",
      "        [ 1.1740e-01,  3.5288e-01,  1.4140e-01,  7.9034e-02, -2.8679e-02,\n",
      "          2.1942e-01, -4.2437e-02, -5.3950e-02,  0.0000e+00,  0.0000e+00,\n",
      "          0.0000e+00,  0.0000e+00,  0.0000e+00,  0.0000e+00,  0.0000e+00,\n",
      "          0.0000e+00,  0.0000e+00,  0.0000e+00,  0.0000e+00,  0.0000e+00],\n",
      "        [ 1.9391e-01,  7.4683e-02, -1.5753e-01, -1.8948e-01,  2.0271e-02,\n",
      "         -5.9754e-02, -2.9628e-02,  6.5500e-02,  1.0636e-01, -9.9414e-02,\n",
      "          2.2858e-03,  9.0414e-02, -1.4340e-01, -7.3747e-02, -1.6315e-01,\n",
      "         -7.0522e-02,  1.2180e-01,  8.7811e-02,  0.0000e+00,  0.0000e+00],\n",
      "        [-1.2207e-01, -6.5367e-02, -3.5609e-02,  2.5765e-02, -1.1947e-01,\n",
      "         -1.4235e-01, -7.8000e-02,  7.8721e-02, -2.2291e-01,  1.1244e-01,\n",
      "         -8.1493e-02, -2.0198e-01,  4.5191e-02, -1.6601e-01, -2.8455e-04,\n",
      "         -3.5163e-02, -1.5974e-01, -2.0699e-01,  0.0000e+00,  0.0000e+00],\n",
      "        [-2.3361e-01, -5.8199e-02, -8.5951e-02,  6.8059e-02, -1.4637e-01,\n",
      "         -2.2549e-01,  4.5417e-02,  9.6767e-02, -1.1949e-01, -1.4047e-01,\n",
      "          6.3362e-02, -1.6352e-01,  1.0398e-01, -2.2773e-01, -4.4321e-02,\n",
      "          1.3218e-01,  4.6037e-02,  1.9793e-01,  0.0000e+00,  0.0000e+00],\n",
      "        [ 1.0974e-02, -1.5152e-01, -7.4364e-02, -1.3702e-01,  1.7463e-01,\n",
      "          1.4996e-01, -1.1702e-01,  1.2847e-02, -1.4778e-01,  1.4028e-01,\n",
      "         -9.8741e-02, -1.0337e-01, -1.6970e-01,  1.9440e-01, -2.6401e-02,\n",
      "         -4.1127e-03,  1.2558e-01,  2.1575e-01,  1.8136e-01,  0.0000e+00],\n",
      "        [-1.3983e-01, -1.9934e-01, -1.2026e-01,  4.3217e-02,  1.9284e-01,\n",
      "         -1.7600e-01, -1.9674e-01, -1.7608e-01,  1.6265e-01,  4.5266e-02,\n",
      "          1.0853e-01, -1.3823e-02,  9.4406e-02, -2.3656e-02,  1.9091e-01,\n",
      "         -9.1051e-02,  2.2586e-01,  3.0223e-02,  7.6237e-02,  0.0000e+00],\n",
      "        [-2.1627e-01,  7.8118e-02,  1.1663e-01,  5.9895e-02, -5.0798e-02,\n",
      "         -1.9500e-02,  1.6964e-01, -1.3028e-02, -1.2359e-01, -4.3225e-02,\n",
      "          1.9178e-01, -6.6490e-02,  1.6548e-01,  1.7201e-01, -9.3816e-03,\n",
      "          1.3332e-01, -4.2539e-02, -1.7137e-01, -1.5375e-01,  0.0000e+00],\n",
      "        [ 1.3283e-01, -1.2986e-01,  8.5930e-02,  1.8123e-01,  2.0819e-01,\n",
      "          5.8663e-02,  1.3774e-01, -1.0872e-03,  8.9729e-02,  1.0884e-01,\n",
      "          5.4370e-02,  5.1579e-02, -1.4246e-02, -2.2220e-01, -1.6691e-02,\n",
      "          1.2408e-01,  3.2898e-02,  5.3984e-02,  4.0095e-02, -2.0088e-01],\n",
      "        [-2.0166e-01, -1.5698e-01,  1.8794e-01,  2.1285e-01, -1.8810e-01,\n",
      "         -1.8665e-01,  1.5107e-01,  6.7409e-02, -2.4931e-02, -5.9712e-02,\n",
      "         -2.0025e-01, -2.1659e-01,  7.6777e-02, -1.6531e-01,  7.5746e-02,\n",
      "         -8.9685e-02,  5.0067e-02, -1.1832e-01,  1.2719e-01, -3.5516e-02]],\n",
      "       requires_grad=True)\n"
     ]
    }
   ],
   "source": [
    "print(model.layers[5].weight)"
   ]
  },
  {
   "cell_type": "code",
   "execution_count": 230,
   "metadata": {},
   "outputs": [
    {
     "name": "stdout",
     "output_type": "stream",
     "text": [
      "Loss: 0.1641933023929596\n"
     ]
    }
   ],
   "source": [
    "for i in range(epochs):\n",
    "    y_pred = model(x)\n",
    "    loss = F.mse_loss(y_pred, y_real)\n",
    "    optim.zero_grad()\n",
    "    loss.backward()\n",
    "    optim.step()\n",
    "print(\"Loss:\", loss.item())"
   ]
  },
  {
   "cell_type": "code",
   "execution_count": 231,
   "metadata": {},
   "outputs": [
    {
     "name": "stdout",
     "output_type": "stream",
     "text": [
      "Parameter containing:\n",
      "tensor([[ 9.8961e-01,  1.1684e-01,  7.1409e-02,  1.1846e-01,  1.9196e-02,\n",
      "          8.0293e-02, -8.0308e-02, -6.4828e-02,  6.1465e-02, -1.4453e-01,\n",
      "         -4.8063e-02,  1.5090e-01,  7.1782e-03,  9.3539e-02,  5.5773e-02,\n",
      "         -5.1169e-02, -2.7981e-02,  5.2644e-03,  1.5961e-01, -1.3182e-01],\n",
      "        [ 8.9619e-02,  1.0210e+00,  7.8777e-02,  1.0878e-01,  1.2618e-02,\n",
      "          8.4600e-02, -8.0633e-02, -6.5061e-02,  6.1697e-02, -1.5741e-01,\n",
      "         -4.9691e-02,  1.5787e-01,  2.0314e-03,  1.0104e-01,  5.8417e-02,\n",
      "         -6.1539e-02, -3.1300e-02,  1.2225e-02,  1.6842e-01, -1.3105e-01],\n",
      "        [ 9.1263e-02,  1.2246e-01,  9.7824e-01,  1.2456e-01,  1.9880e-02,\n",
      "          9.5953e-02, -7.4527e-02, -7.6565e-02,  6.0686e-02, -1.7221e-01,\n",
      "         -5.0984e-02,  1.6488e-01,  1.1754e-03,  8.8362e-02,  6.4483e-02,\n",
      "         -6.3099e-02, -3.4460e-02,  1.7441e-02,  1.6932e-01, -1.3428e-01],\n",
      "        [ 7.6079e-02,  1.0784e-01,  7.3396e-02,  1.0180e+00,  1.4933e-02,\n",
      "          1.0393e-01, -6.8165e-02, -8.5186e-02,  7.1600e-02, -1.8567e-01,\n",
      "         -6.6199e-02,  1.7957e-01,  1.1311e-02,  7.5662e-02,  6.9355e-02,\n",
      "         -8.1780e-02, -4.2275e-02,  3.0920e-02,  1.5927e-01, -1.4094e-01],\n",
      "        [ 1.4699e-01, -3.2642e-02, -1.1718e-01,  2.3379e-01, -4.8247e-02,\n",
      "         -2.9651e-02,  5.6698e-02,  2.3662e-02, -8.9662e-02, -2.1040e-01,\n",
      "          9.0147e-02,  1.4554e-01, -1.0224e-01,  6.7144e-02, -7.5967e-02,\n",
      "         -8.9193e-02, -2.7432e-02,  6.3964e-02,  1.5061e-02,  5.8347e-02],\n",
      "        [ 4.1556e-02, -2.7524e-01, -3.8493e-01, -1.5246e-01, -9.5253e-02,\n",
      "         -3.4194e-02,  1.9487e-02,  7.7860e-02,  3.1484e-04,  1.1165e-01,\n",
      "         -6.3610e-03, -4.1313e-02, -8.2957e-03, -1.2072e-01,  5.7060e-03,\n",
      "          1.5755e-02,  6.0400e-02, -2.4036e-02, -1.4826e-01,  4.7542e-02],\n",
      "        [ 6.0338e-02,  4.0982e-01,  2.9173e-01,  3.7678e-01, -3.2116e-01,\n",
      "          1.3202e-01, -1.0839e-01, -1.8205e-01,  8.5578e-02,  3.2182e-03,\n",
      "         -9.1185e-02, -1.8214e-02,  7.9071e-02,  9.1634e-02,  1.0947e-01,\n",
      "          6.1585e-02,  1.6868e-03, -5.4467e-02,  2.7984e-01, -1.5628e-01],\n",
      "        [-4.4953e-02,  3.4105e-03,  7.2092e-02, -4.2398e-01, -1.1736e-01,\n",
      "         -3.3786e-02, -1.5452e-02,  5.3621e-02,  5.0861e-02,  2.7861e-01,\n",
      "         -5.1489e-02, -1.8947e-01,  8.7313e-02, -1.2662e-01,  2.3324e-02,\n",
      "          1.2691e-01,  6.5832e-02, -9.6870e-02, -1.0645e-01,  2.0137e-03],\n",
      "        [-1.3495e-01, -5.9471e-02,  5.3947e-02, -4.0599e-01,  1.3761e-01,\n",
      "         -1.1288e-02, -2.6054e-01, -6.4914e-02, -3.8408e-02,  1.7379e-01,\n",
      "          6.7096e-02, -1.3568e-01, -1.4167e-03, -3.1517e-02, -9.6648e-02,\n",
      "          6.1355e-02, -1.3204e-02, -1.5154e-02, -2.1674e-01,  1.1248e-01],\n",
      "        [ 2.0051e-01, -4.1615e-01, -4.9795e-02, -3.1771e-01,  1.5710e-01,\n",
      "          1.0951e-01, -2.6518e-01,  1.1624e-01,  5.3326e-02,  2.6271e-01,\n",
      "         -5.0431e-02, -1.8083e-01,  9.1937e-02, -1.3226e-01,  2.5124e-02,\n",
      "          1.2176e-01,  6.7950e-02, -9.5397e-02, -1.1186e-01,  1.4479e-03],\n",
      "        [ 1.8965e-01,  4.2394e-01,  2.1039e-01,  1.4849e-01, -1.8908e-02,\n",
      "          2.3834e-01, -1.4262e-01, -1.5696e-01,  7.0840e-02, -1.0930e-01,\n",
      "         -2.1415e-02,  8.8625e-02,  2.1308e-02,  1.5345e-01,  1.9167e-02,\n",
      "         -1.6364e-04, -4.5004e-02, -1.1446e-02,  1.9775e-01, -1.4154e-01],\n",
      "        [ 1.1544e-01, -2.5680e-02, -3.5163e-01, -2.5239e-01,  4.3364e-02,\n",
      "         -1.0846e-01, -7.7494e-02,  1.5459e-01,  1.4594e-01,  1.9525e-01,\n",
      "         -3.7562e-02, -1.1231e-01, -5.8617e-02, -1.5721e-01, -1.3523e-01,\n",
      "          7.9053e-02,  1.7356e-01, -2.3663e-02, -1.0736e-01, -3.2303e-03],\n",
      "        [ 2.1351e-02,  2.5669e-02,  1.0435e-02,  3.6118e-02, -1.6388e-01,\n",
      "         -1.4399e-01,  1.4680e-02,  2.1989e-01, -3.1256e-01,  1.3092e-02,\n",
      "         -4.4720e-02, -8.0622e-02, -3.8378e-02, -1.8760e-01, -1.0805e-02,\n",
      "         -1.3012e-01, -1.2596e-01, -1.1748e-01, -2.8146e-02,  1.2839e-01],\n",
      "        [-2.6274e-01, -1.3323e-01, -2.1096e-01, -6.7419e-02, -1.5296e-01,\n",
      "         -2.4097e-01,  7.7328e-02,  1.7168e-01, -1.2173e-01,  5.8653e-02,\n",
      "          4.3007e-02, -2.8710e-01,  1.2923e-01, -2.9528e-01, -3.8540e-02,\n",
      "          1.6023e-01,  5.0834e-02,  1.7609e-01, -1.4143e-01,  8.3290e-02],\n",
      "        [-5.4029e-02, -2.3295e-01, -6.1555e-02, -1.3050e-01,  1.1414e-01,\n",
      "          7.7916e-02, -4.5502e-03,  1.2756e-01, -2.0497e-01,  2.2964e-02,\n",
      "         -3.1615e-02,  5.6574e-03, -2.1201e-01,  1.4583e-01, -8.9037e-02,\n",
      "         -1.1684e-01,  8.7938e-02,  3.0176e-01,  2.6135e-02,  1.2607e-01],\n",
      "        [-1.0798e-01, -1.4668e-01,  5.0103e-02,  7.7202e-02,  1.0776e-01,\n",
      "         -1.5857e-01, -1.2371e-01, -1.1518e-01,  9.0276e-02, -2.0071e-01,\n",
      "          1.4079e-01,  1.6944e-01,  5.7528e-03,  2.5943e-02,  1.3849e-01,\n",
      "         -2.2221e-01,  1.4131e-01,  1.2920e-01,  5.5551e-02,  2.8707e-02],\n",
      "        [-2.5023e-01, -1.2041e-02, -5.4610e-02, -8.2170e-02, -5.8994e-02,\n",
      "         -4.7914e-02,  1.7778e-01,  5.5255e-02, -1.0617e-01,  1.6450e-01,\n",
      "          1.4577e-01, -1.9847e-01,  2.0361e-01,  8.8190e-02,  4.3753e-03,\n",
      "          1.6211e-01, -4.2629e-02, -1.6356e-01, -2.5414e-01,  6.1259e-02],\n",
      "        [ 2.3208e-01,  1.5533e-02,  2.5966e-01,  2.1455e-01,  1.1775e-01,\n",
      "          8.9400e-02,  1.3748e-01, -4.3014e-02,  4.8447e-02, -1.5570e-01,\n",
      "          7.9230e-02,  2.4285e-01, -7.7924e-02, -5.2915e-02, -2.6824e-02,\n",
      "         -2.4017e-02, -5.7766e-02,  1.5637e-01,  1.6808e-01, -2.0281e-01],\n",
      "        [-8.8085e-03,  5.7390e-02,  1.7557e-01,  2.5973e-01, -1.0872e-01,\n",
      "         -4.1875e-02,  2.6930e-02, -1.2126e-01,  6.3640e-02, -5.7478e-02,\n",
      "         -2.6827e-01, -2.2115e-01,  1.4528e-01, -7.2435e-02,  1.7393e-01,\n",
      "         -1.9428e-02,  5.3196e-02, -1.6660e-01,  3.6361e-01, -1.8830e-01]],\n",
      "       requires_grad=True)\n"
     ]
    }
   ],
   "source": [
    "print(model.layers[5].weight)"
   ]
  },
  {
   "cell_type": "code",
   "execution_count": null,
   "metadata": {},
   "outputs": [],
   "source": []
  }
 ],
 "metadata": {
  "kernelspec": {
   "display_name": "Python 3",
   "language": "python",
   "name": "python3"
  },
  "language_info": {
   "codemirror_mode": {
    "name": "ipython",
    "version": 3
   },
   "file_extension": ".py",
   "mimetype": "text/x-python",
   "name": "python",
   "nbconvert_exporter": "python",
   "pygments_lexer": "ipython3",
   "version": "3.12.5"
  }
 },
 "nbformat": 4,
 "nbformat_minor": 2
}
