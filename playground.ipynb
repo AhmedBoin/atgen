{
 "cells": [
  {
   "cell_type": "markdown",
   "metadata": {},
   "source": [
    "# Adaptive Tensor Genetic Evolutionary Network\n",
    "\n",
    "## Introduction\n",
    "\n",
    "The **Adaptive Tensor Genetic Evolutionary Network (ATGEN)** is an innovative approach in neural network design that combines traditional neural networks with genetic algorithms. The core idea is to dynamically evolve the structure and parameters of the neural network during training, thereby creating a highly adaptable model capable of learning complex patterns more efficiently.\n",
    "\n",
    "### Key Features\n",
    "\n",
    "1. **Dynamic Network Evolution**: The network's structure is not fixed; it can evolve over time. Layers and neurons can be added or removed based on a set of evolutionary rules, which allows the network to adapt its complexity to the task at hand.\n",
    "\n",
    "2. **Genetic Algorithm-Based Training**: The network employs a genetic algorithm to evolve its weights and structure. This involves selecting parent networks based on their fitness, performing crossover to combine features of two parents, and applying mutations to introduce new variations.\n",
    "\n",
    "3. **Adaptive Activation Functions**: The network supports the dynamic adjustment of activation functions. This adaptability allows the model to switch from linear to non-linear transformations seamlessly, providing greater flexibility in learning different types of data distributions.\n",
    "\n",
    "4. **Neuron and Weight Management**: ATGEN includes mechanisms to add and remove neurons and weights in each layer. This helps in optimizing the network size and performance during the evolution process.\n",
    "\n",
    "## Implementation Overview\n",
    "\n",
    "### Components\n",
    "\n",
    "- **Linear Layer (`Linear` class)**: A custom linear layer with dynamic neuron management, including methods to add, remove, and initialize neurons and weights.\n",
    "- **Activation Switch (`ActiSwitch` class)**: A module that allows smooth transitions between different activation functions, controlled by a learnable parameter.\n",
    "- **Evolutionary Network (`ATNetwork` class)**: A neural network that evolves its structure and weights based on predefined rules and random mutations.\n",
    "- **Genetic Algorithm (`GeneticAlgorithm` class)**: A framework that orchestrates the evolutionary process, handling fitness evaluation, selection, crossover, mutation, and pruning of neurons.\n",
    "\n",
    "### Getting Started\n",
    "\n",
    "Below, we provide a step-by-step implementation of the Adaptive Tensor Genetic Evolution Network and demonstrate its unique capabilities through various experiments and tests. The notebook is divided into sections covering the core components, training routines, and network evolution strategies.\n",
    "\n",
    "---\n",
    "\n",
    "Let's dive into the implementation details and see how we can build a network that learns to evolve!"
   ]
  },
  {
   "cell_type": "code",
   "execution_count": 1,
   "metadata": {},
   "outputs": [],
   "source": [
    "# Import necessary libraries\n",
    "import torch\n",
    "from torch import nn\n",
    "import torch.nn.functional as F\n",
    "from torch.optim import AdamW\n",
    "\n",
    "# Import utility packages\n",
    "import math\n",
    "import copy\n",
    "import random\n",
    "from typing import List, Tuple\n",
    "\n",
    "# Import custom modules from the same folder\n",
    "from atgen.layers import Linear, Flatten, Conv2D, MaxPool2D, ActiSwitch, Pass\n",
    "from atgen.network import ATNetwork\n",
    "from atgen.memory import ReplayBuffer\n",
    "from atgen.utils import activation_functions\n",
    "from atgen.ga import ATGEN\n",
    "\n",
    "# Additional visualization or utility packages, if needed\n",
    "# from torchsummary import summary\n",
    "# import gymnasium as gym\n"
   ]
  },
  {
   "cell_type": "markdown",
   "metadata": {},
   "source": [
    "## The `Layer` Module"
   ]
  },
  {
   "cell_type": "markdown",
   "metadata": {},
   "source": [
    "### 1. `ActiSwitch` with ReLU Activation\n",
    "\n",
    "The `ActiSwitch` class is tested with the `nn.Tanh()` activation function:\n",
    "\n",
    "- **Input**: A tensor of shape `(5, 4, 3, 2)` with random values.\n",
    "- **Output**: The resulting tensor after applying the activation function.\n",
    "- **Assertions**:\n",
    "  - The shape of the output tensor should match the shape of the input tensor.\n",
    "  - Check if the input and output tensors have the same values (i.e., the output tensor should be equal to the input tensor)."
   ]
  },
  {
   "cell_type": "code",
   "execution_count": 2,
   "metadata": {},
   "outputs": [
    {
     "name": "stdout",
     "output_type": "stream",
     "text": [
      "Input: torch.Size([5, 4, 3, 2])\n",
      "Output: torch.Size([5, 4, 3, 2])\n",
      "No change in data: False\n"
     ]
    }
   ],
   "source": [
    "# 1. Testing ActiSwitch with ReLU Activation\n",
    "linear_pass_relu = ActiSwitch(nn.Tanh)\n",
    "x = torch.randn(5, 4, 3, 2)\n",
    "output: torch.Tensor = linear_pass_relu(x)\n",
    "\n",
    "print(f\"Input: {x.shape}\")\n",
    "print(f\"Output: {output.shape}\")\n",
    "print(f\"No change in data: {(x==output).all().item()}\")"
   ]
  },
  {
   "cell_type": "markdown",
   "metadata": {},
   "source": [
    "### 2. `Linear` Layer Initialization\n",
    "\n",
    "The `Linear` layer is tested for its weight and bias initialization:\n",
    "\n",
    "- **Initial State**:\n",
    "  - Display the initial weights and biases of the `Linear` layer."
   ]
  },
  {
   "cell_type": "code",
   "execution_count": 3,
   "metadata": {},
   "outputs": [
    {
     "name": "stdout",
     "output_type": "stream",
     "text": [
      "Initial weights:\n",
      "Parameter containing:\n",
      "tensor([[-0.1652, -0.5730, -0.1794],\n",
      "        [ 0.0661, -0.2503, -0.4106]], requires_grad=True)\n",
      "Initial bias:\n",
      "Parameter containing:\n",
      "tensor([ 0.4073, -0.3337], requires_grad=True)\n"
     ]
    }
   ],
   "source": [
    "# 2. Testing Linear Layer Initialization\n",
    "linear = Linear(in_features=3, out_features=2)\n",
    "\n",
    "print(\"Initial weights:\")\n",
    "print(linear.weight)\n",
    "print(\"Initial bias:\")\n",
    "print(linear.bias)"
   ]
  },
  {
   "cell_type": "markdown",
   "metadata": {},
   "source": [
    "### 3. Adding a Neuron to the `Linear` Layer\n",
    "\n",
    "Test the addition of a new output neuron:\n",
    "\n",
    "- **Action**: Add a new output neuron to the `Linear` layer.\n",
    "- **Assertions**:\n",
    "  - Display the updated weights and biases to verify the addition."
   ]
  },
  {
   "cell_type": "code",
   "execution_count": 4,
   "metadata": {},
   "outputs": [
    {
     "name": "stdout",
     "output_type": "stream",
     "text": [
      "After adding a new output neuron:\n",
      "Parameter containing:\n",
      "tensor([[-0.1652, -0.5730, -0.1794],\n",
      "        [ 0.0661, -0.2503, -0.4106],\n",
      "        [-0.2259,  0.4247,  0.0819]], requires_grad=True)\n",
      "Parameter containing:\n",
      "tensor([ 0.4073, -0.3337, -0.4422], requires_grad=True)\n"
     ]
    }
   ],
   "source": [
    "# 3. Adding a Neuron\n",
    "linear.add_neuron()\n",
    "print(\"After adding a new output neuron:\")\n",
    "print(linear.weight)\n",
    "print(linear.bias)"
   ]
  },
  {
   "cell_type": "markdown",
   "metadata": {},
   "source": [
    "### 4. Increasing the Input Dimension of the `Linear` Layer\n",
    "\n",
    "Test the increase of the input dimension:\n",
    "\n",
    "- **Action**: Increase the input dimension of the `Linear` layer.\n",
    "- **Assertions**:\n",
    "  - Display the updated weights and biases to verify the change in input dimension."
   ]
  },
  {
   "cell_type": "code",
   "execution_count": 5,
   "metadata": {},
   "outputs": [
    {
     "name": "stdout",
     "output_type": "stream",
     "text": [
      "After increasing the input dimension:\n",
      "Parameter containing:\n",
      "tensor([[-0.1652, -0.5730, -0.1794,  0.0000],\n",
      "        [ 0.0661, -0.2503, -0.4106,  0.0000],\n",
      "        [-0.2259,  0.4247,  0.0819,  0.0000]], requires_grad=True)\n",
      "Parameter containing:\n",
      "tensor([ 0.4073, -0.3337, -0.4422], requires_grad=True)\n"
     ]
    }
   ],
   "source": [
    "# 4. Increasing Input Dimension\n",
    "linear.add_weight()\n",
    "print(\"After increasing the input dimension:\")\n",
    "print(linear.weight)\n",
    "print(linear.bias)"
   ]
  },
  {
   "cell_type": "markdown",
   "metadata": {},
   "source": [
    "### 5. Removing a Neuron from the `Linear` Layer\n",
    "\n",
    "Test the removal of an output neuron:\n",
    "\n",
    "- **Action**: Remove an output neuron from the `Linear` layer.\n",
    "- **Assertions**:\n",
    "  - Display the updated weights and biases to verify the removal."
   ]
  },
  {
   "cell_type": "code",
   "execution_count": 6,
   "metadata": {},
   "outputs": [
    {
     "name": "stdout",
     "output_type": "stream",
     "text": [
      "After removing an output neuron:\n",
      "Parameter containing:\n",
      "tensor([[ 0.0661, -0.2503, -0.4106,  0.0000],\n",
      "        [-0.2259,  0.4247,  0.0819,  0.0000]], requires_grad=True)\n",
      "Parameter containing:\n",
      "tensor([-0.3337, -0.4422], requires_grad=True)\n"
     ]
    }
   ],
   "source": [
    "# 5. Removing a Neuron\n",
    "linear.remove_neuron(0)  # Assumes such a method exists\n",
    "print(\"After removing an output neuron:\")\n",
    "print(linear.weight)\n",
    "print(linear.bias)"
   ]
  },
  {
   "cell_type": "markdown",
   "metadata": {},
   "source": [
    "### 6. Removing an Input Weight from the `Linear` Layer\n",
    "\n",
    "Test the removal of an input weight:\n",
    "\n",
    "- **Action**: Remove an input weight from the `Linear` layer.\n",
    "- **Assertions**:\n",
    "  - Display the updated weights and biases to verify the removal."
   ]
  },
  {
   "cell_type": "code",
   "execution_count": 7,
   "metadata": {},
   "outputs": [
    {
     "name": "stdout",
     "output_type": "stream",
     "text": [
      "After removing an input weight:\n",
      "Parameter containing:\n",
      "tensor([[-0.2503, -0.4106,  0.0000],\n",
      "        [ 0.4247,  0.0819,  0.0000]], requires_grad=True)\n",
      "Parameter containing:\n",
      "tensor([-0.3337, -0.4422], requires_grad=True)\n"
     ]
    }
   ],
   "source": [
    "# 6. Removing an Input Weight\n",
    "linear.remove_weight(0)  # Assumes such a method exists\n",
    "print(\"After removing an input weight:\")\n",
    "print(linear.weight)\n",
    "print(linear.bias)"
   ]
  },
  {
   "cell_type": "markdown",
   "metadata": {},
   "source": [
    "### 7. Identity Initialization of the `Linear` Layer\n",
    "\n",
    "Test the identity initialization of the `Linear` layer:\n",
    "\n",
    "- **Action**: Initialize a `Linear` layer with identity weights.\n",
    "- **Assertions**:\n",
    "  - Display the weights and biases to verify the identity initialization."
   ]
  },
  {
   "cell_type": "code",
   "execution_count": 8,
   "metadata": {},
   "outputs": [
    {
     "name": "stdout",
     "output_type": "stream",
     "text": [
      "Weights after identity initialization:\n",
      "Parameter containing:\n",
      "tensor([[1., 0., 0.],\n",
      "        [0., 1., 0.],\n",
      "        [0., 0., 1.]], requires_grad=True)\n",
      "Bias after identity initialization:\n",
      "Parameter containing:\n",
      "tensor([0., 0., 0.], requires_grad=True)\n"
     ]
    }
   ],
   "source": [
    "# 7. Testing Identity Initialization\n",
    "identity_layer = Linear.init_identity_layer(size=3)\n",
    "print(\"Weights after identity initialization:\")\n",
    "print(identity_layer.weight)\n",
    "print(\"Bias after identity initialization:\")\n",
    "print(identity_layer.bias)"
   ]
  },
  {
   "cell_type": "markdown",
   "metadata": {},
   "source": [
    "## Understanding the Identity Matrix in Neural Networks\n",
    "\n",
    "### Identity Matrix\n",
    "\n",
    "In the context of neural networks, the identity matrix is often used as an initialization method for weights in newly added layers. The identity matrix is a square matrix with ones on the main diagonal and zeros elsewhere. It has the property that when used in matrix multiplication, it does not alter the original matrix:\n",
    "\n",
    "$$\n",
    "I_n = \\begin{bmatrix}\n",
    "1 & 0 & 0 & 0 & 0 \\\\\n",
    "0 & 1 & 0 & 0 & 0 \\\\\n",
    "0 & 0 & 1 & 0 & 0 \\\\\n",
    "0 & 0 & 0 & 1 & 0 \\\\\n",
    "0 & 0 & 0 & 0 & 1 \n",
    "\\end{bmatrix}\n",
    "$$\n",
    "\n",
    "where $I_n$ is the identity matrix of size $n \\times n$. This matrix is called the identity matrix because it acts as a multiplicative identity in matrix multiplication.\n",
    "\n",
    "### Matrix Multiplication with the Identity Matrix\n",
    "\n",
    "When you multiply a matrix $A$ by an identity matrix $I$, the result is the matrix $A$ itself:\n",
    "\n",
    "$$\n",
    "A \\times I = A\n",
    "$$\n",
    "\n",
    "For example, consider a matrix $A$:\n",
    "\n",
    "$$\n",
    "A = \\begin{bmatrix}\n",
    "a & b \\\\\n",
    "c & d\n",
    "\\end{bmatrix}\n",
    "$$\n",
    "\n",
    "Multiplying $A$ by the $2 \\times 2$ identity matrix $I$:\n",
    "\n",
    "$$\n",
    "A \\times I_2 = \\begin{bmatrix}\n",
    "a & b \\\\\n",
    "c & d\n",
    "\\end{bmatrix}\n",
    "\\times\n",
    "\\begin{bmatrix}\n",
    "1 & 0 \\\\\n",
    "0 & 1\n",
    "\\end{bmatrix}\n",
    "=\n",
    "\\begin{bmatrix}\n",
    "a & b \\\\\n",
    "c & d\n",
    "\\end{bmatrix}\n",
    "$$\n",
    "\n",
    "The result is $A$, demonstrating that the identity matrix does not change the matrix it multiplies.\n",
    "\n",
    "### Usage in Neural Networks\n",
    "\n",
    "In neural networks, initializing weights with an identity matrix ensures that newly added layers do not alter the input significantly when first added. This can be particularly useful when experimenting with network architectures or adding new neurons, as it maintains stability in the output until training adjusts the weights."
   ]
  },
  {
   "cell_type": "markdown",
   "metadata": {},
   "source": [
    "## Handling Activation Functions in Deep Networks\n",
    "\n",
    "As neural networks become deeper, the introduction of new layers can affect the output of the network due to the activation functions applied. Even if the new layers are initialized with identity matrices, which theoretically do not alter the output directly, activation functions introduce non-linearity that can change the network's behavior.\n",
    "\n",
    "### The Problem with Activation Functions\n",
    "\n",
    "When adding new layers with identity matrix initialization, the direct output of these layers may remain unchanged. However, if the activation functions applied to these layers are non-linear, they can alter the output in ways that affect the network's overall performance. This introduces a challenge: ensuring that the output remains consistent while still benefiting from the added layers.\n",
    "\n",
    "### Solution: Smooth Transition with Blending Activation Functions\n",
    "\n",
    "To address this issue, a custom approach is used to blend linear and non-linear transformations. The idea is to smoothly transition between a linear pass-through and a non-linear activation function, based on a learnable weighting factor. This ensures that new layers can be added without introducing abrupt changes in output.\n",
    "\n",
    "One effective solution is to use a class that blends linear and non-linear activations. This class provides a learnable parameter that adjusts the balance between the linear transformation and the non-linear activation function. By controlling this parameter, the network can maintain the output consistency while allowing the flexibility to benefit from the additional layers.\n",
    "\n",
    "### Key Points\n",
    "\n",
    "- **Identity Matrix**: Ensures that additional layers do not affect the output directly but does not account for changes introduced by activation functions.\n",
    "- **Linear and Semi-Linear Activation Functions**: Maintain output consistency while adding layers, avoiding undesirable performance changes.\n",
    "- **Blending Mechanism**: Allows a smooth transition between linear and non-linear functions, controlled by a learnable parameter, to ensure the network adapts effectively.\n",
    "\n",
    "This approach helps in maintaining the performance and output consistency of deep networks while accommodating new layers and activation functions.\n",
    "```​⬤"
   ]
  },
  {
   "cell_type": "code",
   "execution_count": 9,
   "metadata": {},
   "outputs": [
    {
     "name": "stdout",
     "output_type": "stream",
     "text": [
      "\u001b[1m\u001b[38;5;153mModel Summary\u001b[0m\u001b[1m:\n",
      "----------------------------------------------------------------------------------------------------\n",
      "Layer      Type           Output Shape                  Parameters     Activation     \n",
      "----------------------------------------------------------------------------------------------------\n",
      "Layer 1    Linear         (batch_size, 3)               18             ActiSwitch(ReLU, 100.00%)\n",
      "Layer 2    Linear         (batch_size, 1)               4              Pass           \n",
      "----------------------------------------------------------------------------------------------------\n",
      "\u001b[38;5;153mTotal Parameters:        \u001b[0m\u001b[1m22             \u001b[0m\n"
     ]
    }
   ],
   "source": [
    "# Helper loss function\n",
    "def loss(x1: torch.Tensor, x2: torch.Tensor):\n",
    "    val = torch.abs((x2 / x1).mean() - 1) * 100\n",
    "    print(f\"loss = {val:.10f}%\")\n",
    "\n",
    "# Define the Custom Network\n",
    "class CustomNetwork(ATNetwork):\n",
    "    def __init__(self):\n",
    "        # Do not call the parent __init__ with layers; initialize manually\n",
    "        super(ATNetwork, self).__init__()\n",
    "        self.layers = nn.ModuleList([\n",
    "            Linear(5, 3),\n",
    "            Linear(3, 1)\n",
    "        ])\n",
    "        self.activation = nn.ModuleList([\n",
    "            ActiSwitch(),\n",
    "            Pass()\n",
    "        ])\n",
    "        self.backprob_phase = True\n",
    "        self.default_activation = nn.ReLU()\n",
    "\n",
    "# Initialize the model and print the summary\n",
    "model = CustomNetwork()\n",
    "# summary(model, input_size=(5,))\n",
    "model.summary()\n",
    "\n",
    "# You can also initialize the model simply like next\n",
    "model = ATNetwork(5, 3, 1)\n",
    "\n",
    "# Test the network with random input\n",
    "x = torch.randn(4, 5)\n",
    "y1: torch.Tensor = model(x)"
   ]
  },
  {
   "cell_type": "code",
   "execution_count": 10,
   "metadata": {},
   "outputs": [
    {
     "name": "stdout",
     "output_type": "stream",
     "text": [
      "\u001b[1m\u001b[38;5;153mModel Summary\u001b[0m\u001b[1m:\n",
      "----------------------------------------------------------------------------------------------------\n",
      "Layer      Type           Output Shape                  Parameters     Activation     \n",
      "----------------------------------------------------------------------------------------------------\n",
      "Layer 1    Linear         (batch_size, 5)               30             ActiSwitch(ReLU, 0.00  %)\n",
      "Layer 2    Linear         (batch_size, 5)               30             ActiSwitch(ReLU, 0.00  %)\n",
      "Layer 3    Linear         (batch_size, 5)               30             ActiSwitch(ReLU, 0.00  %)\n",
      "Layer 4    Linear         (batch_size, 3)               18             ActiSwitch(ReLU, 0.00  %)\n",
      "Layer 5    Linear         (batch_size, 3)               12             ActiSwitch(ReLU, 0.00  %)\n",
      "Layer 6    Linear         (batch_size, 3)               12             ActiSwitch(ReLU, 0.00  %)\n",
      "Layer 7    Linear         (batch_size, 3)               12             ActiSwitch(ReLU, 0.00  %)\n",
      "Layer 8    Linear         (batch_size, 3)               12             ActiSwitch(ReLU, 0.00  %)\n",
      "Layer 9    Linear         (batch_size, 3)               12             ActiSwitch(ReLU, 0.00  %)\n",
      "Layer 10   Linear         (batch_size, 3)               12             ActiSwitch(ReLU, 0.00  %)\n",
      "Layer 11   Linear         (batch_size, 3)               12             ActiSwitch(ReLU, 0.00  %)\n",
      "Layer 12   Linear         (batch_size, 1)               4              Pass           \n",
      "----------------------------------------------------------------------------------------------------\n",
      "\u001b[38;5;153mTotal Parameters:        \u001b[0m\u001b[1m196            \u001b[0m\n"
     ]
    }
   ],
   "source": [
    "# Evolve the network by inserting new 10 layers\n",
    "for _ in range(10):\n",
    "    model.evolve_network()\n",
    "# summary(model, input_size=(5,))\n",
    "model.summary()"
   ]
  },
  {
   "cell_type": "code",
   "execution_count": 11,
   "metadata": {},
   "outputs": [
    {
     "name": "stdout",
     "output_type": "stream",
     "text": [
      "\u001b[1m\u001b[38;5;153mModel Summary\u001b[0m\u001b[1m:\n",
      "----------------------------------------------------------------------------------------------------\n",
      "Layer      Type           Output Shape                  Parameters     Activation     \n",
      "----------------------------------------------------------------------------------------------------\n",
      "Layer 1    Linear         (batch_size, 42)              252            ActiSwitch(ReLU, 0.00  %)\n",
      "Layer 2    Linear         (batch_size, 61)              2623           ActiSwitch(ReLU, 0.00  %)\n",
      "Layer 3    Linear         (batch_size, 62)              3844           ActiSwitch(ReLU, 0.00  %)\n",
      "Layer 4    Linear         (batch_size, 42)              2646           ActiSwitch(ReLU, 0.00  %)\n",
      "Layer 5    Linear         (batch_size, 38)              1634           ActiSwitch(ReLU, 0.00  %)\n",
      "Layer 6    Linear         (batch_size, 51)              1989           ActiSwitch(ReLU, 0.00  %)\n",
      "Layer 7    Linear         (batch_size, 40)              2080           ActiSwitch(ReLU, 0.00  %)\n",
      "Layer 8    Linear         (batch_size, 51)              2091           ActiSwitch(ReLU, 0.00  %)\n",
      "Layer 9    Linear         (batch_size, 55)              2860           ActiSwitch(ReLU, 0.00  %)\n",
      "Layer 10   Linear         (batch_size, 50)              2800           ActiSwitch(ReLU, 0.00  %)\n",
      "Layer 11   Linear         (batch_size, 47)              2397           ActiSwitch(ReLU, 0.00  %)\n",
      "Layer 12   Linear         (batch_size, 1)               48             Pass           \n",
      "----------------------------------------------------------------------------------------------------\n",
      "\u001b[38;5;153mTotal Parameters:        \u001b[0m\u001b[1m25264          \u001b[0m\n"
     ]
    }
   ],
   "source": [
    "# Evolve layers by adding new 500 nodes to random layers\n",
    "for _ in range(500):\n",
    "    model.evolve_layer()\n",
    "# summary(model, input_size=(5,))\n",
    "model.summary()"
   ]
  },
  {
   "cell_type": "code",
   "execution_count": 12,
   "metadata": {},
   "outputs": [
    {
     "name": "stdout",
     "output_type": "stream",
     "text": [
      "tensor([[ 0.1514,  0.1514],\n",
      "        [ 0.0250,  0.0250],\n",
      "        [ 0.0641,  0.0641],\n",
      "        [-0.0042, -0.0042]], grad_fn=<CatBackward0>)\n",
      "loss = 0.0000000000%\n"
     ]
    }
   ],
   "source": [
    "# Print the concatenated results and loss\n",
    "y2: torch.Tensor = model(x)\n",
    "print(torch.cat((y1, y2), dim=1))  \n",
    "loss(y1, y2)\n"
   ]
  },
  {
   "cell_type": "code",
   "execution_count": 13,
   "metadata": {},
   "outputs": [
    {
     "name": "stdout",
     "output_type": "stream",
     "text": [
      "\u001b[1m\u001b[38;5;153mModel Summary\u001b[0m\u001b[1m:\n",
      "----------------------------------------------------------------------------------------------------\n",
      "Layer      Type           Output Shape                  Parameters     Activation     \n",
      "----------------------------------------------------------------------------------------------------\n",
      "Layer 1    Linear         (batch_size, 42)              252            ActiSwitch(ReLU, 0.00  %)\n",
      "Layer 2    Linear         (batch_size, 61)              2623           ActiSwitch(ReLU, 0.00  %)\n",
      "Layer 3    Linear         (batch_size, 62)              3844           ActiSwitch(ReLU, 0.00  %)\n",
      "Layer 4    Linear         (batch_size, 42)              2646           ActiSwitch(ReLU, 0.00  %)\n",
      "Layer 5    Linear         (batch_size, 38)              1634           ActiSwitch(ReLU, 0.00  %)\n",
      "Layer 6    Linear         (batch_size, 51)              1989           ActiSwitch(ReLU, 0.00  %)\n",
      "Layer 7    Linear         (batch_size, 40)              2080           ActiSwitch(ReLU, 0.00  %)\n",
      "Layer 8    Linear         (batch_size, 51)              2091           ActiSwitch(ReLU, 0.00  %)\n",
      "Layer 9    Linear         (batch_size, 55)              2860           ActiSwitch(ReLU, 0.00  %)\n",
      "Layer 10   Linear         (batch_size, 50)              2800           ActiSwitch(ReLU, 0.00  %)\n",
      "Layer 11   Linear         (batch_size, 47)              2397           ActiSwitch(ReLU, 0.00  %)\n",
      "Layer 12   Linear         (batch_size, 1)               48             Pass           \n",
      "----------------------------------------------------------------------------------------------------\n",
      "\u001b[38;5;153mTotal Parameters:        \u001b[0m\u001b[1m25264          \u001b[0m\n"
     ]
    }
   ],
   "source": [
    "# Get the output after evolution and pruning\n",
    "with torch.no_grad():\n",
    "    for layer in model.layers:\n",
    "        if isinstance(layer, Linear) or str(type(layer)) == \"<class 'layers.Linear'>\":\n",
    "            layer.weight.data *= 0.03\n",
    "            if layer.bias is not None:\n",
    "                layer.bias.data *= 0.03\n",
    "    # for layer in model.activation:\n",
    "    #     if isinstance(layer, ActiSwitch) or str(type(layer)) == \"<class 'layers.ActiSwitch'>\":\n",
    "    #         layer.weight.data.copy_(torch.tensor(1.0))\n",
    "\n",
    "model.prune(0.01)\n",
    "# summary(model, input_size=(5,))\n",
    "model.summary()"
   ]
  },
  {
   "cell_type": "markdown",
   "metadata": {},
   "source": [
    "### How Crossover works"
   ]
  },
  {
   "cell_type": "code",
   "execution_count": 14,
   "metadata": {},
   "outputs": [
    {
     "name": "stdout",
     "output_type": "stream",
     "text": [
      "\u001b[1m\u001b[38;5;153mModel Summary\u001b[0m\u001b[1m:\n",
      "----------------------------------------------------------------------------------------------------\n",
      "Layer      Type           Output Shape                  Parameters     Activation     \n",
      "----------------------------------------------------------------------------------------------------\n",
      "Layer 1    Linear         (batch_size, 42)              252            ActiSwitch(ReLU, 0.00  %)\n",
      "Layer 2    Linear         (batch_size, 61)              2623           ActiSwitch(ReLU, 0.00  %)\n",
      "Layer 3    Linear         (batch_size, 62)              3844           ActiSwitch(ReLU, 0.00  %)\n",
      "Layer 4    Linear         (batch_size, 42)              2646           ActiSwitch(ReLU, 0.00  %)\n",
      "Layer 5    Linear         (batch_size, 38)              1634           ActiSwitch(ReLU, 0.00  %)\n",
      "Layer 6    Linear         (batch_size, 51)              1989           ActiSwitch(ReLU, 0.00  %)\n",
      "Layer 7    Linear         (batch_size, 40)              2080           ActiSwitch(ReLU, 0.00  %)\n",
      "Layer 8    Linear         (batch_size, 51)              2091           ActiSwitch(ReLU, 0.00  %)\n",
      "Layer 9    Linear         (batch_size, 55)              2860           ActiSwitch(ReLU, 0.00  %)\n",
      "Layer 10   Linear         (batch_size, 50)              2800           ActiSwitch(ReLU, 0.00  %)\n",
      "Layer 11   Linear         (batch_size, 47)              2397           ActiSwitch(ReLU, 0.00  %)\n",
      "Layer 12   Linear         (batch_size, 1)               48             Pass           \n",
      "----------------------------------------------------------------------------------------------------\n",
      "\u001b[38;5;153mTotal Parameters:        \u001b[0m\u001b[1m25264          \u001b[0m\n"
     ]
    }
   ],
   "source": [
    "# Create parent networks with specified architectures\n",
    "parent1 = ATNetwork(10, 2, 5, 1)\n",
    "parent2 = ATNetwork(10, 2, 4, 3, 1)\n",
    "\n",
    "# Initialize the GeneticAlgorithm instance\n",
    "ga = ATGEN(population_size=10, layers=[8, 1, 4])\n",
    "\n",
    "# Perform crossover\n",
    "child = ga.crossover(parent1, parent2)\n",
    "\n",
    "# Print the child network architecture and parameters\n",
    "# summary(child, (10,))\n",
    "model.summary()\n",
    "\n",
    "# ga.run_generation(dummy_fitness_function, 10)"
   ]
  },
  {
   "cell_type": "code",
   "execution_count": 15,
   "metadata": {},
   "outputs": [
    {
     "name": "stdout",
     "output_type": "stream",
     "text": [
      "\u001b[1m\u001b[38;5;153mModel Summary\u001b[0m\u001b[1m:\n",
      "----------------------------------------------------------------------------------------------------\n",
      "Layer      Type           Output Shape                  Parameters     Activation     \n",
      "----------------------------------------------------------------------------------------------------\n",
      "Layer 1    Linear         (batch_size, 4)               8              ActiSwitch(ReLU, 0.00  %)\n",
      "Layer 2    Linear         (batch_size, 1)               5              Pass           \n",
      "----------------------------------------------------------------------------------------------------\n",
      "\u001b[38;5;153mTotal Parameters:        \u001b[0m\u001b[1m13             \u001b[0m\n"
     ]
    }
   ],
   "source": [
    "model = ATNetwork(1, 4, 1)\n",
    "optim = AdamW(model.parameters(), lr=0.01)\n",
    "# summary(model, (1,))\n",
    "model.summary()\n",
    "\n",
    "x = torch.randn(10, 1)\n",
    "y_real = torch.randn(10, 1)\n",
    "epochs = 1_000"
   ]
  },
  {
   "cell_type": "code",
   "execution_count": 16,
   "metadata": {},
   "outputs": [
    {
     "name": "stdout",
     "output_type": "stream",
     "text": [
      "Loss: 0.5993110537528992\n"
     ]
    }
   ],
   "source": [
    "for i in range(epochs):\n",
    "    y_pred = model(x)\n",
    "    loss = F.mse_loss(y_pred, y_real)\n",
    "    optim.zero_grad()\n",
    "    loss.backward()\n",
    "    optim.step()\n",
    "print(\"Loss:\", loss.item())\n"
   ]
  },
  {
   "cell_type": "code",
   "execution_count": 17,
   "metadata": {},
   "outputs": [
    {
     "name": "stdout",
     "output_type": "stream",
     "text": [
      "Loss: 0.5991665124893188\n"
     ]
    }
   ],
   "source": [
    "for i in range(epochs):\n",
    "    y_pred = model(x)\n",
    "    loss = F.mse_loss(y_pred, y_real)\n",
    "    optim.zero_grad()\n",
    "    loss.backward()\n",
    "    optim.step()\n",
    "print(\"Loss:\", loss.item())"
   ]
  },
  {
   "cell_type": "code",
   "execution_count": 18,
   "metadata": {},
   "outputs": [
    {
     "name": "stdout",
     "output_type": "stream",
     "text": [
      "\u001b[1m\u001b[38;5;153mModel Summary\u001b[0m\u001b[1m:\n",
      "----------------------------------------------------------------------------------------------------\n",
      "Layer      Type           Output Shape                  Parameters     Activation     \n",
      "----------------------------------------------------------------------------------------------------\n",
      "Layer 1    Linear         (batch_size, 19)              38             ActiSwitch(ReLU, 0.00  %)\n",
      "Layer 2    Linear         (batch_size, 18)              360            ActiSwitch(ReLU, 0.00  %)\n",
      "Layer 3    Linear         (batch_size, 14)              266            ActiSwitch(ReLU, 0.00  %)\n",
      "Layer 4    Linear         (batch_size, 18)              270            ActiSwitch(ReLU, 0.00  %)\n",
      "Layer 5    Linear         (batch_size, 20)              380            ActiSwitch(ReLU, 50.44 %)\n",
      "Layer 6    Linear         (batch_size, 23)              483            ActiSwitch(ReLU, 0.00  %)\n",
      "Layer 7    Linear         (batch_size, 1)               24             Pass           \n",
      "----------------------------------------------------------------------------------------------------\n",
      "\u001b[38;5;153mTotal Parameters:        \u001b[0m\u001b[1m1821           \u001b[0m\n"
     ]
    }
   ],
   "source": [
    "for _ in range(5):\n",
    "    model.evolve_network()\n",
    "for _ in range(100):\n",
    "    model.evolve_layer()\n",
    "optim = AdamW(model.parameters(), lr=0.01)\n",
    "# summary(model, (1,))\n",
    "model.summary()\n"
   ]
  },
  {
   "cell_type": "code",
   "execution_count": 19,
   "metadata": {},
   "outputs": [
    {
     "name": "stdout",
     "output_type": "stream",
     "text": [
      "Parameter containing:\n",
      "tensor([[ 1.0000e+00,  0.0000e+00,  0.0000e+00,  0.0000e+00,  0.0000e+00,\n",
      "          0.0000e+00,  0.0000e+00,  0.0000e+00,  0.0000e+00,  0.0000e+00,\n",
      "          0.0000e+00,  0.0000e+00,  0.0000e+00,  0.0000e+00,  0.0000e+00,\n",
      "          0.0000e+00,  0.0000e+00,  0.0000e+00,  0.0000e+00,  0.0000e+00],\n",
      "        [ 0.0000e+00,  1.0000e+00,  0.0000e+00,  0.0000e+00,  0.0000e+00,\n",
      "          0.0000e+00,  0.0000e+00,  0.0000e+00,  0.0000e+00,  0.0000e+00,\n",
      "          0.0000e+00,  0.0000e+00,  0.0000e+00,  0.0000e+00,  0.0000e+00,\n",
      "          0.0000e+00,  0.0000e+00,  0.0000e+00,  0.0000e+00,  0.0000e+00],\n",
      "        [ 0.0000e+00,  0.0000e+00,  1.0000e+00,  0.0000e+00,  0.0000e+00,\n",
      "          0.0000e+00,  0.0000e+00,  0.0000e+00,  0.0000e+00,  0.0000e+00,\n",
      "          0.0000e+00,  0.0000e+00,  0.0000e+00,  0.0000e+00,  0.0000e+00,\n",
      "          0.0000e+00,  0.0000e+00,  0.0000e+00,  0.0000e+00,  0.0000e+00],\n",
      "        [ 0.0000e+00,  0.0000e+00,  0.0000e+00,  1.0000e+00,  0.0000e+00,\n",
      "          0.0000e+00,  0.0000e+00,  0.0000e+00,  0.0000e+00,  0.0000e+00,\n",
      "          0.0000e+00,  0.0000e+00,  0.0000e+00,  0.0000e+00,  0.0000e+00,\n",
      "          0.0000e+00,  0.0000e+00,  0.0000e+00,  0.0000e+00,  0.0000e+00],\n",
      "        [-3.7715e-01, -3.3370e-01, -3.2348e-01,  8.3733e-02,  2.5406e-02,\n",
      "         -3.7329e-01,  0.0000e+00,  0.0000e+00,  0.0000e+00,  0.0000e+00,\n",
      "          0.0000e+00,  0.0000e+00,  0.0000e+00,  0.0000e+00,  0.0000e+00,\n",
      "          0.0000e+00,  0.0000e+00,  0.0000e+00,  0.0000e+00,  0.0000e+00],\n",
      "        [-2.2367e-01, -3.8914e-01,  1.0598e-01, -3.0943e-01,  3.1921e-01,\n",
      "          3.8975e-01,  0.0000e+00,  0.0000e+00,  0.0000e+00,  0.0000e+00,\n",
      "          0.0000e+00,  0.0000e+00,  0.0000e+00,  0.0000e+00,  0.0000e+00,\n",
      "          0.0000e+00,  0.0000e+00,  0.0000e+00,  0.0000e+00,  0.0000e+00],\n",
      "        [-3.1185e-01,  8.8092e-03, -1.4213e-01,  3.3283e-01,  2.0673e-01,\n",
      "          2.5751e-01, -1.6280e-01,  0.0000e+00,  0.0000e+00,  0.0000e+00,\n",
      "          0.0000e+00,  0.0000e+00,  0.0000e+00,  0.0000e+00,  0.0000e+00,\n",
      "          0.0000e+00,  0.0000e+00,  0.0000e+00,  0.0000e+00,  0.0000e+00],\n",
      "        [-1.1190e-01, -1.2903e-01, -2.0409e-01,  3.5401e-01, -1.5673e-01,\n",
      "          3.3681e-01, -1.6685e-01,  0.0000e+00,  0.0000e+00,  0.0000e+00,\n",
      "          0.0000e+00,  0.0000e+00,  0.0000e+00,  0.0000e+00,  0.0000e+00,\n",
      "          0.0000e+00,  0.0000e+00,  0.0000e+00,  0.0000e+00,  0.0000e+00],\n",
      "        [ 1.0485e-01,  1.2290e-01, -2.6606e-01, -2.4784e-01, -6.9586e-02,\n",
      "          2.0149e-01,  2.0121e-01,  1.9718e-01, -2.9659e-01,  0.0000e+00,\n",
      "          0.0000e+00,  0.0000e+00,  0.0000e+00,  0.0000e+00,  0.0000e+00,\n",
      "          0.0000e+00,  0.0000e+00,  0.0000e+00,  0.0000e+00,  0.0000e+00],\n",
      "        [-2.3928e-01, -1.3081e-02, -1.3071e-01, -2.7672e-01, -9.3828e-02,\n",
      "          3.0169e-01, -1.1602e-01,  2.7271e-01,  2.7398e-01,  0.0000e+00,\n",
      "          0.0000e+00,  0.0000e+00,  0.0000e+00,  0.0000e+00,  0.0000e+00,\n",
      "          0.0000e+00,  0.0000e+00,  0.0000e+00,  0.0000e+00,  0.0000e+00],\n",
      "        [ 1.8487e-01,  5.7881e-02, -3.0148e-01,  1.1291e-01,  1.2404e-02,\n",
      "         -7.8406e-03, -1.5465e-01, -2.1515e-01,  8.6540e-02,  0.0000e+00,\n",
      "          0.0000e+00,  0.0000e+00,  0.0000e+00,  0.0000e+00,  0.0000e+00,\n",
      "          0.0000e+00,  0.0000e+00,  0.0000e+00,  0.0000e+00,  0.0000e+00],\n",
      "        [ 3.1066e-01, -7.2716e-02, -7.9568e-02,  1.2251e-01, -2.9956e-01,\n",
      "          2.9809e-01, -7.7834e-02, -1.5314e-01, -2.5403e-01, -2.7484e-01,\n",
      "          0.0000e+00,  0.0000e+00,  0.0000e+00,  0.0000e+00,  0.0000e+00,\n",
      "          0.0000e+00,  0.0000e+00,  0.0000e+00,  0.0000e+00,  0.0000e+00],\n",
      "        [ 9.8335e-02, -6.8622e-02,  1.3036e-01,  5.0866e-02,  7.3069e-02,\n",
      "         -1.8909e-04, -1.5130e-01, -2.3465e-01,  2.6337e-01, -1.1695e-01,\n",
      "          0.0000e+00,  0.0000e+00,  0.0000e+00,  0.0000e+00,  0.0000e+00,\n",
      "          0.0000e+00,  0.0000e+00,  0.0000e+00,  0.0000e+00,  0.0000e+00],\n",
      "        [-1.5146e-01, -2.2389e-01,  1.3425e-01, -3.1337e-01,  7.8445e-02,\n",
      "         -4.3717e-03,  2.0086e-01,  2.2309e-02,  1.8342e-01, -2.9485e-01,\n",
      "          0.0000e+00,  0.0000e+00,  0.0000e+00,  0.0000e+00,  0.0000e+00,\n",
      "          0.0000e+00,  0.0000e+00,  0.0000e+00,  0.0000e+00,  0.0000e+00],\n",
      "        [-1.5074e-01, -1.0463e-01, -5.6769e-03, -6.3223e-02,  2.9183e-02,\n",
      "          3.0842e-01,  2.4584e-03, -1.6401e-01,  5.3852e-02, -1.9803e-01,\n",
      "          0.0000e+00,  0.0000e+00,  0.0000e+00,  0.0000e+00,  0.0000e+00,\n",
      "          0.0000e+00,  0.0000e+00,  0.0000e+00,  0.0000e+00,  0.0000e+00],\n",
      "        [ 2.5554e-02, -2.7610e-01, -9.1235e-02,  2.2578e-01,  1.9133e-01,\n",
      "          1.1506e-01,  7.4713e-02, -3.1914e-02, -1.2048e-01,  1.6904e-01,\n",
      "          0.0000e+00,  0.0000e+00,  0.0000e+00,  0.0000e+00,  0.0000e+00,\n",
      "          0.0000e+00,  0.0000e+00,  0.0000e+00,  0.0000e+00,  0.0000e+00],\n",
      "        [-1.4237e-01, -1.7500e-01,  2.0975e-01,  1.7197e-01, -1.7845e-01,\n",
      "          4.5952e-02,  2.2619e-01, -2.6281e-01, -1.2779e-01, -1.5256e-01,\n",
      "          1.5564e-01,  0.0000e+00,  0.0000e+00,  0.0000e+00,  0.0000e+00,\n",
      "          0.0000e+00,  0.0000e+00,  0.0000e+00,  0.0000e+00,  0.0000e+00],\n",
      "        [-1.3678e-01,  1.2611e-01, -1.1981e-01, -9.9356e-02, -1.1325e-01,\n",
      "         -2.9006e-02,  2.5238e-01, -1.2912e-01, -2.2662e-01,  1.3472e-01,\n",
      "          2.4912e-01,  2.2739e-01, -2.0300e-01, -4.2968e-02,  0.0000e+00,\n",
      "          0.0000e+00,  0.0000e+00,  0.0000e+00,  0.0000e+00,  0.0000e+00],\n",
      "        [ 7.1104e-02,  3.5325e-02, -1.4762e-01, -1.2823e-01, -1.8972e-01,\n",
      "         -1.7671e-01, -1.1815e-01,  3.0601e-02,  2.1753e-01, -9.0646e-02,\n",
      "         -1.7968e-01, -1.0820e-01,  7.5143e-02, -2.2013e-01, -8.1935e-02,\n",
      "          3.6145e-02,  0.0000e+00,  0.0000e+00,  0.0000e+00,  0.0000e+00],\n",
      "        [ 2.0207e-01,  1.5923e-01, -9.4787e-02,  2.3845e-01,  4.0943e-02,\n",
      "          3.7358e-02,  1.0136e-02,  1.7831e-01,  1.8945e-02,  1.0763e-01,\n",
      "         -7.5397e-02, -1.8365e-01,  2.9266e-02,  3.1628e-02,  4.4149e-03,\n",
      "          1.3471e-01,  0.0000e+00,  0.0000e+00,  0.0000e+00,  0.0000e+00],\n",
      "        [-1.7370e-01, -1.4215e-02, -1.0970e-01, -1.8194e-01,  1.5054e-01,\n",
      "         -2.4240e-01, -1.2167e-01, -1.1112e-01, -1.8879e-01, -2.2989e-01,\n",
      "          1.4205e-01, -6.4490e-02,  1.1939e-01,  6.0483e-02, -1.7505e-01,\n",
      "          6.9789e-02,  0.0000e+00,  0.0000e+00,  0.0000e+00,  0.0000e+00],\n",
      "        [ 7.9930e-02,  1.1173e-01, -1.1956e-02, -2.4061e-01,  2.3689e-01,\n",
      "          1.1859e-01,  2.1392e-01, -2.0951e-01, -2.2846e-02, -2.7370e-02,\n",
      "         -1.0871e-01,  2.2527e-01, -5.8483e-03, -1.2113e-01, -2.2893e-01,\n",
      "         -4.5244e-02,  0.0000e+00,  0.0000e+00,  0.0000e+00,  0.0000e+00],\n",
      "        [ 3.6992e-03,  1.4964e-01, -2.4343e-02,  6.6825e-02,  1.5320e-01,\n",
      "          2.1964e-01, -1.9972e-01, -1.7685e-01, -3.6313e-03, -8.5400e-02,\n",
      "          2.1276e-01,  6.9839e-02, -1.2297e-01, -1.1591e-02, -1.1962e-02,\n",
      "          1.3932e-01,  7.9285e-02,  9.7970e-02,  0.0000e+00,  0.0000e+00]],\n",
      "       requires_grad=True)\n"
     ]
    }
   ],
   "source": [
    "print(model.layers[5].weight)"
   ]
  },
  {
   "cell_type": "code",
   "execution_count": 20,
   "metadata": {},
   "outputs": [
    {
     "name": "stdout",
     "output_type": "stream",
     "text": [
      "Loss: 0.17302699387073517\n"
     ]
    }
   ],
   "source": [
    "for i in range(epochs):\n",
    "    y_pred = model(x)\n",
    "    loss = F.mse_loss(y_pred, y_real)\n",
    "    optim.zero_grad()\n",
    "    loss.backward()\n",
    "    optim.step()\n",
    "print(\"Loss:\", loss.item())"
   ]
  },
  {
   "cell_type": "code",
   "execution_count": 21,
   "metadata": {},
   "outputs": [
    {
     "name": "stdout",
     "output_type": "stream",
     "text": [
      "Parameter containing:\n",
      "tensor([[ 6.8865e-01,  9.5886e-02, -3.5920e-02, -1.0901e-02, -1.4520e-01,\n",
      "          3.5648e-02, -4.3937e-02, -1.3446e-01,  4.3127e-03,  6.9630e-03,\n",
      "          1.0831e-01, -2.3804e-01,  8.8959e-03, -3.9544e-03, -6.7885e-02,\n",
      "          8.4374e-02,  2.2941e-01,  4.2520e-02, -5.1575e-02, -5.2093e-03],\n",
      "        [ 1.0196e-01,  7.9829e-01,  7.3159e-02, -2.4440e-02,  1.1557e-02,\n",
      "         -1.5293e-01, -8.7847e-02,  1.3030e-01, -1.3881e-01, -3.7994e-02,\n",
      "         -1.7710e-01,  2.5111e-01, -1.2068e-01, -9.6515e-02,  2.0235e-01,\n",
      "         -1.7153e-01, -2.9129e-01, -1.7729e-01, -1.5014e-02, -2.6385e-02],\n",
      "        [ 2.4191e-01, -1.0707e-01,  9.0089e-01, -3.5933e-02,  1.1841e-01,\n",
      "         -6.8941e-02,  3.9683e-02,  1.5791e-01,  8.0370e-03,  9.8358e-03,\n",
      "         -1.5469e-01,  2.8491e-01, -3.5831e-02, -1.3980e-02,  5.5826e-02,\n",
      "         -1.3234e-01, -2.3756e-01, -5.8486e-02,  5.8572e-02, -7.8342e-03],\n",
      "        [-2.0738e-01,  1.3329e-01, -8.5105e-03,  9.3419e-01, -1.3629e-01,\n",
      "          8.4894e-02, -3.4624e-02, -1.1882e-01,  5.8502e-02,  4.3169e-02,\n",
      "          1.4882e-01, -2.3576e-01,  3.2972e-02,  3.1992e-02, -4.5430e-02,\n",
      "          1.2269e-01,  2.7887e-01,  7.4018e-02, -3.3625e-02,  2.3784e-02],\n",
      "        [-1.9550e-01, -3.4017e-01, -1.3495e-01,  3.0225e-01,  5.6794e-02,\n",
      "         -2.3969e-01,  4.0189e-02,  8.1946e-02,  1.3087e-01,  4.6965e-02,\n",
      "          3.6496e-02,  1.4725e-01, -2.6391e-02,  9.8181e-02,  1.4948e-01,\n",
      "          2.9940e-02, -3.5553e-02, -1.0601e-02,  3.0664e-02,  6.8878e-02],\n",
      "        [-2.2846e-01, -9.9622e-02,  1.8991e-01, -2.6168e-01,  2.2947e-01,\n",
      "          3.0319e-01, -4.7234e-02,  2.9899e-02, -6.1622e-02, -2.3600e-01,\n",
      "          4.7336e-02, -1.7340e-02, -2.6781e-01,  4.4965e-02,  6.0005e-03,\n",
      "          3.4313e-02, -2.8359e-02,  1.5482e-02, -5.0752e-02,  4.2351e-02],\n",
      "        [-2.7336e-01,  2.7749e-01, -9.8792e-02,  2.1415e-01,  7.7183e-02,\n",
      "          2.2101e-01, -1.3025e-01, -4.4828e-02,  7.5932e-02, -1.9506e-02,\n",
      "         -3.6175e-02,  1.9571e-02,  9.6652e-03, -1.4494e-01,  2.4566e-02,\n",
      "         -5.1232e-02,  4.1397e-02, -7.8793e-02,  2.5565e-02, -1.2456e-01],\n",
      "        [-2.3905e-01,  1.1695e-01, -2.2768e-01,  1.3203e-01, -1.4780e-01,\n",
      "          6.5101e-01, -1.3171e-01, -1.3404e-01,  1.4307e-01, -3.5827e-02,\n",
      "         -7.2950e-02, -1.9608e-01,  6.1014e-02, -5.4617e-02, -2.5563e-02,\n",
      "         -7.4054e-02,  2.4060e-01, -1.6357e-01, -1.5908e-02, -1.3060e-01],\n",
      "        [ 8.7831e-02,  2.1437e-01, -1.1343e-01, -1.3267e-01,  5.1766e-02,\n",
      "          8.9647e-02,  5.0034e-02,  6.9012e-02, -3.4414e-01, -1.7651e-02,\n",
      "          1.5119e-01, -2.1078e-01, -1.5693e-01,  1.7812e-01, -2.5648e-02,\n",
      "          1.1650e-01,  1.4000e-01,  1.5282e-01, -5.3389e-05,  1.6530e-01],\n",
      "        [-2.2602e-01,  2.1098e-01,  5.0459e-04, -2.2493e-01, -2.0068e-02,\n",
      "          2.3700e-01, -2.4158e-01,  1.8833e-01,  1.5687e-01,  7.8576e-02,\n",
      "          7.9727e-02, -1.7461e-01, -5.5058e-02,  9.9032e-02, -1.5253e-02,\n",
      "          3.5660e-02,  7.9845e-02,  1.3495e-01, -3.8940e-03,  7.8531e-02],\n",
      "        [-2.0711e-02,  3.4471e-01, -1.9151e-01,  1.2379e-01, -9.3324e-02,\n",
      "         -2.6600e-02, -1.7205e-01, -2.7614e-01,  7.4378e-02,  7.3816e-02,\n",
      "          1.3276e-01, -1.5684e-01,  5.6850e-02,  4.7052e-02, -3.2349e-02,\n",
      "          9.6221e-02,  2.7071e-01,  8.7377e-02,  3.8419e-02,  6.7375e-02],\n",
      "        [ 1.4330e-01,  1.6880e-01, -4.9439e-02,  7.2814e-04, -2.4793e-01,\n",
      "          4.4192e-01, -6.6996e-02, -2.0446e-01, -1.0499e-01, -1.9847e-01,\n",
      "          1.2399e-02, -1.1679e-01, -2.3436e-02, -5.1598e-02,  5.7151e-02,\n",
      "         -5.6014e-03,  1.6024e-01, -3.6954e-02, -4.2083e-02, -6.5060e-02],\n",
      "        [-3.1174e-01,  1.2001e-02,  1.0616e-01,  5.9683e-02, -2.2582e-01,\n",
      "          6.6567e-01, -4.6698e-01, -3.1139e-01,  1.8822e-01, -2.4202e-01,\n",
      "         -1.5983e-01, -3.3567e-02,  4.7744e-01, -1.8056e-01, -4.9091e-02,\n",
      "         -1.6668e-01,  6.3889e-02, -1.5376e-01, -1.7470e-01, -4.1613e-01],\n",
      "        [-3.2275e-01, -1.3705e-02,  5.5482e-02, -2.7601e-01, -2.6528e-02,\n",
      "          4.8068e-01, -8.7601e-02, -3.6343e-02,  2.6669e-01, -1.2004e-01,\n",
      "         -9.5063e-02, -8.8136e-02, -5.0311e-02, -7.0803e-02,  1.0383e-01,\n",
      "         -1.3549e-01,  2.5147e-01, -2.0449e-01, -1.3515e-01, -1.8523e-01],\n",
      "        [ 2.1481e-02, -2.6986e-01, -7.6392e-02, -6.0826e-02,  2.3806e-01,\n",
      "          1.4104e-01,  1.8747e-01, -4.2930e-02,  2.0069e-01,  4.3632e-02,\n",
      "          7.1170e-02,  1.8705e-01, -1.1344e-01, -4.5786e-02,  8.0810e-02,\n",
      "          7.9982e-02, -1.0017e-01,  1.0364e-01,  9.8350e-02, -5.1037e-02],\n",
      "        [-2.0556e-01, -5.3296e-02, -1.5518e-01,  2.3866e-02,  1.6576e-02,\n",
      "          4.9755e-01, -1.7496e-02, -1.9933e-01, -1.2370e-02,  5.7276e-02,\n",
      "         -4.2066e-02, -2.5382e-01,  1.4552e-01, -8.2168e-02, -7.3691e-03,\n",
      "         -5.1382e-02,  3.8541e-01, -1.8442e-01, -9.8069e-02, -1.7094e-01],\n",
      "        [-3.3311e-02,  7.2241e-02,  1.0843e-01,  6.3202e-02, -6.6623e-02,\n",
      "         -5.7867e-02,  3.6921e-01, -2.2872e-01,  8.3268e-03, -9.2894e-02,\n",
      "          4.2459e-02,  9.1291e-02,  5.2626e-02, -1.9885e-01, -7.1685e-03,\n",
      "         -7.8904e-02,  5.6747e-02, -1.2023e-01,  1.1035e-01, -1.7855e-01],\n",
      "        [-1.5271e-01,  3.2222e-01, -4.2693e-02, -8.5447e-02, -1.8861e-01,\n",
      "         -9.3493e-02,  5.1260e-02, -8.5918e-02, -3.2596e-01,  1.1819e-01,\n",
      "          2.2250e-01,  1.2564e-01, -1.4940e-01,  1.1059e-02,  5.9058e-03,\n",
      "         -6.8668e-03,  7.6839e-04,  3.9545e-02, -3.1123e-02,  1.7882e-01],\n",
      "        [-1.5127e-01,  3.1314e-01,  1.0825e-01,  6.9462e-02, -3.0697e-01,\n",
      "         -3.4911e-01, -2.2525e-01, -2.0882e-02,  7.5959e-02,  9.5487e-02,\n",
      "         -5.2689e-02, -2.3859e-01, -3.8655e-02, -1.5796e-01, -2.0008e-02,\n",
      "          1.0780e-01,  1.5438e-01,  3.6299e-02, -5.5256e-02,  1.2469e-01],\n",
      "        [ 2.7083e-01, -1.1307e-01, -4.3368e-02,  2.9481e-01,  1.7825e-01,\n",
      "          3.2390e-02,  3.0543e-02,  2.0769e-01,  4.6489e-03,  1.4389e-01,\n",
      "         -1.4159e-01, -1.3552e-02,  2.5077e-01,  1.1601e-01,  9.6160e-03,\n",
      "          7.2673e-02, -1.1083e-01, -1.6958e-03,  8.1349e-02,  5.1262e-02],\n",
      "        [-1.6405e-01,  1.9820e-01,  5.1406e-03,  1.1730e-02,  1.7447e-01,\n",
      "         -2.4936e-01, -1.2554e-01, -1.4489e-01, -9.2461e-02, -1.2258e-02,\n",
      "          2.3137e-01, -2.6180e-01,  1.9036e-01,  2.4338e-01, -2.0824e-01,\n",
      "          1.4426e-01,  2.1134e-01,  8.0066e-02,  8.2718e-02,  1.4408e-01],\n",
      "        [ 4.4638e-02,  6.3103e-02,  1.9449e-03, -1.7563e-01,  1.4382e-01,\n",
      "          1.8135e-02,  3.7233e-01, -2.0602e-01,  5.5876e-02,  6.9378e-02,\n",
      "          3.7607e-02,  1.7209e-01,  1.2069e-01, -2.8434e-01, -1.6065e-01,\n",
      "          9.0869e-02,  1.2343e-02,  1.6063e-01,  3.0203e-02, -3.1611e-02],\n",
      "        [-2.2732e-01,  3.3585e-01, -5.1717e-02,  4.8673e-02, -8.1361e-03,\n",
      "          2.3582e-01, -2.4005e-01, -2.7580e-01,  2.8250e-02, -9.1207e-02,\n",
      "          2.6459e-01, -1.9867e-01, -2.2943e-02, -1.5589e-03, -9.4863e-02,\n",
      "          1.6517e-01,  3.9181e-01,  1.2839e-01, -3.4059e-02, -1.2372e-03]],\n",
      "       requires_grad=True)\n"
     ]
    }
   ],
   "source": [
    "print(model.layers[5].weight)"
   ]
  },
  {
   "cell_type": "code",
   "execution_count": null,
   "metadata": {},
   "outputs": [],
   "source": []
  }
 ],
 "metadata": {
  "kernelspec": {
   "display_name": "Python 3",
   "language": "python",
   "name": "python3"
  },
  "language_info": {
   "codemirror_mode": {
    "name": "ipython",
    "version": 3
   },
   "file_extension": ".py",
   "mimetype": "text/x-python",
   "name": "python",
   "nbconvert_exporter": "python",
   "pygments_lexer": "ipython3",
   "version": "3.12.5"
  }
 },
 "nbformat": 4,
 "nbformat_minor": 2
}
