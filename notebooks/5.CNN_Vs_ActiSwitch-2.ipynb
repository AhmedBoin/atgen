{
  "cells": [
    {
      "cell_type": "markdown",
      "metadata": {
        "id": "Tb5FRb6aJR9b"
      },
      "source": [
        "# Comparing ActiSwitch and Skip Connections (Piecewise Linear Activation Functions)\n",
        "\n",
        "This notebook investigates the comparison between **ActiSwitch** and **skip connections** in a neural network architecture using a **Piecewise Linear activation function** like ReLU. Initially, skip connections tend to offer faster convergence by effectively handling gradient flow, while ActiSwitch, which dynamically adjusts between linear and non-linear behavior, takes longer to catch up.\n",
        "\n",
        "After **10 epochs**, skip connections achieve better accuracy than ActiSwitch. However, with extended training to **50 epochs**, ActiSwitch nearly reaches the same accuracy as the skip connection architecture. Both methods, however, exhibit signs of **overfitting** after prolonged training, demonstrating similar vulnerabilities as training progresses.\n",
        "\n",
        "By the end of this notebook, you will observe that while skip connections may have an advantage in early epochs with Piecewise Linear activation functions, ActiSwitch can close the gap with additional training. Overfitting occurs in both architectures, but ActiSwitch offers flexibility in gradient management and potential improvements with longer training durations."
      ]
    },
    {
      "cell_type": "code",
      "execution_count": 1,
      "metadata": {
        "id": "67pMgQ2-EbeB"
      },
      "outputs": [],
      "source": [
        "import torch\n",
        "import torch.nn as nn\n",
        "import torch.optim as optim\n",
        "import torchvision\n",
        "import torchvision.transforms as transforms\n",
        "\n",
        "import matplotlib.pyplot as plt"
      ]
    },
    {
      "cell_type": "code",
      "execution_count": 2,
      "metadata": {
        "id": "X1rTJnOJEfJR"
      },
      "outputs": [],
      "source": [
        "# Define the CNN Network\n",
        "class CNN(nn.Module):\n",
        "    def __init__(self):\n",
        "        super(CNN, self).__init__()\n",
        "\n",
        "        # Initial Conv Layer\n",
        "        self.conv1 = nn.Conv2d(3, 64, kernel_size=7, stride=2, padding=3, bias=False)\n",
        "        self.bn1 = nn.BatchNorm2d(64)\n",
        "        self.act1 = nn.ReLU()\n",
        "        self.maxpool = nn.MaxPool2d(kernel_size=3, stride=2, padding=1)\n",
        "\n",
        "        # ResNet Block 1 (2 layers without skip connections)\n",
        "        self.conv2_1 = nn.Conv2d(64, 64, kernel_size=3, stride=1, padding=1, bias=False)\n",
        "        self.bn2_1 = nn.BatchNorm2d(64)\n",
        "        self.act2_1 = nn.ReLU()\n",
        "        self.conv2_2 = nn.Conv2d(64, 64, kernel_size=3, stride=1, padding=1, bias=False)\n",
        "        self.bn2_2 = nn.BatchNorm2d(64)\n",
        "        self.act2_2 = nn.ReLU()\n",
        "\n",
        "        # ResNet Block 2 (with downsampling)\n",
        "        self.conv3_1 = nn.Conv2d(64, 128, kernel_size=3, stride=2, padding=1, bias=False)\n",
        "        self.bn3_1 = nn.BatchNorm2d(128)\n",
        "        self.act3_1 = nn.ReLU()\n",
        "        self.conv3_2 = nn.Conv2d(128, 128, kernel_size=3, stride=1, padding=1, bias=False)\n",
        "        self.bn3_2 = nn.BatchNorm2d(128)\n",
        "        self.act3_2 = nn.ReLU()\n",
        "\n",
        "        # ResNet Block 3 (with downsampling)\n",
        "        self.conv4_1 = nn.Conv2d(128, 256, kernel_size=3, stride=2, padding=1, bias=False)\n",
        "        self.bn4_1 = nn.BatchNorm2d(256)\n",
        "        self.act4_1 = nn.ReLU()\n",
        "        self.conv4_2 = nn.Conv2d(256, 256, kernel_size=3, stride=1, padding=1, bias=False)\n",
        "        self.bn4_2 = nn.BatchNorm2d(256)\n",
        "        self.act4_2 = nn.ReLU()\n",
        "\n",
        "        # ResNet Block 4 (with downsampling)\n",
        "        self.conv5_1 = nn.Conv2d(256, 512, kernel_size=3, stride=2, padding=1, bias=False)\n",
        "        self.bn5_1 = nn.BatchNorm2d(512)\n",
        "        self.act5_1 = nn.ReLU()\n",
        "        self.conv5_2 = nn.Conv2d(512, 512, kernel_size=3, stride=1, padding=1, bias=False)\n",
        "        self.bn5_2 = nn.BatchNorm2d(512)\n",
        "        self.act5_2 = nn.ReLU()\n",
        "\n",
        "        # Final layers (Global Average Pooling and Linear layer)\n",
        "        self.avgpool = nn.AdaptiveAvgPool2d((1, 1))\n",
        "        self.fc = nn.Linear(512, 100)  # Output for CIFAR-100\n",
        "\n",
        "    def forward(self, x):\n",
        "        # Initial Layers\n",
        "        x = self.conv1(x)\n",
        "        x = self.bn1(x)\n",
        "        x = self.act1(x)\n",
        "        x = self.maxpool(x)\n",
        "\n",
        "        # ResNet Block 1\n",
        "        x = self.conv2_1(x)\n",
        "        x = self.bn2_1(x)\n",
        "        x = self.act2_1(x)\n",
        "        x = self.conv2_2(x)\n",
        "        x = self.bn2_2(x)\n",
        "        x = self.act2_2(x)\n",
        "\n",
        "        # ResNet Block 2\n",
        "        x = self.conv3_1(x)\n",
        "        x = self.bn3_1(x)\n",
        "        x = self.act3_1(x)\n",
        "        x = self.conv3_2(x)\n",
        "        x = self.bn3_2(x)\n",
        "        x = self.act3_2(x)\n",
        "\n",
        "        # ResNet Block 3\n",
        "        x = self.conv4_1(x)\n",
        "        x = self.bn4_1(x)\n",
        "        x = self.act4_1(x)\n",
        "        x = self.conv4_2(x)\n",
        "        x = self.bn4_2(x)\n",
        "        x = self.act4_2(x)\n",
        "\n",
        "        # ResNet Block 4\n",
        "        x = self.conv5_1(x)\n",
        "        x = self.bn5_1(x)\n",
        "        x = self.act5_1(x)\n",
        "        x = self.conv5_2(x)\n",
        "        x = self.bn5_2(x)\n",
        "        x = self.act5_2(x)\n",
        "\n",
        "        # Final layers\n",
        "        x = self.avgpool(x)\n",
        "        x = torch.flatten(x, 1)\n",
        "        x = self.fc(x)\n",
        "\n",
        "        return x"
      ]
    },
    {
      "cell_type": "code",
      "execution_count": 3,
      "metadata": {
        "id": "Qini6KDJEj0Q"
      },
      "outputs": [],
      "source": [
        "class ActiSwitch(nn.Module):\n",
        "    def __init__(self, activation_function):\n",
        "        super(ActiSwitch, self).__init__()\n",
        "        # Placeholder for ActiSwitch functionality\n",
        "        self.acti = activation_function()\n",
        "        self.linear_weight = nn.Parameter(torch.tensor(0.0))\n",
        "        self.activation_weight = nn.Parameter(torch.tensor(1.0))\n",
        "\n",
        "    def forward(self, x: torch.Tensor) -> torch.Tensor:\n",
        "        return self.linear_weight * x + self.activation_weight * self.acti(x)\n",
        "\n",
        "# Custom architecture using ActiSwitch instead of regular activations\n",
        "class CustomResNetNoSkipActiSwitch(nn.Module):\n",
        "    def __init__(self):\n",
        "        super(CustomResNetNoSkipActiSwitch, self).__init__()\n",
        "\n",
        "        # Initial Conv Layer\n",
        "        self.conv1 = nn.Conv2d(3, 64, kernel_size=7, stride=2, padding=3, bias=False)\n",
        "        self.bn1 = nn.BatchNorm2d(64)\n",
        "        self.act1 = ActiSwitch(nn.ReLU)  # ActiSwitch after Conv layer\n",
        "        self.maxpool = nn.MaxPool2d(kernel_size=3, stride=2, padding=1)\n",
        "\n",
        "        # ResNet Block 1 (2 layers without skip connections)\n",
        "        self.conv2_1 = nn.Conv2d(64, 64, kernel_size=3, stride=1, padding=1, bias=False)\n",
        "        self.bn2_1 = nn.BatchNorm2d(64)\n",
        "        self.act2_1 = ActiSwitch(nn.ReLU)\n",
        "        self.conv2_2 = nn.Conv2d(64, 64, kernel_size=3, stride=1, padding=1, bias=False)\n",
        "        self.bn2_2 = nn.BatchNorm2d(64)\n",
        "        self.act2_2 = ActiSwitch(nn.ReLU)\n",
        "\n",
        "        # ResNet Block 2 (with downsampling)\n",
        "        self.conv3_1 = nn.Conv2d(64, 128, kernel_size=3, stride=2, padding=1, bias=False)\n",
        "        self.bn3_1 = nn.BatchNorm2d(128)\n",
        "        self.act3_1 = ActiSwitch(nn.ReLU)\n",
        "        self.conv3_2 = nn.Conv2d(128, 128, kernel_size=3, stride=1, padding=1, bias=False)\n",
        "        self.bn3_2 = nn.BatchNorm2d(128)\n",
        "        self.act3_2 = ActiSwitch(nn.ReLU)\n",
        "\n",
        "        # ResNet Block 3 (with downsampling)\n",
        "        self.conv4_1 = nn.Conv2d(128, 256, kernel_size=3, stride=2, padding=1, bias=False)\n",
        "        self.bn4_1 = nn.BatchNorm2d(256)\n",
        "        self.act4_1 = ActiSwitch(nn.ReLU)\n",
        "        self.conv4_2 = nn.Conv2d(256, 256, kernel_size=3, stride=1, padding=1, bias=False)\n",
        "        self.bn4_2 = nn.BatchNorm2d(256)\n",
        "        self.act4_2 = ActiSwitch(nn.ReLU)\n",
        "\n",
        "        # ResNet Block 4 (with downsampling)\n",
        "        self.conv5_1 = nn.Conv2d(256, 512, kernel_size=3, stride=2, padding=1, bias=False)\n",
        "        self.bn5_1 = nn.BatchNorm2d(512)\n",
        "        self.act5_1 = ActiSwitch(nn.ReLU)\n",
        "        self.conv5_2 = nn.Conv2d(512, 512, kernel_size=3, stride=1, padding=1, bias=False)\n",
        "        self.bn5_2 = nn.BatchNorm2d(512)\n",
        "        self.act5_2 = ActiSwitch(nn.ReLU)\n",
        "\n",
        "        # Final layers (Global Average Pooling and Linear layer)\n",
        "        self.avgpool = nn.AdaptiveAvgPool2d((1, 1))\n",
        "        self.fc = nn.Linear(512, 100)  # Output for CIFAR-100\n",
        "\n",
        "    def forward(self, x):\n",
        "        # Initial Layers\n",
        "        x = self.conv1(x)\n",
        "        x = self.bn1(x)\n",
        "        x = self.act1(x)\n",
        "        x = self.maxpool(x)\n",
        "\n",
        "        # ResNet Block 1\n",
        "        x = self.conv2_1(x)\n",
        "        x = self.bn2_1(x)\n",
        "        x = self.act2_1(x)\n",
        "        x = self.conv2_2(x)\n",
        "        x = self.bn2_2(x)\n",
        "        x = self.act2_2(x)\n",
        "\n",
        "        # ResNet Block 2\n",
        "        x = self.conv3_1(x)\n",
        "        x = self.bn3_1(x)\n",
        "        x = self.act3_1(x)\n",
        "        x = self.conv3_2(x)\n",
        "        x = self.bn3_2(x)\n",
        "        x = self.act3_2(x)\n",
        "\n",
        "        # ResNet Block 3\n",
        "        x = self.conv4_1(x)\n",
        "        x = self.bn4_1(x)\n",
        "        x = self.act4_1(x)\n",
        "        x = self.conv4_2(x)\n",
        "        x = self.bn4_2(x)\n",
        "        x = self.act4_2(x)\n",
        "\n",
        "        # ResNet Block 4\n",
        "        x = self.conv5_1(x)\n",
        "        x = self.bn5_1(x)\n",
        "        x = self.act5_1(x)\n",
        "        x = self.conv5_2(x)\n",
        "        x = self.bn5_2(x)\n",
        "        x = self.act5_2(x)\n",
        "\n",
        "        # Final layers\n",
        "        x = self.avgpool(x)\n",
        "        x = torch.flatten(x, 1)\n",
        "        x = self.fc(x)\n",
        "\n",
        "        return x"
      ]
    },
    {
      "cell_type": "code",
      "execution_count": 5,
      "metadata": {
        "id": "CrBIHjikEnmu",
        "colab": {
          "base_uri": "https://localhost:8080/"
        },
        "outputId": "d568e59e-721f-47e9-8214-df087dbed926"
      },
      "outputs": [
        {
          "output_type": "stream",
          "name": "stdout",
          "text": [
            "Downloading https://www.cs.toronto.edu/~kriz/cifar-100-python.tar.gz to ./data/cifar-100-python.tar.gz\n"
          ]
        },
        {
          "output_type": "stream",
          "name": "stderr",
          "text": [
            "100%|██████████| 169001437/169001437 [00:03<00:00, 47682457.19it/s]\n"
          ]
        },
        {
          "output_type": "stream",
          "name": "stdout",
          "text": [
            "Extracting ./data/cifar-100-python.tar.gz to ./data\n",
            "Files already downloaded and verified\n"
          ]
        }
      ],
      "source": [
        "# Data preparation for CIFAR-100\n",
        "transform_train = transforms.Compose([\n",
        "    transforms.RandomCrop(32, padding=4),\n",
        "    transforms.RandomHorizontalFlip(),\n",
        "    transforms.ToTensor(),\n",
        "    transforms.Normalize((0.5071, 0.4867, 0.4408), (0.2675, 0.2565, 0.2761)),\n",
        "])\n",
        "\n",
        "transform_test = transforms.Compose([\n",
        "    transforms.ToTensor(),\n",
        "    transforms.Normalize((0.5071, 0.4867, 0.4408), (0.2675, 0.2565, 0.2761)),\n",
        "])\n",
        "\n",
        "train_dataset = torchvision.datasets.CIFAR100(root='./data', train=True, download=True, transform=transform_train)\n",
        "test_dataset = torchvision.datasets.CIFAR100(root='./data', train=False, download=True, transform=transform_test)\n",
        "\n",
        "train_loader = torch.utils.data.DataLoader(dataset=train_dataset, batch_size=128, shuffle=True)\n",
        "test_loader = torch.utils.data.DataLoader(dataset=test_dataset, batch_size=128, shuffle=False)\n",
        "\n",
        "device = torch.device('cuda' if torch.cuda.is_available() else 'cpu')"
      ]
    },
    {
      "cell_type": "code",
      "execution_count": 6,
      "metadata": {
        "id": "v_pGeMwkEuLN"
      },
      "outputs": [],
      "source": [
        "# Training the model and storing loss and accuracy\n",
        "def train_model(model, train_loader, criterion, optimizer, num_epochs=50):\n",
        "    model.train()\n",
        "    epoch_losses = []\n",
        "    epoch_accuracies = []\n",
        "\n",
        "    for epoch in range(num_epochs):\n",
        "        running_loss = 0.0\n",
        "        correct = 0\n",
        "        total = 0\n",
        "\n",
        "        for i, (inputs, labels) in enumerate(train_loader):\n",
        "            inputs, labels = inputs.to(device), labels.to(device)\n",
        "\n",
        "            optimizer.zero_grad()\n",
        "            outputs = model(inputs)\n",
        "            loss = criterion(outputs, labels)\n",
        "            loss.backward()\n",
        "            optimizer.step()\n",
        "\n",
        "            running_loss += loss.item()\n",
        "            _, predicted = outputs.max(1)\n",
        "            total += labels.size(0)\n",
        "            correct += predicted.eq(labels).sum().item()\n",
        "\n",
        "        epoch_loss = running_loss / len(train_loader)\n",
        "        epoch_accuracy = 100 * correct / total\n",
        "\n",
        "        epoch_losses.append(epoch_loss)\n",
        "        epoch_accuracies.append(epoch_accuracy)\n",
        "\n",
        "        print(f'Epoch [{epoch+1}/{num_epochs}], Loss: {epoch_loss:.4f}, Accuracy: {epoch_accuracy:.2f}%')\n",
        "\n",
        "    return epoch_losses, epoch_accuracies"
      ]
    },
    {
      "cell_type": "code",
      "execution_count": 7,
      "metadata": {
        "id": "S6L7hvuPAAwI"
      },
      "outputs": [],
      "source": [
        "# Evaluate the model\n",
        "def evaluate_model(model, test_loader):\n",
        "    model.eval()\n",
        "    correct = 0\n",
        "    total = 0\n",
        "    with torch.no_grad():\n",
        "        for inputs, labels in test_loader:\n",
        "            inputs, labels = inputs.to(device), labels.to(device)\n",
        "            outputs = model(inputs)\n",
        "            _, predicted = outputs.max(1)\n",
        "            total += labels.size(0)\n",
        "            correct += predicted.eq(labels).sum().item()\n",
        "\n",
        "    print(f'Test Accuracy: {100*correct/total:.2f}%')"
      ]
    },
    {
      "cell_type": "code",
      "execution_count": 8,
      "metadata": {
        "id": "Gm-e9GFAErww"
      },
      "outputs": [],
      "source": [
        "# Initialize the model, loss function, and optimizer\n",
        "model = CNN().to(device)\n",
        "criterion = nn.CrossEntropyLoss()\n",
        "optimizer = optim.Adam(model.parameters(), lr=0.001)"
      ]
    },
    {
      "cell_type": "code",
      "execution_count": 9,
      "metadata": {
        "id": "2UE2nqRiE0cN",
        "colab": {
          "base_uri": "https://localhost:8080/"
        },
        "outputId": "47b366fe-6f4f-4bb2-904a-e56ce9653f0e"
      },
      "outputs": [
        {
          "output_type": "stream",
          "name": "stdout",
          "text": [
            "Epoch [1/50], Loss: 3.7278, Accuracy: 12.12%\n",
            "Epoch [2/50], Loss: 3.1889, Accuracy: 21.07%\n",
            "Epoch [3/50], Loss: 2.8993, Accuracy: 26.37%\n",
            "Epoch [4/50], Loss: 2.6970, Accuracy: 30.36%\n",
            "Epoch [5/50], Loss: 2.5414, Accuracy: 33.52%\n",
            "Epoch [6/50], Loss: 2.4106, Accuracy: 36.33%\n",
            "Epoch [7/50], Loss: 2.2980, Accuracy: 38.79%\n",
            "Epoch [8/50], Loss: 2.2019, Accuracy: 40.84%\n",
            "Epoch [9/50], Loss: 2.1092, Accuracy: 42.83%\n",
            "Epoch [10/50], Loss: 2.0288, Accuracy: 44.80%\n",
            "Epoch [11/50], Loss: 1.9607, Accuracy: 46.20%\n",
            "Epoch [12/50], Loss: 1.8908, Accuracy: 47.95%\n",
            "Epoch [13/50], Loss: 1.8225, Accuracy: 49.46%\n",
            "Epoch [14/50], Loss: 1.7612, Accuracy: 50.40%\n",
            "Epoch [15/50], Loss: 1.6977, Accuracy: 52.32%\n",
            "Epoch [16/50], Loss: 1.6425, Accuracy: 53.34%\n",
            "Epoch [17/50], Loss: 1.5860, Accuracy: 54.88%\n",
            "Epoch [18/50], Loss: 1.5357, Accuracy: 56.03%\n",
            "Epoch [19/50], Loss: 1.4854, Accuracy: 57.29%\n",
            "Epoch [20/50], Loss: 1.4223, Accuracy: 58.89%\n",
            "Epoch [21/50], Loss: 1.3799, Accuracy: 59.65%\n",
            "Epoch [22/50], Loss: 1.3393, Accuracy: 60.86%\n",
            "Epoch [23/50], Loss: 1.2863, Accuracy: 61.91%\n",
            "Epoch [24/50], Loss: 1.2456, Accuracy: 63.19%\n",
            "Epoch [25/50], Loss: 1.2036, Accuracy: 64.21%\n",
            "Epoch [26/50], Loss: 1.1581, Accuracy: 65.20%\n",
            "Epoch [27/50], Loss: 1.1034, Accuracy: 66.83%\n",
            "Epoch [28/50], Loss: 1.0728, Accuracy: 67.72%\n",
            "Epoch [29/50], Loss: 1.0212, Accuracy: 69.06%\n",
            "Epoch [30/50], Loss: 0.9795, Accuracy: 70.19%\n",
            "Epoch [31/50], Loss: 0.9464, Accuracy: 71.07%\n",
            "Epoch [32/50], Loss: 0.8962, Accuracy: 72.34%\n",
            "Epoch [33/50], Loss: 0.8595, Accuracy: 73.31%\n",
            "Epoch [34/50], Loss: 0.8351, Accuracy: 74.17%\n",
            "Epoch [35/50], Loss: 0.7925, Accuracy: 75.25%\n",
            "Epoch [36/50], Loss: 0.7605, Accuracy: 76.20%\n",
            "Epoch [37/50], Loss: 0.7277, Accuracy: 77.17%\n",
            "Epoch [38/50], Loss: 0.7024, Accuracy: 77.85%\n",
            "Epoch [39/50], Loss: 0.6570, Accuracy: 79.17%\n",
            "Epoch [40/50], Loss: 0.6416, Accuracy: 79.63%\n",
            "Epoch [41/50], Loss: 0.6118, Accuracy: 80.38%\n",
            "Epoch [42/50], Loss: 0.5796, Accuracy: 81.56%\n",
            "Epoch [43/50], Loss: 0.5591, Accuracy: 82.17%\n",
            "Epoch [44/50], Loss: 0.5376, Accuracy: 82.89%\n",
            "Epoch [45/50], Loss: 0.5147, Accuracy: 83.26%\n",
            "Epoch [46/50], Loss: 0.5064, Accuracy: 83.61%\n",
            "Epoch [47/50], Loss: 0.4789, Accuracy: 84.33%\n",
            "Epoch [48/50], Loss: 0.4500, Accuracy: 85.48%\n",
            "Epoch [49/50], Loss: 0.4482, Accuracy: 85.59%\n",
            "Epoch [50/50], Loss: 0.4259, Accuracy: 86.09%\n",
            "Test Accuracy: 50.95%\n"
          ]
        }
      ],
      "source": [
        "# Train and evaluate the model\n",
        "losses_1, accuracies_1 = train_model(model, train_loader, criterion, optimizer, num_epochs=50)\n",
        "evaluate_model(model, test_loader)"
      ]
    },
    {
      "cell_type": "code",
      "execution_count": 10,
      "metadata": {
        "id": "g7DXXaScE_mQ"
      },
      "outputs": [],
      "source": [
        "# Initialize the model, loss function, and optimizer\n",
        "model = CustomResNetNoSkipActiSwitch().to(device)\n",
        "criterion = nn.CrossEntropyLoss()\n",
        "optimizer = optim.Adam(model.parameters(), lr=0.001)"
      ]
    },
    {
      "cell_type": "code",
      "execution_count": 11,
      "metadata": {
        "id": "JQZ_uvjwAE-B",
        "colab": {
          "base_uri": "https://localhost:8080/"
        },
        "outputId": "13d0411e-e0e5-4b1c-ddfb-ba0324c43144"
      },
      "outputs": [
        {
          "output_type": "stream",
          "name": "stdout",
          "text": [
            "Epoch [1/50], Loss: 3.7360, Accuracy: 12.02%\n",
            "Epoch [2/50], Loss: 3.1914, Accuracy: 20.91%\n",
            "Epoch [3/50], Loss: 2.8883, Accuracy: 26.52%\n",
            "Epoch [4/50], Loss: 2.6728, Accuracy: 30.79%\n",
            "Epoch [5/50], Loss: 2.5135, Accuracy: 34.28%\n",
            "Epoch [6/50], Loss: 2.3820, Accuracy: 36.99%\n",
            "Epoch [7/50], Loss: 2.2690, Accuracy: 39.27%\n",
            "Epoch [8/50], Loss: 2.1668, Accuracy: 41.48%\n",
            "Epoch [9/50], Loss: 2.0757, Accuracy: 43.73%\n",
            "Epoch [10/50], Loss: 1.9888, Accuracy: 45.64%\n",
            "Epoch [11/50], Loss: 1.9093, Accuracy: 47.27%\n",
            "Epoch [12/50], Loss: 1.8343, Accuracy: 49.00%\n",
            "Epoch [13/50], Loss: 1.7586, Accuracy: 50.67%\n",
            "Epoch [14/50], Loss: 1.6808, Accuracy: 52.56%\n",
            "Epoch [15/50], Loss: 1.6118, Accuracy: 53.92%\n",
            "Epoch [16/50], Loss: 1.5279, Accuracy: 56.21%\n",
            "Epoch [17/50], Loss: 1.4562, Accuracy: 58.02%\n",
            "Epoch [18/50], Loss: 1.3874, Accuracy: 59.37%\n",
            "Epoch [19/50], Loss: 1.3019, Accuracy: 61.71%\n",
            "Epoch [20/50], Loss: 1.2343, Accuracy: 63.37%\n",
            "Epoch [21/50], Loss: 1.1718, Accuracy: 64.89%\n",
            "Epoch [22/50], Loss: 1.0927, Accuracy: 66.79%\n",
            "Epoch [23/50], Loss: 1.0253, Accuracy: 68.55%\n",
            "Epoch [24/50], Loss: 0.9617, Accuracy: 70.29%\n",
            "Epoch [25/50], Loss: 0.9123, Accuracy: 71.73%\n",
            "Epoch [26/50], Loss: 0.8392, Accuracy: 73.96%\n",
            "Epoch [27/50], Loss: 0.7904, Accuracy: 75.32%\n",
            "Epoch [28/50], Loss: 0.7391, Accuracy: 76.71%\n",
            "Epoch [29/50], Loss: 0.6998, Accuracy: 77.83%\n",
            "Epoch [30/50], Loss: 0.6708, Accuracy: 78.63%\n",
            "Epoch [31/50], Loss: 0.6097, Accuracy: 80.42%\n",
            "Epoch [32/50], Loss: 0.5817, Accuracy: 81.28%\n",
            "Epoch [33/50], Loss: 0.5589, Accuracy: 82.05%\n",
            "Epoch [34/50], Loss: 0.5232, Accuracy: 83.20%\n",
            "Epoch [35/50], Loss: 0.5097, Accuracy: 83.58%\n",
            "Epoch [36/50], Loss: 0.4759, Accuracy: 84.65%\n",
            "Epoch [37/50], Loss: 0.4469, Accuracy: 85.81%\n",
            "Epoch [38/50], Loss: 0.4384, Accuracy: 85.96%\n",
            "Epoch [39/50], Loss: 0.4207, Accuracy: 86.46%\n",
            "Epoch [40/50], Loss: 0.4098, Accuracy: 86.75%\n",
            "Epoch [41/50], Loss: 0.4016, Accuracy: 87.11%\n",
            "Epoch [42/50], Loss: 0.3805, Accuracy: 87.71%\n",
            "Epoch [43/50], Loss: 0.3659, Accuracy: 88.17%\n",
            "Epoch [44/50], Loss: 0.3647, Accuracy: 88.21%\n",
            "Epoch [45/50], Loss: 0.3418, Accuracy: 88.90%\n",
            "Epoch [46/50], Loss: 0.3309, Accuracy: 89.40%\n",
            "Epoch [47/50], Loss: 0.3177, Accuracy: 89.76%\n",
            "Epoch [48/50], Loss: 0.3062, Accuracy: 90.09%\n",
            "Epoch [49/50], Loss: 0.3136, Accuracy: 89.79%\n",
            "Epoch [50/50], Loss: 0.3021, Accuracy: 90.13%\n",
            "Test Accuracy: 47.25%\n"
          ]
        }
      ],
      "source": [
        "# Train and evaluate the model\n",
        "losses_2, accuracies_2 = train_model(model, train_loader, criterion, optimizer, num_epochs=50)\n",
        "evaluate_model(model, test_loader)"
      ]
    },
    {
      "cell_type": "code",
      "execution_count": 13,
      "metadata": {
        "id": "mKsACOqpDpuw",
        "colab": {
          "base_uri": "https://localhost:8080/",
          "height": 607
        },
        "outputId": "1f74b7ae-b592-4b83-8b86-c9e9ee790ac5"
      },
      "outputs": [
        {
          "output_type": "display_data",
          "data": {
            "text/plain": [
              "<Figure size 1200x600 with 2 Axes>"
            ],
            "image/png": "[encoded data removed]"
          },
          "metadata": {}
        }
      ],
      "source": [
        "# Plotting function to compare two architectures\n",
        "def plot_comparison(losses_1, accuracies_1, losses_2, accuracies_2, model_name_1=\"CNN\", model_name_2=\"ActiSwitch\"):\n",
        "    # Plot Losses\n",
        "    plt.figure(figsize=(12, 6))\n",
        "\n",
        "    plt.subplot(1, 2, 1)\n",
        "    plt.plot(losses_1, label=f'{model_name_1} Loss')\n",
        "    plt.plot(losses_2, label=f'{model_name_2} Loss')\n",
        "    plt.xlabel('Epochs')\n",
        "    plt.ylabel('Loss')\n",
        "    plt.title('Loss Comparison')\n",
        "    plt.grid(True)\n",
        "    plt.legend()\n",
        "\n",
        "    # Plot Accuracies\n",
        "    plt.subplot(1, 2, 2)\n",
        "    plt.plot(accuracies_1, label=f'{model_name_1} Accuracy')\n",
        "    plt.plot(accuracies_2, label=f'{model_name_2} Accuracy')\n",
        "    plt.xlabel('Epochs')\n",
        "    plt.ylabel('Accuracy (%)')\n",
        "    plt.title('Accuracy Comparison')\n",
        "    plt.grid(True)\n",
        "    plt.legend()\n",
        "\n",
        "    plt.tight_layout()\n",
        "    plt.show()\n",
        "\n",
        "plot_comparison(losses_1, accuracies_1, losses_2, accuracies_2, model_name_1=\"CNN\", model_name_2=\"ActiSwitch\")"
      ]
    },
    {
      "cell_type": "code",
      "source": [],
      "metadata": {
        "id": "aM2Ku4ZoLCDv"
      },
      "execution_count": null,
      "outputs": []
    }
  ],
  "metadata": {
    "accelerator": "GPU",
    "colab": {
      "gpuType": "T4",
      "provenance": []
    },
    "kernelspec": {
      "display_name": "Python 3",
      "name": "python3"
    },
    "language_info": {
      "name": "python",
      "version": "3.12.5"
    }
  },
  "nbformat": 4,
  "nbformat_minor": 0
}