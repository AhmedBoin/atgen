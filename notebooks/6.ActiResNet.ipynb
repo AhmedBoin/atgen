{
  "cells": [
    {
      "cell_type": "markdown",
      "metadata": {
        "id": "Tb5FRb6aJR9b"
      },
      "source": [
        "# Comparing ActiSwitch and Skip Connections (Piecewise Linear Activation Functions)\n",
        "\n",
        "This notebook investigates the comparison between **ActiSwitch** and **skip connections** in a neural network architecture using a **Piecewise Linear activation function** like ReLU. Initially, skip connections tend to offer faster convergence by effectively handling gradient flow, while ActiSwitch, which dynamically adjusts between linear and non-linear behavior, takes longer to catch up.\n",
        "\n",
        "After **10 epochs**, skip connections achieve better accuracy than ActiSwitch. However, with extended training to **50 epochs**, ActiSwitch nearly reaches the same accuracy as the skip connection architecture. Both methods, however, exhibit signs of **overfitting** after prolonged training, demonstrating similar vulnerabilities as training progresses.\n",
        "\n",
        "By the end of this notebook, you will observe that while skip connections may have an advantage in early epochs with Piecewise Linear activation functions, ActiSwitch can close the gap with additional training. Overfitting occurs in both architectures, but ActiSwitch offers flexibility in gradient management and potential improvements with longer training durations."
      ]
    },
    {
      "cell_type": "code",
      "execution_count": 1,
      "metadata": {
        "id": "67pMgQ2-EbeB"
      },
      "outputs": [],
      "source": [
        "import torch\n",
        "import torch.nn as nn\n",
        "import torch.optim as optim\n",
        "import torchvision\n",
        "import torchvision.transforms as transforms\n",
        "\n",
        "import matplotlib.pyplot as plt"
      ]
    },
    {
      "cell_type": "code",
      "execution_count": 2,
      "metadata": {
        "id": "X1rTJnOJEfJR"
      },
      "outputs": [],
      "source": [
        "# Define the ResNet block\n",
        "class ResidualBlock(nn.Module):\n",
        "    def __init__(self, in_channels, out_channels, stride=1, downsample=None):\n",
        "        super(ResidualBlock, self).__init__()\n",
        "        self.conv1 = nn.Conv2d(in_channels, out_channels, kernel_size=3, stride=stride, padding=1)\n",
        "        self.bn1 = nn.BatchNorm2d(out_channels)\n",
        "        self.relu = nn.ReLU(inplace=True)\n",
        "        self.conv2 = nn.Conv2d(out_channels, out_channels, kernel_size=3, stride=1, padding=1)\n",
        "        self.bn2 = nn.BatchNorm2d(out_channels)\n",
        "        self.downsample = downsample\n",
        "\n",
        "    def forward(self, x):\n",
        "        residual = x\n",
        "        out = self.conv1(x)\n",
        "        out = self.bn1(out)\n",
        "        out = self.relu(out)\n",
        "        out = self.conv2(out)\n",
        "        out = self.bn2(out)\n",
        "\n",
        "        if self.downsample:\n",
        "            residual = self.downsample(x)\n",
        "\n",
        "        out += residual\n",
        "        out = self.relu(out)\n",
        "        return out\n",
        "\n",
        "# Define ResNet architecture\n",
        "class ResNet(nn.Module):\n",
        "    def __init__(self, block, layers, num_classes=100):\n",
        "        super(ResNet, self).__init__()\n",
        "        self.in_channels = 64\n",
        "        self.conv = nn.Conv2d(3, 64, kernel_size=7, stride=2, padding=3)\n",
        "        self.bn = nn.BatchNorm2d(64)\n",
        "        self.relu = nn.ReLU(inplace=True)\n",
        "        self.maxpool = nn.MaxPool2d(kernel_size=3, stride=2, padding=1)\n",
        "        self.layer1 = self.make_layer(block, 64, layers[0])\n",
        "        self.layer2 = self.make_layer(block, 128, layers[1], stride=2)\n",
        "        self.layer3 = self.make_layer(block, 256, layers[2], stride=2)\n",
        "        self.layer4 = self.make_layer(block, 512, layers[3], stride=2)\n",
        "        self.avgpool = nn.AdaptiveAvgPool2d((1, 1))\n",
        "        self.fc = nn.Linear(512, num_classes)\n",
        "\n",
        "    def make_layer(self, block, out_channels, blocks, stride=1):\n",
        "        downsample = None\n",
        "        if stride != 1 or self.in_channels != out_channels:\n",
        "            downsample = nn.Sequential(\n",
        "                nn.Conv2d(self.in_channels, out_channels, kernel_size=1, stride=stride),\n",
        "                nn.BatchNorm2d(out_channels),\n",
        "            )\n",
        "\n",
        "        layers = []\n",
        "        layers.append(block(self.in_channels, out_channels, stride, downsample))\n",
        "        self.in_channels = out_channels\n",
        "        for _ in range(1, blocks):\n",
        "            layers.append(block(out_channels, out_channels))\n",
        "\n",
        "        return nn.Sequential(*layers)\n",
        "\n",
        "    def forward(self, x):\n",
        "        x = self.conv(x)\n",
        "        x = self.bn(x)\n",
        "        x = self.relu(x)\n",
        "        x = self.maxpool(x)\n",
        "        x = self.layer1(x)\n",
        "        x = self.layer2(x)\n",
        "        x = self.layer3(x)\n",
        "        x = self.layer4(x)\n",
        "        x = self.avgpool(x)\n",
        "        x = x.view(x.size(0), -1)\n",
        "        x = self.fc(x)\n",
        "        return x\n",
        "\n",
        "def ResNet18():\n",
        "    return ResNet(ResidualBlock, [2, 2, 2, 2])"
      ]
    },
    {
      "cell_type": "code",
      "execution_count": 18,
      "metadata": {
        "id": "Qini6KDJEj0Q"
      },
      "outputs": [],
      "source": [
        "import copy\n",
        "class ActiSwitch(nn.Module):\n",
        "    def __init__(self, activation_function):\n",
        "        super(ActiSwitch, self).__init__()\n",
        "        self.acti = copy.deepcopy(activation_function)\n",
        "        self.linear_weight = nn.Parameter(torch.tensor(0.0))\n",
        "        self.activation_weight = nn.Parameter(torch.tensor(1.0))\n",
        "\n",
        "    def forward(self, x: torch.Tensor) -> torch.Tensor:\n",
        "        return self.linear_weight * x + self.activation_weight * self.acti(x)\n",
        "\n",
        "# Custom architecture using ActiSwitch instead of regular activations\n",
        "# Define the ResNet block\n",
        "class ActiSwitchResidualBlock(nn.Module):\n",
        "    def __init__(self, in_channels, out_channels, stride=1, downsample=None):\n",
        "        super(ActiSwitchResidualBlock, self).__init__()\n",
        "        self.conv1 = nn.Conv2d(in_channels, out_channels, kernel_size=3, stride=stride, padding=1)\n",
        "        self.bn1 = nn.BatchNorm2d(out_channels)\n",
        "        self.relu1 = ActiSwitch(nn.ReLU())\n",
        "        self.conv2 = nn.Conv2d(out_channels, out_channels, kernel_size=3, stride=1, padding=1)\n",
        "        self.bn2 = nn.BatchNorm2d(out_channels)\n",
        "        self.relu2 = ActiSwitch(nn.ReLU())\n",
        "        self.downsample = downsample\n",
        "\n",
        "    def forward(self, x):\n",
        "        residual = x\n",
        "        out = self.conv1(x)\n",
        "        out = self.bn1(out)\n",
        "        out = self.relu1(out)\n",
        "        out = self.conv2(out)\n",
        "        out = self.bn2(out)\n",
        "\n",
        "        if self.downsample:\n",
        "            residual = self.downsample(x)\n",
        "\n",
        "        out += residual\n",
        "        out = self.relu2(out)\n",
        "        return out\n",
        "\n",
        "# Define ResNet architecture\n",
        "class ActiSwitchResNet(nn.Module):\n",
        "    def __init__(self, block, layers, num_classes=100):\n",
        "        super(ActiSwitchResNet, self).__init__()\n",
        "        self.in_channels = 64\n",
        "        self.conv = nn.Conv2d(3, 64, kernel_size=7, stride=2, padding=3)\n",
        "        self.bn = nn.BatchNorm2d(64)\n",
        "        self.relu = ActiSwitch(nn.ReLU())\n",
        "        self.maxpool = nn.MaxPool2d(kernel_size=3, stride=2, padding=1)\n",
        "        self.layer1 = self.make_layer(block, 64, layers[0])\n",
        "        self.layer2 = self.make_layer(block, 128, layers[1], stride=2)\n",
        "        self.layer3 = self.make_layer(block, 256, layers[2], stride=2)\n",
        "        self.layer4 = self.make_layer(block, 512, layers[3], stride=2)\n",
        "        self.avgpool = nn.AdaptiveAvgPool2d((1, 1))\n",
        "        self.fc = nn.Linear(512, num_classes)\n",
        "\n",
        "    def make_layer(self, block, out_channels, blocks, stride=1):\n",
        "        downsample = None\n",
        "        if stride != 1 or self.in_channels != out_channels:\n",
        "            downsample = nn.Sequential(\n",
        "                nn.Conv2d(self.in_channels, out_channels, kernel_size=1, stride=stride),\n",
        "                nn.BatchNorm2d(out_channels),\n",
        "            )\n",
        "\n",
        "        layers = []\n",
        "        layers.append(block(self.in_channels, out_channels, stride, downsample))\n",
        "        self.in_channels = out_channels\n",
        "        for _ in range(1, blocks):\n",
        "            layers.append(block(out_channels, out_channels))\n",
        "\n",
        "        return nn.Sequential(*layers)\n",
        "\n",
        "    def forward(self, x):\n",
        "        x = self.conv(x)\n",
        "        x = self.bn(x)\n",
        "        x = self.relu(x)\n",
        "        x = self.maxpool(x)\n",
        "        x = self.layer1(x)\n",
        "        x = self.layer2(x)\n",
        "        x = self.layer3(x)\n",
        "        x = self.layer4(x)\n",
        "        x = self.avgpool(x)\n",
        "        x = x.view(x.size(0), -1)\n",
        "        x = self.fc(x)\n",
        "        return x\n",
        "\n",
        "def ActiResNet18():\n",
        "    return ActiSwitchResNet(ActiSwitchResidualBlock, [2, 2, 2, 2])"
      ]
    },
    {
      "cell_type": "code",
      "execution_count": 4,
      "metadata": {
        "colab": {
          "base_uri": "https://localhost:8080/"
        },
        "id": "CrBIHjikEnmu",
        "outputId": "ae2e9c92-a9f7-4c93-beb0-c9a58f96c819"
      },
      "outputs": [
        {
          "output_type": "stream",
          "name": "stdout",
          "text": [
            "Downloading https://www.cs.toronto.edu/~kriz/cifar-100-python.tar.gz to ./data/cifar-100-python.tar.gz\n"
          ]
        },
        {
          "output_type": "stream",
          "name": "stderr",
          "text": [
            "100%|██████████| 169001437/169001437 [00:18<00:00, 9141473.62it/s] \n"
          ]
        },
        {
          "output_type": "stream",
          "name": "stdout",
          "text": [
            "Extracting ./data/cifar-100-python.tar.gz to ./data\n",
            "Files already downloaded and verified\n"
          ]
        }
      ],
      "source": [
        "# Data preparation for CIFAR-100\n",
        "transform_train = transforms.Compose([\n",
        "    transforms.RandomCrop(32, padding=4),\n",
        "    transforms.RandomHorizontalFlip(),\n",
        "    transforms.ToTensor(),\n",
        "    transforms.Normalize((0.5071, 0.4867, 0.4408), (0.2675, 0.2565, 0.2761)),\n",
        "])\n",
        "\n",
        "transform_test = transforms.Compose([\n",
        "    transforms.ToTensor(),\n",
        "    transforms.Normalize((0.5071, 0.4867, 0.4408), (0.2675, 0.2565, 0.2761)),\n",
        "])\n",
        "\n",
        "train_dataset = torchvision.datasets.CIFAR100(root='./data', train=True, download=True, transform=transform_train)\n",
        "test_dataset = torchvision.datasets.CIFAR100(root='./data', train=False, download=True, transform=transform_test)\n",
        "\n",
        "train_loader = torch.utils.data.DataLoader(dataset=train_dataset, batch_size=128, shuffle=True)\n",
        "test_loader = torch.utils.data.DataLoader(dataset=test_dataset, batch_size=128, shuffle=False)\n",
        "\n",
        "device = torch.device('cuda' if torch.cuda.is_available() else 'cpu')"
      ]
    },
    {
      "cell_type": "code",
      "execution_count": 5,
      "metadata": {
        "id": "v_pGeMwkEuLN"
      },
      "outputs": [],
      "source": [
        "# Training the model and storing loss and accuracy\n",
        "def train_model(model, train_loader, criterion, optimizer, num_epochs=50):\n",
        "    model.train()\n",
        "    epoch_losses = []\n",
        "    epoch_accuracies = []\n",
        "\n",
        "    for epoch in range(num_epochs):\n",
        "        running_loss = 0.0\n",
        "        correct = 0\n",
        "        total = 0\n",
        "\n",
        "        for i, (inputs, labels) in enumerate(train_loader):\n",
        "            inputs, labels = inputs.to(device), labels.to(device)\n",
        "\n",
        "            optimizer.zero_grad()\n",
        "            outputs = model(inputs)\n",
        "            loss = criterion(outputs, labels)\n",
        "            loss.backward()\n",
        "            optimizer.step()\n",
        "\n",
        "            running_loss += loss.item()\n",
        "            _, predicted = outputs.max(1)\n",
        "            total += labels.size(0)\n",
        "            correct += predicted.eq(labels).sum().item()\n",
        "\n",
        "        epoch_loss = running_loss / len(train_loader)\n",
        "        epoch_accuracy = 100 * correct / total\n",
        "\n",
        "        epoch_losses.append(epoch_loss)\n",
        "        epoch_accuracies.append(epoch_accuracy)\n",
        "\n",
        "        print(f'Epoch [{epoch+1}/{num_epochs}], Loss: {epoch_loss:.4f}, Accuracy: {epoch_accuracy:.2f}%')\n",
        "\n",
        "    return epoch_losses, epoch_accuracies"
      ]
    },
    {
      "cell_type": "code",
      "execution_count": 6,
      "metadata": {
        "id": "S6L7hvuPAAwI"
      },
      "outputs": [],
      "source": [
        "# Evaluate the model\n",
        "def evaluate_model(model, test_loader):\n",
        "    model.eval()\n",
        "    correct = 0\n",
        "    total = 0\n",
        "    with torch.no_grad():\n",
        "        for inputs, labels in test_loader:\n",
        "            inputs, labels = inputs.to(device), labels.to(device)\n",
        "            outputs = model(inputs)\n",
        "            _, predicted = outputs.max(1)\n",
        "            total += labels.size(0)\n",
        "            correct += predicted.eq(labels).sum().item()\n",
        "\n",
        "    print(f'Test Accuracy: {100*correct/total:.2f}%')"
      ]
    },
    {
      "cell_type": "code",
      "execution_count": 7,
      "metadata": {
        "id": "Gm-e9GFAErww"
      },
      "outputs": [],
      "source": [
        "# Initialize the model, loss function, and optimizer\n",
        "model = ResNet18().to(device)\n",
        "criterion = nn.CrossEntropyLoss()\n",
        "optimizer = optim.Adam(model.parameters(), lr=0.001)"
      ]
    },
    {
      "cell_type": "code",
      "execution_count": 8,
      "metadata": {
        "colab": {
          "base_uri": "https://localhost:8080/"
        },
        "id": "2UE2nqRiE0cN",
        "outputId": "0eb10c11-2bb2-4ea8-9c1d-cb52ed895d1a"
      },
      "outputs": [
        {
          "output_type": "stream",
          "name": "stdout",
          "text": [
            "Epoch [1/50], Loss: 3.7523, Accuracy: 12.41%\n",
            "Epoch [2/50], Loss: 3.1438, Accuracy: 21.94%\n",
            "Epoch [3/50], Loss: 2.8031, Accuracy: 28.77%\n",
            "Epoch [4/50], Loss: 2.5706, Accuracy: 33.08%\n",
            "Epoch [5/50], Loss: 2.4041, Accuracy: 36.84%\n",
            "Epoch [6/50], Loss: 2.2651, Accuracy: 39.88%\n",
            "Epoch [7/50], Loss: 2.1335, Accuracy: 42.76%\n",
            "Epoch [8/50], Loss: 2.0288, Accuracy: 45.04%\n",
            "Epoch [9/50], Loss: 1.9183, Accuracy: 47.30%\n",
            "Epoch [10/50], Loss: 1.8420, Accuracy: 48.98%\n",
            "Epoch [11/50], Loss: 1.7592, Accuracy: 51.15%\n",
            "Epoch [12/50], Loss: 1.6784, Accuracy: 52.80%\n",
            "Epoch [13/50], Loss: 1.6012, Accuracy: 54.83%\n",
            "Epoch [14/50], Loss: 1.5380, Accuracy: 55.96%\n",
            "Epoch [15/50], Loss: 1.4714, Accuracy: 57.72%\n",
            "Epoch [16/50], Loss: 1.3955, Accuracy: 59.95%\n",
            "Epoch [17/50], Loss: 1.3386, Accuracy: 61.04%\n",
            "Epoch [18/50], Loss: 1.2674, Accuracy: 62.87%\n",
            "Epoch [19/50], Loss: 1.2148, Accuracy: 64.04%\n",
            "Epoch [20/50], Loss: 1.1437, Accuracy: 65.90%\n",
            "Epoch [21/50], Loss: 1.0755, Accuracy: 67.97%\n",
            "Epoch [22/50], Loss: 1.0314, Accuracy: 68.73%\n",
            "Epoch [23/50], Loss: 0.9765, Accuracy: 70.32%\n",
            "Epoch [24/50], Loss: 0.9169, Accuracy: 71.95%\n",
            "Epoch [25/50], Loss: 0.8626, Accuracy: 73.46%\n",
            "Epoch [26/50], Loss: 0.8187, Accuracy: 74.74%\n",
            "Epoch [27/50], Loss: 0.7607, Accuracy: 76.20%\n",
            "Epoch [28/50], Loss: 0.7194, Accuracy: 77.31%\n",
            "Epoch [29/50], Loss: 0.6806, Accuracy: 78.37%\n",
            "Epoch [30/50], Loss: 0.6319, Accuracy: 79.71%\n",
            "Epoch [31/50], Loss: 0.5905, Accuracy: 81.16%\n",
            "Epoch [32/50], Loss: 0.5592, Accuracy: 82.08%\n",
            "Epoch [33/50], Loss: 0.5211, Accuracy: 83.31%\n",
            "Epoch [34/50], Loss: 0.4887, Accuracy: 84.30%\n",
            "Epoch [35/50], Loss: 0.4621, Accuracy: 84.96%\n",
            "Epoch [36/50], Loss: 0.4425, Accuracy: 85.77%\n",
            "Epoch [37/50], Loss: 0.4219, Accuracy: 86.37%\n",
            "Epoch [38/50], Loss: 0.4009, Accuracy: 86.83%\n",
            "Epoch [39/50], Loss: 0.3818, Accuracy: 87.70%\n",
            "Epoch [40/50], Loss: 0.3551, Accuracy: 88.31%\n",
            "Epoch [41/50], Loss: 0.3494, Accuracy: 88.62%\n",
            "Epoch [42/50], Loss: 0.3250, Accuracy: 89.12%\n",
            "Epoch [43/50], Loss: 0.3205, Accuracy: 89.63%\n",
            "Epoch [44/50], Loss: 0.3074, Accuracy: 89.85%\n",
            "Epoch [45/50], Loss: 0.3016, Accuracy: 90.12%\n",
            "Epoch [46/50], Loss: 0.2835, Accuracy: 90.53%\n",
            "Epoch [47/50], Loss: 0.2727, Accuracy: 91.14%\n",
            "Epoch [48/50], Loss: 0.2738, Accuracy: 90.92%\n",
            "Epoch [49/50], Loss: 0.2586, Accuracy: 91.43%\n",
            "Epoch [50/50], Loss: 0.2488, Accuracy: 91.88%\n",
            "Test Accuracy: 52.70%\n"
          ]
        }
      ],
      "source": [
        "# Train and evaluate the model\n",
        "losses_1, accuracies_1 = train_model(model, train_loader, criterion, optimizer, num_epochs=50)\n",
        "evaluate_model(model, test_loader)"
      ]
    },
    {
      "cell_type": "code",
      "execution_count": 19,
      "metadata": {
        "id": "g7DXXaScE_mQ"
      },
      "outputs": [],
      "source": [
        "# Initialize the model, loss function, and optimizer\n",
        "model = ActiResNet18().to(device)\n",
        "criterion = nn.CrossEntropyLoss()\n",
        "optimizer = optim.Adam(model.parameters(), lr=0.001)"
      ]
    },
    {
      "cell_type": "code",
      "execution_count": 20,
      "metadata": {
        "colab": {
          "base_uri": "https://localhost:8080/"
        },
        "id": "JQZ_uvjwAE-B",
        "outputId": "37769183-b174-48ec-834c-a4ec6dc3af27"
      },
      "outputs": [
        {
          "output_type": "stream",
          "name": "stdout",
          "text": [
            "Epoch [1/50], Loss: 3.7407, Accuracy: 12.35%\n",
            "Epoch [2/50], Loss: 3.1009, Accuracy: 23.14%\n",
            "Epoch [3/50], Loss: 2.7434, Accuracy: 29.88%\n",
            "Epoch [4/50], Loss: 2.4989, Accuracy: 34.86%\n",
            "Epoch [5/50], Loss: 2.3052, Accuracy: 38.92%\n",
            "Epoch [6/50], Loss: 2.1426, Accuracy: 42.40%\n",
            "Epoch [7/50], Loss: 2.0079, Accuracy: 45.29%\n",
            "Epoch [8/50], Loss: 1.8822, Accuracy: 48.27%\n",
            "Epoch [9/50], Loss: 1.7786, Accuracy: 50.57%\n",
            "Epoch [10/50], Loss: 1.6701, Accuracy: 53.15%\n",
            "Epoch [11/50], Loss: 1.5714, Accuracy: 55.37%\n",
            "Epoch [12/50], Loss: 1.4648, Accuracy: 57.88%\n",
            "Epoch [13/50], Loss: 1.3727, Accuracy: 60.17%\n",
            "Epoch [14/50], Loss: 1.2769, Accuracy: 62.55%\n",
            "Epoch [15/50], Loss: 1.1848, Accuracy: 64.79%\n",
            "Epoch [16/50], Loss: 1.0949, Accuracy: 67.14%\n",
            "Epoch [17/50], Loss: 0.9969, Accuracy: 69.61%\n",
            "Epoch [18/50], Loss: 0.9090, Accuracy: 71.91%\n",
            "Epoch [19/50], Loss: 0.8316, Accuracy: 74.17%\n",
            "Epoch [20/50], Loss: 0.7566, Accuracy: 76.39%\n",
            "Epoch [21/50], Loss: 0.6883, Accuracy: 78.12%\n",
            "Epoch [22/50], Loss: 0.6210, Accuracy: 80.17%\n",
            "Epoch [23/50], Loss: 0.5758, Accuracy: 81.45%\n",
            "Epoch [24/50], Loss: 0.5211, Accuracy: 83.22%\n",
            "Epoch [25/50], Loss: 0.4825, Accuracy: 84.48%\n",
            "Epoch [26/50], Loss: 0.4451, Accuracy: 85.59%\n",
            "Epoch [27/50], Loss: 0.4178, Accuracy: 86.56%\n",
            "Epoch [28/50], Loss: 0.3946, Accuracy: 87.25%\n",
            "Epoch [29/50], Loss: 0.3687, Accuracy: 87.99%\n",
            "Epoch [30/50], Loss: 0.3543, Accuracy: 88.50%\n",
            "Epoch [31/50], Loss: 0.3334, Accuracy: 89.25%\n",
            "Epoch [32/50], Loss: 0.3117, Accuracy: 89.93%\n",
            "Epoch [33/50], Loss: 0.3018, Accuracy: 90.13%\n",
            "Epoch [34/50], Loss: 0.2839, Accuracy: 90.77%\n",
            "Epoch [35/50], Loss: 0.2835, Accuracy: 90.68%\n",
            "Epoch [36/50], Loss: 0.2658, Accuracy: 91.42%\n",
            "Epoch [37/50], Loss: 0.2561, Accuracy: 91.77%\n",
            "Epoch [38/50], Loss: 0.2419, Accuracy: 92.18%\n",
            "Epoch [39/50], Loss: 0.2431, Accuracy: 92.11%\n",
            "Epoch [40/50], Loss: 0.2396, Accuracy: 92.21%\n",
            "Epoch [41/50], Loss: 0.2243, Accuracy: 92.76%\n",
            "Epoch [42/50], Loss: 0.2175, Accuracy: 92.97%\n",
            "Epoch [43/50], Loss: 0.2101, Accuracy: 93.12%\n",
            "Epoch [44/50], Loss: 0.2088, Accuracy: 93.26%\n",
            "Epoch [45/50], Loss: 0.2032, Accuracy: 93.36%\n",
            "Epoch [46/50], Loss: 0.1994, Accuracy: 93.46%\n",
            "Epoch [47/50], Loss: 0.1860, Accuracy: 94.03%\n",
            "Epoch [48/50], Loss: 0.1864, Accuracy: 93.95%\n",
            "Epoch [49/50], Loss: 0.1813, Accuracy: 94.10%\n",
            "Epoch [50/50], Loss: 0.1737, Accuracy: 94.28%\n",
            "Test Accuracy: 49.55%\n"
          ]
        }
      ],
      "source": [
        "# Train and evaluate the model\n",
        "losses_2, accuracies_2 = train_model(model, train_loader, criterion, optimizer, num_epochs=50)\n",
        "evaluate_model(model, test_loader)"
      ]
    },
    {
      "cell_type": "code",
      "execution_count": 21,
      "metadata": {
        "colab": {
          "base_uri": "https://localhost:8080/",
          "height": 607
        },
        "id": "mKsACOqpDpuw",
        "outputId": "4cfcdbb6-ae78-435a-d5f3-92ac600f654b"
      },
      "outputs": [
        {
          "output_type": "display_data",
          "data": {
            "text/plain": [
              "<Figure size 1200x600 with 2 Axes>"
            ],
            "image/png": "[encoded data removed]"
          },
          "metadata": {}
        }
      ],
      "source": [
        "# Plotting function to compare two architectures\n",
        "def plot_comparison(losses_1, accuracies_1, losses_2, accuracies_2, model_name_1=\"ResNet\", model_name_2=\"ActiSwitch\"):\n",
        "    # Plot Losses\n",
        "    plt.figure(figsize=(12, 6))\n",
        "\n",
        "    plt.subplot(1, 2, 1)\n",
        "    plt.plot(losses_1, label=f'{model_name_1} Loss')\n",
        "    plt.plot(losses_2, label=f'{model_name_2} Loss')\n",
        "    plt.xlabel('Epochs')\n",
        "    plt.ylabel('Loss')\n",
        "    plt.title('Loss Comparison')\n",
        "    plt.grid(True)\n",
        "    plt.legend()\n",
        "\n",
        "    # Plot Accuracies\n",
        "    plt.subplot(1, 2, 2)\n",
        "    plt.plot(accuracies_1, label=f'{model_name_1} Accuracy')\n",
        "    plt.plot(accuracies_2, label=f'{model_name_2} Accuracy')\n",
        "    plt.xlabel('Epochs')\n",
        "    plt.ylabel('Accuracy (%)')\n",
        "    plt.title('Accuracy Comparison')\n",
        "    plt.grid(True)\n",
        "    plt.legend()\n",
        "\n",
        "    plt.tight_layout()\n",
        "    plt.show()\n",
        "\n",
        "plot_comparison(losses_1, accuracies_1, losses_2, accuracies_2, model_name_1=\"ResNet\", model_name_2=\"ActiSwitch\")"
      ]
    },
    {
      "cell_type": "code",
      "execution_count": null,
      "metadata": {
        "id": "FGSBR1eYJe_b"
      },
      "outputs": [],
      "source": []
    }
  ],
  "metadata": {
    "accelerator": "GPU",
    "colab": {
      "gpuType": "T4",
      "provenance": []
    },
    "kernelspec": {
      "display_name": "Python 3",
      "name": "python3"
    },
    "language_info": {
      "name": "python",
      "version": "3.12.5"
    }
  },
  "nbformat": 4,
  "nbformat_minor": 0
}