{
  "cells": [
    {
      "cell_type": "markdown",
      "metadata": {
        "id": "Tb5FRb6aJR9b"
      },
      "source": [
        "# Comparing ActiSwitch and Skip Connections (Piecewise Linear Activation Functions)\n",
        "\n",
        "This notebook investigates the comparison between **ActiSwitch** and **skip connections** in a neural network architecture using a **Piecewise Linear activation function** like ReLU. Initially, skip connections tend to offer faster convergence by effectively handling gradient flow, while ActiSwitch, which dynamically adjusts between linear and non-linear behavior, takes longer to catch up.\n",
        "\n",
        "After **10 epochs**, skip connections achieve better accuracy than ActiSwitch. However, with extended training to **50 epochs**, ActiSwitch nearly reaches the same accuracy as the skip connection architecture. Both methods, however, exhibit signs of **overfitting** after prolonged training, demonstrating similar vulnerabilities as training progresses.\n",
        "\n",
        "By the end of this notebook, you will observe that while skip connections may have an advantage in early epochs with Piecewise Linear activation functions, ActiSwitch can close the gap with additional training. Overfitting occurs in both architectures, but ActiSwitch offers flexibility in gradient management and potential improvements with longer training durations."
      ]
    },
    {
      "cell_type": "code",
      "execution_count": 1,
      "metadata": {
        "id": "67pMgQ2-EbeB"
      },
      "outputs": [],
      "source": [
        "import torch\n",
        "import torch.nn as nn\n",
        "import torch.optim as optim\n",
        "import torchvision\n",
        "import torchvision.transforms as transforms\n",
        "\n",
        "import matplotlib.pyplot as plt"
      ]
    },
    {
      "cell_type": "code",
      "execution_count": 2,
      "metadata": {
        "id": "X1rTJnOJEfJR"
      },
      "outputs": [],
      "source": [
        "# Define the ResNet block\n",
        "class ResidualBlock(nn.Module):\n",
        "    def __init__(self, in_channels, out_channels, stride=1, downsample=None):\n",
        "        super(ResidualBlock, self).__init__()\n",
        "        self.conv1 = nn.Conv2d(in_channels, out_channels, kernel_size=3, stride=stride, padding=1)\n",
        "        self.bn1 = nn.BatchNorm2d(out_channels)\n",
        "        self.relu = nn.ReLU(inplace=True)\n",
        "        self.conv2 = nn.Conv2d(out_channels, out_channels, kernel_size=3, stride=1, padding=1)\n",
        "        self.bn2 = nn.BatchNorm2d(out_channels)\n",
        "        self.downsample = downsample\n",
        "\n",
        "    def forward(self, x):\n",
        "        residual = x\n",
        "        out = self.conv1(x)\n",
        "        out = self.bn1(out)\n",
        "        out = self.relu(out)\n",
        "        out = self.conv2(out)\n",
        "        out = self.bn2(out)\n",
        "\n",
        "        if self.downsample:\n",
        "            residual = self.downsample(x)\n",
        "\n",
        "        out += residual\n",
        "        out = self.relu(out)\n",
        "        return out\n",
        "\n",
        "# Define ResNet architecture\n",
        "class ResNet(nn.Module):\n",
        "    def __init__(self, block, layers, num_classes=100):\n",
        "        super(ResNet, self).__init__()\n",
        "        self.in_channels = 64\n",
        "        self.conv = nn.Conv2d(3, 64, kernel_size=7, stride=2, padding=3)\n",
        "        self.bn = nn.BatchNorm2d(64)\n",
        "        self.relu = nn.ReLU(inplace=True)\n",
        "        self.maxpool = nn.MaxPool2d(kernel_size=3, stride=2, padding=1)\n",
        "        self.layer1 = self.make_layer(block, 64, layers[0])\n",
        "        self.layer2 = self.make_layer(block, 128, layers[1], stride=2)\n",
        "        self.layer3 = self.make_layer(block, 256, layers[2], stride=2)\n",
        "        self.layer4 = self.make_layer(block, 512, layers[3], stride=2)\n",
        "        self.avgpool = nn.AdaptiveAvgPool2d((1, 1))\n",
        "        self.fc = nn.Linear(512, num_classes)\n",
        "\n",
        "    def make_layer(self, block, out_channels, blocks, stride=1):\n",
        "        downsample = None\n",
        "        if stride != 1 or self.in_channels != out_channels:\n",
        "            downsample = nn.Sequential(\n",
        "                nn.Conv2d(self.in_channels, out_channels, kernel_size=1, stride=stride),\n",
        "                nn.BatchNorm2d(out_channels),\n",
        "            )\n",
        "\n",
        "        layers = []\n",
        "        layers.append(block(self.in_channels, out_channels, stride, downsample))\n",
        "        self.in_channels = out_channels\n",
        "        for _ in range(1, blocks):\n",
        "            layers.append(block(out_channels, out_channels))\n",
        "\n",
        "        return nn.Sequential(*layers)\n",
        "\n",
        "    def forward(self, x):\n",
        "        x = self.conv(x)\n",
        "        x = self.bn(x)\n",
        "        x = self.relu(x)\n",
        "        x = self.maxpool(x)\n",
        "        x = self.layer1(x)\n",
        "        x = self.layer2(x)\n",
        "        x = self.layer3(x)\n",
        "        x = self.layer4(x)\n",
        "        x = self.avgpool(x)\n",
        "        x = x.view(x.size(0), -1)\n",
        "        x = self.fc(x)\n",
        "        return x\n",
        "\n",
        "def ResNet18():\n",
        "    return ResNet(ResidualBlock, [2, 2, 2, 2])"
      ]
    },
    {
      "cell_type": "code",
      "execution_count": 3,
      "metadata": {
        "id": "Qini6KDJEj0Q"
      },
      "outputs": [],
      "source": [
        "class ActiSwitch(nn.Module):\n",
        "    def __init__(self, activation_function):\n",
        "        super(ActiSwitch, self).__init__()\n",
        "        # Placeholder for ActiSwitch functionality\n",
        "        self.acti = activation_function()\n",
        "        self.linear_weight = nn.Parameter(torch.tensor(0.0))\n",
        "        self.activation_weight = nn.Parameter(torch.tensor(1.0))\n",
        "\n",
        "    def forward(self, x: torch.Tensor) -> torch.Tensor:\n",
        "        return self.linear_weight * x + self.activation_weight * self.acti(x)\n",
        "\n",
        "# Custom architecture using ActiSwitch instead of regular activations\n",
        "class CustomResNetNoSkipActiSwitch(nn.Module):\n",
        "    def __init__(self):\n",
        "        super(CustomResNetNoSkipActiSwitch, self).__init__()\n",
        "\n",
        "        # Initial Conv Layer\n",
        "        self.conv1 = nn.Conv2d(3, 64, kernel_size=7, stride=2, padding=3, bias=False)\n",
        "        self.bn1 = nn.BatchNorm2d(64)\n",
        "        self.act1 = ActiSwitch(nn.ReLU)  # ActiSwitch after Conv layer\n",
        "        self.maxpool = nn.MaxPool2d(kernel_size=3, stride=2, padding=1)\n",
        "\n",
        "        # ResNet Block 1 (2 layers without skip connections)\n",
        "        self.conv2_1 = nn.Conv2d(64, 64, kernel_size=3, stride=1, padding=1, bias=False)\n",
        "        self.bn2_1 = nn.BatchNorm2d(64)\n",
        "        self.act2_1 = ActiSwitch(nn.ReLU)\n",
        "        self.conv2_2 = nn.Conv2d(64, 64, kernel_size=3, stride=1, padding=1, bias=False)\n",
        "        self.bn2_2 = nn.BatchNorm2d(64)\n",
        "        self.act2_2 = ActiSwitch(nn.ReLU)\n",
        "\n",
        "        # ResNet Block 2 (with downsampling)\n",
        "        self.conv3_1 = nn.Conv2d(64, 128, kernel_size=3, stride=2, padding=1, bias=False)\n",
        "        self.bn3_1 = nn.BatchNorm2d(128)\n",
        "        self.act3_1 = ActiSwitch(nn.ReLU)\n",
        "        self.conv3_2 = nn.Conv2d(128, 128, kernel_size=3, stride=1, padding=1, bias=False)\n",
        "        self.bn3_2 = nn.BatchNorm2d(128)\n",
        "        self.act3_2 = ActiSwitch(nn.ReLU)\n",
        "\n",
        "        # ResNet Block 3 (with downsampling)\n",
        "        self.conv4_1 = nn.Conv2d(128, 256, kernel_size=3, stride=2, padding=1, bias=False)\n",
        "        self.bn4_1 = nn.BatchNorm2d(256)\n",
        "        self.act4_1 = ActiSwitch(nn.ReLU)\n",
        "        self.conv4_2 = nn.Conv2d(256, 256, kernel_size=3, stride=1, padding=1, bias=False)\n",
        "        self.bn4_2 = nn.BatchNorm2d(256)\n",
        "        self.act4_2 = ActiSwitch(nn.ReLU)\n",
        "\n",
        "        # ResNet Block 4 (with downsampling)\n",
        "        self.conv5_1 = nn.Conv2d(256, 512, kernel_size=3, stride=2, padding=1, bias=False)\n",
        "        self.bn5_1 = nn.BatchNorm2d(512)\n",
        "        self.act5_1 = ActiSwitch(nn.ReLU)\n",
        "        self.conv5_2 = nn.Conv2d(512, 512, kernel_size=3, stride=1, padding=1, bias=False)\n",
        "        self.bn5_2 = nn.BatchNorm2d(512)\n",
        "        self.act5_2 = ActiSwitch(nn.ReLU)\n",
        "\n",
        "        # Final layers (Global Average Pooling and Linear layer)\n",
        "        self.avgpool = nn.AdaptiveAvgPool2d((1, 1))\n",
        "        self.fc = nn.Linear(512, 100)  # Output for CIFAR-100\n",
        "\n",
        "    def forward(self, x):\n",
        "        # Initial Layers\n",
        "        x = self.conv1(x)\n",
        "        x = self.bn1(x)\n",
        "        x = self.act1(x)\n",
        "        x = self.maxpool(x)\n",
        "\n",
        "        # ResNet Block 1\n",
        "        x = self.conv2_1(x)\n",
        "        x = self.bn2_1(x)\n",
        "        x = self.act2_1(x)\n",
        "        x = self.conv2_2(x)\n",
        "        x = self.bn2_2(x)\n",
        "        x = self.act2_2(x)\n",
        "\n",
        "        # ResNet Block 2\n",
        "        x = self.conv3_1(x)\n",
        "        x = self.bn3_1(x)\n",
        "        x = self.act3_1(x)\n",
        "        x = self.conv3_2(x)\n",
        "        x = self.bn3_2(x)\n",
        "        x = self.act3_2(x)\n",
        "\n",
        "        # ResNet Block 3\n",
        "        x = self.conv4_1(x)\n",
        "        x = self.bn4_1(x)\n",
        "        x = self.act4_1(x)\n",
        "        x = self.conv4_2(x)\n",
        "        x = self.bn4_2(x)\n",
        "        x = self.act4_2(x)\n",
        "\n",
        "        # ResNet Block 4\n",
        "        x = self.conv5_1(x)\n",
        "        x = self.bn5_1(x)\n",
        "        x = self.act5_1(x)\n",
        "        x = self.conv5_2(x)\n",
        "        x = self.bn5_2(x)\n",
        "        x = self.act5_2(x)\n",
        "\n",
        "        # Final layers\n",
        "        x = self.avgpool(x)\n",
        "        x = torch.flatten(x, 1)\n",
        "        x = self.fc(x)\n",
        "\n",
        "        return x"
      ]
    },
    {
      "cell_type": "code",
      "execution_count": 4,
      "metadata": {
        "colab": {
          "base_uri": "https://localhost:8080/"
        },
        "id": "CrBIHjikEnmu",
        "outputId": "d1f5ceec-d6fe-41b8-9d11-d2ba7ea66fea"
      },
      "outputs": [
        {
          "name": "stdout",
          "output_type": "stream",
          "text": [
            "Downloading https://www.cs.toronto.edu/~kriz/cifar-100-python.tar.gz to ./data/cifar-100-python.tar.gz\n"
          ]
        },
        {
          "name": "stderr",
          "output_type": "stream",
          "text": [
            "100%|██████████| 169001437/169001437 [00:02<00:00, 79156892.60it/s]\n"
          ]
        },
        {
          "name": "stdout",
          "output_type": "stream",
          "text": [
            "Extracting ./data/cifar-100-python.tar.gz to ./data\n",
            "Files already downloaded and verified\n"
          ]
        }
      ],
      "source": [
        "# Data preparation for CIFAR-100\n",
        "transform_train = transforms.Compose([\n",
        "    transforms.RandomCrop(32, padding=4),\n",
        "    transforms.RandomHorizontalFlip(),\n",
        "    transforms.ToTensor(),\n",
        "    transforms.Normalize((0.5071, 0.4867, 0.4408), (0.2675, 0.2565, 0.2761)),\n",
        "])\n",
        "\n",
        "transform_test = transforms.Compose([\n",
        "    transforms.ToTensor(),\n",
        "    transforms.Normalize((0.5071, 0.4867, 0.4408), (0.2675, 0.2565, 0.2761)),\n",
        "])\n",
        "\n",
        "train_dataset = torchvision.datasets.CIFAR100(root='./data', train=True, download=True, transform=transform_train)\n",
        "test_dataset = torchvision.datasets.CIFAR100(root='./data', train=False, download=True, transform=transform_test)\n",
        "\n",
        "train_loader = torch.utils.data.DataLoader(dataset=train_dataset, batch_size=128, shuffle=True)\n",
        "test_loader = torch.utils.data.DataLoader(dataset=test_dataset, batch_size=128, shuffle=False)\n",
        "\n",
        "device = torch.device('cuda' if torch.cuda.is_available() else 'cpu')"
      ]
    },
    {
      "cell_type": "code",
      "execution_count": 5,
      "metadata": {
        "id": "v_pGeMwkEuLN"
      },
      "outputs": [],
      "source": [
        "# Training the model and storing loss and accuracy\n",
        "def train_model(model, train_loader, criterion, optimizer, num_epochs=50):\n",
        "    model.train()\n",
        "    epoch_losses = []\n",
        "    epoch_accuracies = []\n",
        "\n",
        "    for epoch in range(num_epochs):\n",
        "        running_loss = 0.0\n",
        "        correct = 0\n",
        "        total = 0\n",
        "\n",
        "        for i, (inputs, labels) in enumerate(train_loader):\n",
        "            inputs, labels = inputs.to(device), labels.to(device)\n",
        "\n",
        "            optimizer.zero_grad()\n",
        "            outputs = model(inputs)\n",
        "            loss = criterion(outputs, labels)\n",
        "            loss.backward()\n",
        "            optimizer.step()\n",
        "\n",
        "            running_loss += loss.item()\n",
        "            _, predicted = outputs.max(1)\n",
        "            total += labels.size(0)\n",
        "            correct += predicted.eq(labels).sum().item()\n",
        "\n",
        "        epoch_loss = running_loss / len(train_loader)\n",
        "        epoch_accuracy = 100 * correct / total\n",
        "\n",
        "        epoch_losses.append(epoch_loss)\n",
        "        epoch_accuracies.append(epoch_accuracy)\n",
        "\n",
        "        print(f'Epoch [{epoch+1}/{num_epochs}], Loss: {epoch_loss:.4f}, Accuracy: {epoch_accuracy:.2f}%')\n",
        "\n",
        "    return epoch_losses, epoch_accuracies"
      ]
    },
    {
      "cell_type": "code",
      "execution_count": 6,
      "metadata": {
        "id": "S6L7hvuPAAwI"
      },
      "outputs": [],
      "source": [
        "# Evaluate the model\n",
        "def evaluate_model(model, test_loader):\n",
        "    model.eval()\n",
        "    correct = 0\n",
        "    total = 0\n",
        "    with torch.no_grad():\n",
        "        for inputs, labels in test_loader:\n",
        "            inputs, labels = inputs.to(device), labels.to(device)\n",
        "            outputs = model(inputs)\n",
        "            _, predicted = outputs.max(1)\n",
        "            total += labels.size(0)\n",
        "            correct += predicted.eq(labels).sum().item()\n",
        "\n",
        "    print(f'Test Accuracy: {100*correct/total:.2f}%')"
      ]
    },
    {
      "cell_type": "code",
      "execution_count": 7,
      "metadata": {
        "id": "Gm-e9GFAErww"
      },
      "outputs": [],
      "source": [
        "# Initialize the model, loss function, and optimizer\n",
        "model = ResNet18().to(device)\n",
        "criterion = nn.CrossEntropyLoss()\n",
        "optimizer = optim.Adam(model.parameters(), lr=0.001)"
      ]
    },
    {
      "cell_type": "code",
      "execution_count": 8,
      "metadata": {
        "colab": {
          "base_uri": "https://localhost:8080/"
        },
        "id": "2UE2nqRiE0cN",
        "outputId": "5f19d5bb-23c4-4596-8e4a-3f1ed7bdaa39"
      },
      "outputs": [
        {
          "name": "stdout",
          "output_type": "stream",
          "text": [
            "Epoch [1/50], Loss: 3.7298, Accuracy: 12.90%\n",
            "Epoch [2/50], Loss: 3.1326, Accuracy: 22.48%\n",
            "Epoch [3/50], Loss: 2.8079, Accuracy: 28.45%\n",
            "Epoch [4/50], Loss: 2.5791, Accuracy: 33.18%\n",
            "Epoch [5/50], Loss: 2.4048, Accuracy: 36.69%\n",
            "Epoch [6/50], Loss: 2.2582, Accuracy: 39.82%\n",
            "Epoch [7/50], Loss: 2.1427, Accuracy: 42.36%\n",
            "Epoch [8/50], Loss: 2.0325, Accuracy: 45.01%\n",
            "Epoch [9/50], Loss: 1.9313, Accuracy: 47.08%\n",
            "Epoch [10/50], Loss: 1.8508, Accuracy: 49.07%\n",
            "Epoch [11/50], Loss: 1.7619, Accuracy: 50.93%\n",
            "Epoch [12/50], Loss: 1.6872, Accuracy: 52.64%\n",
            "Epoch [13/50], Loss: 1.6094, Accuracy: 54.12%\n",
            "Epoch [14/50], Loss: 1.5415, Accuracy: 56.20%\n",
            "Epoch [15/50], Loss: 1.4683, Accuracy: 57.88%\n",
            "Epoch [16/50], Loss: 1.4069, Accuracy: 59.05%\n",
            "Epoch [17/50], Loss: 1.3412, Accuracy: 60.77%\n",
            "Epoch [18/50], Loss: 1.2820, Accuracy: 62.27%\n",
            "Epoch [19/50], Loss: 1.2211, Accuracy: 63.72%\n",
            "Epoch [20/50], Loss: 1.1412, Accuracy: 65.86%\n",
            "Epoch [21/50], Loss: 1.0928, Accuracy: 67.12%\n",
            "Epoch [22/50], Loss: 1.0378, Accuracy: 68.83%\n",
            "Epoch [23/50], Loss: 0.9873, Accuracy: 70.00%\n",
            "Epoch [24/50], Loss: 0.9259, Accuracy: 71.62%\n",
            "Epoch [25/50], Loss: 0.8687, Accuracy: 73.15%\n",
            "Epoch [26/50], Loss: 0.8194, Accuracy: 74.65%\n",
            "Epoch [27/50], Loss: 0.7737, Accuracy: 76.00%\n",
            "Epoch [28/50], Loss: 0.7240, Accuracy: 77.29%\n",
            "Epoch [29/50], Loss: 0.6922, Accuracy: 78.25%\n",
            "Epoch [30/50], Loss: 0.6379, Accuracy: 79.81%\n",
            "Epoch [31/50], Loss: 0.5987, Accuracy: 80.99%\n",
            "Epoch [32/50], Loss: 0.5650, Accuracy: 82.03%\n",
            "Epoch [33/50], Loss: 0.5261, Accuracy: 83.15%\n",
            "Epoch [34/50], Loss: 0.5031, Accuracy: 83.80%\n",
            "Epoch [35/50], Loss: 0.4725, Accuracy: 84.81%\n",
            "Epoch [36/50], Loss: 0.4473, Accuracy: 85.59%\n",
            "Epoch [37/50], Loss: 0.4241, Accuracy: 86.28%\n",
            "Epoch [38/50], Loss: 0.4007, Accuracy: 87.01%\n",
            "Epoch [39/50], Loss: 0.3806, Accuracy: 87.49%\n",
            "Epoch [40/50], Loss: 0.3621, Accuracy: 88.31%\n",
            "Epoch [41/50], Loss: 0.3482, Accuracy: 88.76%\n",
            "Epoch [42/50], Loss: 0.3367, Accuracy: 88.85%\n",
            "Epoch [43/50], Loss: 0.3184, Accuracy: 89.46%\n",
            "Epoch [44/50], Loss: 0.3121, Accuracy: 89.81%\n",
            "Epoch [45/50], Loss: 0.2934, Accuracy: 90.51%\n",
            "Epoch [46/50], Loss: 0.2896, Accuracy: 90.60%\n",
            "Epoch [47/50], Loss: 0.2753, Accuracy: 91.02%\n",
            "Epoch [48/50], Loss: 0.2639, Accuracy: 91.36%\n",
            "Epoch [49/50], Loss: 0.2630, Accuracy: 91.42%\n",
            "Epoch [50/50], Loss: 0.2495, Accuracy: 91.78%\n",
            "Test Accuracy: 52.23%\n"
          ]
        }
      ],
      "source": [
        "# Train and evaluate the model\n",
        "losses_1, accuracies_1 = train_model(model, train_loader, criterion, optimizer, num_epochs=50)\n",
        "evaluate_model(model, test_loader)"
      ]
    },
    {
      "cell_type": "code",
      "execution_count": 9,
      "metadata": {
        "id": "g7DXXaScE_mQ"
      },
      "outputs": [],
      "source": [
        "# Initialize the model, loss function, and optimizer\n",
        "model = CustomResNetNoSkipActiSwitch().to(device)\n",
        "criterion = nn.CrossEntropyLoss()\n",
        "optimizer = optim.Adam(model.parameters(), lr=0.001)"
      ]
    },
    {
      "cell_type": "code",
      "execution_count": 10,
      "metadata": {
        "colab": {
          "base_uri": "https://localhost:8080/"
        },
        "id": "JQZ_uvjwAE-B",
        "outputId": "a3cb795d-46a0-41d5-f295-f4b795ebc7cf"
      },
      "outputs": [
        {
          "name": "stdout",
          "output_type": "stream",
          "text": [
            "Epoch [1/50], Loss: 3.7194, Accuracy: 12.57%\n",
            "Epoch [2/50], Loss: 3.2026, Accuracy: 20.70%\n",
            "Epoch [3/50], Loss: 2.8901, Accuracy: 26.40%\n",
            "Epoch [4/50], Loss: 2.6767, Accuracy: 30.69%\n",
            "Epoch [5/50], Loss: 2.5182, Accuracy: 33.80%\n",
            "Epoch [6/50], Loss: 2.3767, Accuracy: 36.83%\n",
            "Epoch [7/50], Loss: 2.2701, Accuracy: 39.30%\n",
            "Epoch [8/50], Loss: 2.1696, Accuracy: 41.41%\n",
            "Epoch [9/50], Loss: 2.0737, Accuracy: 43.84%\n",
            "Epoch [10/50], Loss: 1.9895, Accuracy: 45.70%\n",
            "Epoch [11/50], Loss: 1.8951, Accuracy: 47.47%\n",
            "Epoch [12/50], Loss: 1.8156, Accuracy: 49.40%\n",
            "Epoch [13/50], Loss: 1.7430, Accuracy: 51.13%\n",
            "Epoch [14/50], Loss: 1.6513, Accuracy: 53.18%\n",
            "Epoch [15/50], Loss: 1.5759, Accuracy: 54.95%\n",
            "Epoch [16/50], Loss: 1.5039, Accuracy: 56.56%\n",
            "Epoch [17/50], Loss: 1.4234, Accuracy: 58.42%\n",
            "Epoch [18/50], Loss: 1.3529, Accuracy: 60.35%\n",
            "Epoch [19/50], Loss: 1.2681, Accuracy: 62.47%\n",
            "Epoch [20/50], Loss: 1.2006, Accuracy: 64.10%\n",
            "Epoch [21/50], Loss: 1.1217, Accuracy: 66.12%\n",
            "Epoch [22/50], Loss: 1.0433, Accuracy: 68.20%\n",
            "Epoch [23/50], Loss: 0.9783, Accuracy: 70.02%\n",
            "Epoch [24/50], Loss: 0.9069, Accuracy: 72.02%\n",
            "Epoch [25/50], Loss: 0.8535, Accuracy: 73.41%\n",
            "Epoch [26/50], Loss: 0.7880, Accuracy: 75.47%\n",
            "Epoch [27/50], Loss: 0.7455, Accuracy: 76.59%\n",
            "Epoch [28/50], Loss: 0.6905, Accuracy: 78.01%\n",
            "Epoch [29/50], Loss: 0.6554, Accuracy: 79.27%\n",
            "Epoch [30/50], Loss: 0.6099, Accuracy: 80.60%\n",
            "Epoch [31/50], Loss: 0.5785, Accuracy: 81.37%\n",
            "Epoch [32/50], Loss: 0.5595, Accuracy: 81.85%\n",
            "Epoch [33/50], Loss: 0.5174, Accuracy: 83.36%\n",
            "Epoch [34/50], Loss: 0.4931, Accuracy: 84.20%\n",
            "Epoch [35/50], Loss: 0.4778, Accuracy: 84.49%\n",
            "Epoch [36/50], Loss: 0.4510, Accuracy: 85.39%\n",
            "Epoch [37/50], Loss: 0.4257, Accuracy: 86.25%\n",
            "Epoch [38/50], Loss: 0.4075, Accuracy: 86.72%\n",
            "Epoch [39/50], Loss: 0.4075, Accuracy: 86.71%\n",
            "Epoch [40/50], Loss: 0.3874, Accuracy: 87.49%\n",
            "Epoch [41/50], Loss: 0.3793, Accuracy: 87.75%\n",
            "Epoch [42/50], Loss: 0.3577, Accuracy: 88.38%\n",
            "Epoch [43/50], Loss: 0.3437, Accuracy: 88.89%\n",
            "Epoch [44/50], Loss: 0.3393, Accuracy: 89.11%\n",
            "Epoch [45/50], Loss: 0.3306, Accuracy: 89.26%\n",
            "Epoch [46/50], Loss: 0.3017, Accuracy: 90.22%\n",
            "Epoch [47/50], Loss: 0.3138, Accuracy: 89.86%\n",
            "Epoch [48/50], Loss: 0.3035, Accuracy: 90.16%\n",
            "Epoch [49/50], Loss: 0.2863, Accuracy: 90.71%\n",
            "Epoch [50/50], Loss: 0.3007, Accuracy: 90.19%\n",
            "Test Accuracy: 46.13%\n"
          ]
        }
      ],
      "source": [
        "# Train and evaluate the model\n",
        "losses_2, accuracies_2 = train_model(model, train_loader, criterion, optimizer, num_epochs=50)\n",
        "evaluate_model(model, test_loader)"
      ]
    },
    {
      "cell_type": "code",
      "execution_count": 11,
      "metadata": {
        "colab": {
          "base_uri": "https://localhost:8080/",
          "height": 607
        },
        "id": "mKsACOqpDpuw",
        "outputId": "b3097da8-ea98-46bc-f81b-92ecec5fae1e"
      },
      "outputs": [
        {
          "data": {
            "image/png": "[encoded data removed]",
            "text/plain": [
              "<Figure size 1200x600 with 2 Axes>"
            ]
          },
          "metadata": {},
          "output_type": "display_data"
        }
      ],
      "source": [
        "# Plotting function to compare two architectures\n",
        "def plot_comparison(losses_1, accuracies_1, losses_2, accuracies_2, model_name_1=\"ResNet\", model_name_2=\"ActiSwitch\"):\n",
        "    # Plot Losses\n",
        "    plt.figure(figsize=(12, 6))\n",
        "\n",
        "    plt.subplot(1, 2, 1)\n",
        "    plt.plot(losses_1, label=f'{model_name_1} Loss')\n",
        "    plt.plot(losses_2, label=f'{model_name_2} Loss')\n",
        "    plt.xlabel('Epochs')\n",
        "    plt.ylabel('Loss')\n",
        "    plt.title('Loss Comparison')\n",
        "    plt.grid(True)\n",
        "    plt.legend()\n",
        "\n",
        "    # Plot Accuracies\n",
        "    plt.subplot(1, 2, 2)\n",
        "    plt.plot(accuracies_1, label=f'{model_name_1} Accuracy')\n",
        "    plt.plot(accuracies_2, label=f'{model_name_2} Accuracy')\n",
        "    plt.xlabel('Epochs')\n",
        "    plt.ylabel('Accuracy (%)')\n",
        "    plt.title('Accuracy Comparison')\n",
        "    plt.grid(True)\n",
        "    plt.legend()\n",
        "\n",
        "    plt.tight_layout()\n",
        "    plt.show()\n",
        "\n",
        "plot_comparison(losses_1, accuracies_1, losses_2, accuracies_2, model_name_1=\"ResNet\", model_name_2=\"ActiSwitch\")"
      ]
    },
    {
      "cell_type": "code",
      "execution_count": null,
      "metadata": {
        "id": "FGSBR1eYJe_b"
      },
      "outputs": [],
      "source": []
    }
  ],
  "metadata": {
    "accelerator": "GPU",
    "colab": {
      "gpuType": "T4",
      "provenance": []
    },
    "kernelspec": {
      "display_name": "Python 3",
      "name": "python3"
    },
    "language_info": {
      "name": "python",
      "version": "3.12.5"
    }
  },
  "nbformat": 4,
  "nbformat_minor": 0
}
