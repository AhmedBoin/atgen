{
 "cells": [
  {
   "cell_type": "markdown",
   "metadata": {},
   "source": [
    "# Do We Really Need Skip Connections?\n",
    "\n",
    "## Introduction\n",
    "\n",
    "In deep neural networks, skip connections (or residual connections) have become a cornerstone for improving performance and training efficiency. In this section, we explore the concept of skip connections, their advantages in forward and backpropagation, and present an alternative approach: the **Activation Switch (ActiSwitch) layer**.\n",
    "\n",
    "## What Are Skip Connections?\n",
    "\n",
    "Skip connections allow neural networks to bypass one or more layers, sending inputs directly to deeper layers. This bypass mechanism provides multiple benefits:\n",
    "\n",
    "### Benefits in Forward Propagation\n",
    "\n",
    "1. **Preserving Features**: Skip connections enable the network to retain critical information from earlier layers, which is especially important for tasks like object detection. Lower-level features such as edges and textures are crucial for accurate detection, and skip connections help ensure these features aren’t lost as the data flows through the network.\n",
    "\n",
    "2. **Boosting Detection Accuracy**: Information from earlier layers often contains valuable details that may get diluted or distorted in deeper layers. By preserving this information, skip connections improve detection accuracy in complex tasks.\n",
    "\n",
    "### Benefits in Backpropagation\n",
    "\n",
    "1. **Tackling Vanishing Gradients**: As gradients propagate backward through many layers in deep networks, they can shrink (vanish), making it difficult to update weights effectively. Skip connections provide a direct route for gradients to flow, helping mitigate the vanishing gradient problem.\n",
    "\n",
    "2. **Efficient Loss Signal Transmission**: By allowing the gradient to bypass layers, skip connections create a shortcut for the loss signal, making it easier to train very deep networks.\n",
    "\n",
    "## Introducing the ActiSwitch Layer\n",
    "\n",
    "While skip connections offer clear advantages, the **ActiSwitch layer** provides an alternative that dynamically adapts between linear and non-linear activations.\n",
    "\n",
    "### What is ActiSwitch?\n",
    "\n",
    "The ActiSwitch layer can smoothly transition between a linear and non-linear activation function during training. Initially acting as a linear identity layer, it gradually introduces non-linearity as needed, combining the advantages of both behaviors:\n",
    "\n",
    "1. **Balancing Linearity and Non-Linearity**: The ActiSwitch layer enables the network to maintain linearity where it benefits performance and introduce non-linearity where needed to capture more complex patterns.\n",
    "\n",
    "2. **Dynamic Adaptation**: By adjusting the balance between linear and non-linear transformations, ActiSwitch adapts based on the network’s needs, leading to better performance than using a static activation function.\n",
    "\n",
    "### Comparison with Skip Connections\n",
    "\n",
    "- **Performance**: In some cases, ActiSwitch can outperform skip connections, particularly when traditional activation functions like sigmoid or tanh are used. However, when using more robust activations like ReLU, ActiSwitch may take longer to reach comparable accuracy or require additional epochs. The layer's ability to blend linear and non-linear behaviors ensures it captures relevant patterns while preventing vanishing gradients.\n",
    "\n",
    "- **Gradient Flow**: ActiSwitch provides an effective gradient path similar to skip connections but does so without directly forcing previous layer outputs into deeper layers. The learnable parameter in ActiSwitch ensures a smooth gradient flow through both linear and non-linear paths.\n",
    "\n",
    "- **Selective Feature Usage**: Unlike skip connections, which always include features from previous layers, the ActiSwitch layer allows the training algorithm to choose which features are useful. This can result in more adaptive and targeted feature usage, improving overall performance.\n",
    "\n",
    "- **Efficiency**: One of ActiSwitch’s advantages is that it does not require reshaping outputs or adding extra layers like skip connections do. This reduces the overall parameter size and computational overhead, making it easier to design and train the network.\n",
    "\n",
    "- **Direct Connectivity**: With ActiSwitch, each layer is directly connected to all subsequent layers via a linear path, allowing uninterrupted information flow. This dense connectivity can provide benefits similar to skip connections without the complexity of adding residual layers.\n",
    "\n",
    "## Comparative Performance\n",
    "\n",
    "In practice, architectures that suffer from vanishing gradients—such as those with sigmoid activation functions—can see significant improvement using ActiSwitch over skip connections. However, for networks using ReLU or other piecewise linear functions, the performance of ActiSwitch may require additional training time to match the accuracy of networks with skip connections.\n",
    "\n",
    "## Conclusion\n",
    "\n",
    "Both skip connections and ActiSwitch layers play critical roles in neural network performance. Skip connections excel in preventing vanishing gradients and preserving features, while ActiSwitch offers a more flexible and adaptive solution by dynamically blending linear and non-linear activations. Though ActiSwitch can outperform skip connections in some cases, particularly when faced with activation functions prone to vanishing gradients, skip connections may still hold the advantage in scenarios where ReLU or similar functions are used."
   ]
  },
  {
   "cell_type": "markdown",
   "metadata": {},
   "source": [
    "### Import required libs and set Seeds "
   ]
  },
  {
   "cell_type": "code",
   "execution_count": 25,
   "metadata": {},
   "outputs": [],
   "source": [
    "import torch\n",
    "import torch.nn as nn\n",
    "import torch.optim as optim\n",
    "import torch.nn.functional as F\n",
    "from torchvision import datasets, transforms\n",
    "from torch.utils.data import DataLoader\n",
    "from torchsummary import summary\n",
    "\n",
    "from atgen.layers.activations import ActiSwitch\n",
    "\n",
    "from tqdm import tqdm\n",
    "import matplotlib.pyplot as plt\n",
    "import numpy as np\n",
    "import random\n",
    "\n",
    "seed = 0\n",
    "torch.manual_seed(seed)\n",
    "np.random.seed(seed)\n",
    "random.seed(seed)\n",
    "torch.use_deterministic_algorithms(True)"
   ]
  },
  {
   "cell_type": "markdown",
   "metadata": {},
   "source": [
    "### Define the CNN model with separate activation functions for each layer"
   ]
  },
  {
   "cell_type": "code",
   "execution_count": 26,
   "metadata": {},
   "outputs": [],
   "source": [
    "class SimpleCNN(nn.Module):\n",
    "    def __init__(self, activations):\n",
    "        super(SimpleCNN, self).__init__()\n",
    "        self.conv1 = nn.Conv2d(1, 32, kernel_size=3, stride=1, padding=1)\n",
    "        self.conv2 = nn.Conv2d(32, 32, kernel_size=3, stride=1, padding=1)\n",
    "        self.pool = nn.MaxPool2d(kernel_size=2, stride=2, padding=0)\n",
    "        self.fc1 = nn.Linear(32*7*7, 128)\n",
    "        self.fc2 = nn.Linear(128, 64)\n",
    "        self.fc3 = nn.Linear(64, 10)\n",
    "        self.activations = activations\n",
    "\n",
    "    def forward(self, x: torch.Tensor):\n",
    "        x = self.pool(self.activations['conv1'](self.conv1(x)))\n",
    "        x = self.pool(self.activations['conv2'](self.conv2(x)))\n",
    "        x = x.view(x.shape[0], -1)\n",
    "        x = self.activations['fc1'](self.fc1(x))\n",
    "        x = self.activations['fc2'](self.fc2(x))\n",
    "        x = self.fc3(x)\n",
    "        return x"
   ]
  },
  {
   "cell_type": "markdown",
   "metadata": {},
   "source": [
    "### Hyperparameters, Data loading and preprocessing, Define activation functions for each model and Training and evaluation"
   ]
  },
  {
   "cell_type": "code",
   "execution_count": 27,
   "metadata": {},
   "outputs": [],
   "source": [
    "batch_size = 32\n",
    "learning_rate = 0.001\n",
    "num_epochs = 5\n",
    "\n",
    "\n",
    "transform = transforms.Compose([\n",
    "    transforms.ToTensor(),          \n",
    "    transforms.Normalize((0.1307,), (0.3081,))\n",
    "])\n",
    "\n",
    "train_dataset = datasets.MNIST(root='../data', train=True, download=True, transform=transform)\n",
    "test_dataset = datasets.MNIST(root='../data', train=False, download=True, transform=transform)\n",
    "\n",
    "train_loader = DataLoader(dataset=train_dataset, batch_size=batch_size, shuffle=True)\n",
    "test_loader = DataLoader(dataset=test_dataset, batch_size=batch_size, shuffle=False)\n",
    "\n",
    "device = torch.device(\"mps\" if torch.backends.mps.is_available() else \"cpu\")\n",
    "\n",
    "activation_configs = {\n",
    "    'ReLU': {'conv1': nn.ReLU(), 'conv2': nn.ReLU(), 'fc1': nn.ReLU(), 'fc2': nn.ReLU()},\n",
    "    'Tanh': {'conv1': nn.Tanh(), 'conv2': nn.Tanh(), 'fc1': nn.Tanh(), 'fc2': nn.Tanh()},\n",
    "    'Sigmoid': {'conv1': nn.Sigmoid(), 'conv2': nn.Sigmoid(), 'fc1': nn.Sigmoid(), 'fc2': nn.Sigmoid()},\n",
    "    'ActiSwitch(ReLU)': {'conv1': ActiSwitch(nn.ReLU), 'conv2': ActiSwitch(nn.ReLU), 'fc1': ActiSwitch(nn.ReLU), 'fc2': ActiSwitch(nn.ReLU)},\n",
    "    'ActiSwitch(Tanh)': {'conv1': ActiSwitch(nn.Tanh), 'conv2': ActiSwitch(nn.Tanh), 'fc1': ActiSwitch(nn.Tanh), 'fc2': ActiSwitch(nn.Tanh)},\n",
    "    'ActiSwitch(Sigmoid)': {'conv1': ActiSwitch(nn.Sigmoid), 'conv2': ActiSwitch(nn.Sigmoid), 'fc1': ActiSwitch(nn.Sigmoid), 'fc2': ActiSwitch(nn.Sigmoid)}\n",
    "}\n",
    "\n",
    "results = {\n",
    "    'losses': {key: [] for key in activation_configs.keys()},\n",
    "    'accuracies': {key: 0 for key in activation_configs.keys()}\n",
    "}"
   ]
  },
  {
   "cell_type": "markdown",
   "metadata": {},
   "source": [
    "### Training Phase for all models"
   ]
  },
  {
   "cell_type": "code",
   "execution_count": 28,
   "metadata": {},
   "outputs": [
    {
     "name": "stdout",
     "output_type": "stream",
     "text": [
      "\n",
      "Training model with ReLU activations...\n",
      "=================================================================\n",
      "Layer (type:depth-idx)                   Param #\n",
      "=================================================================\n",
      "├─Conv2d: 1-1                            320\n",
      "├─Conv2d: 1-2                            9,248\n",
      "├─MaxPool2d: 1-3                         --\n",
      "├─Linear: 1-4                            200,832\n",
      "├─Linear: 1-5                            8,256\n",
      "├─Linear: 1-6                            650\n",
      "=================================================================\n",
      "Total params: 219,306\n",
      "Trainable params: 219,306\n",
      "Non-trainable params: 0\n",
      "=================================================================\n"
     ]
    },
    {
     "name": "stderr",
     "output_type": "stream",
     "text": [
      "ReLU - Epoch 1/5: 100%|██████████| 1875/1875 [00:22<00:00, 82.34batch/s]\n"
     ]
    },
    {
     "name": "stdout",
     "output_type": "stream",
     "text": [
      "Epoch [1/5], Average Loss: 0.1417\n"
     ]
    },
    {
     "name": "stderr",
     "output_type": "stream",
     "text": [
      "ReLU - Epoch 2/5: 100%|██████████| 1875/1875 [00:24<00:00, 77.94batch/s]\n"
     ]
    },
    {
     "name": "stdout",
     "output_type": "stream",
     "text": [
      "Epoch [2/5], Average Loss: 0.0476\n"
     ]
    },
    {
     "name": "stderr",
     "output_type": "stream",
     "text": [
      "ReLU - Epoch 3/5: 100%|██████████| 1875/1875 [00:24<00:00, 78.01batch/s]\n"
     ]
    },
    {
     "name": "stdout",
     "output_type": "stream",
     "text": [
      "Epoch [3/5], Average Loss: 0.0334\n"
     ]
    },
    {
     "name": "stderr",
     "output_type": "stream",
     "text": [
      "ReLU - Epoch 4/5: 100%|██████████| 1875/1875 [00:21<00:00, 89.07batch/s]\n"
     ]
    },
    {
     "name": "stdout",
     "output_type": "stream",
     "text": [
      "Epoch [4/5], Average Loss: 0.0245\n"
     ]
    },
    {
     "name": "stderr",
     "output_type": "stream",
     "text": [
      "ReLU - Epoch 5/5: 100%|██████████| 1875/1875 [00:21<00:00, 88.87batch/s]\n"
     ]
    },
    {
     "name": "stdout",
     "output_type": "stream",
     "text": [
      "Epoch [5/5], Average Loss: 0.0195\n"
     ]
    },
    {
     "name": "stderr",
     "output_type": "stream",
     "text": [
      "ReLU - Evaluating: 100%|██████████| 313/313 [00:01<00:00, 167.34batch/s]\n"
     ]
    },
    {
     "name": "stdout",
     "output_type": "stream",
     "text": [
      "Accuracy of the model on the test set: 98.85%\n",
      "\n",
      "Training model with Tanh activations...\n",
      "=================================================================\n",
      "Layer (type:depth-idx)                   Param #\n",
      "=================================================================\n",
      "├─Conv2d: 1-1                            320\n",
      "├─Conv2d: 1-2                            9,248\n",
      "├─MaxPool2d: 1-3                         --\n",
      "├─Linear: 1-4                            200,832\n",
      "├─Linear: 1-5                            8,256\n",
      "├─Linear: 1-6                            650\n",
      "=================================================================\n",
      "Total params: 219,306\n",
      "Trainable params: 219,306\n",
      "Non-trainable params: 0\n",
      "=================================================================\n"
     ]
    },
    {
     "name": "stderr",
     "output_type": "stream",
     "text": [
      "Tanh - Epoch 1/5: 100%|██████████| 1875/1875 [00:21<00:00, 86.79batch/s]\n"
     ]
    },
    {
     "name": "stdout",
     "output_type": "stream",
     "text": [
      "Epoch [1/5], Average Loss: 0.1437\n"
     ]
    },
    {
     "name": "stderr",
     "output_type": "stream",
     "text": [
      "Tanh - Epoch 2/5: 100%|██████████| 1875/1875 [00:21<00:00, 89.09batch/s]\n"
     ]
    },
    {
     "name": "stdout",
     "output_type": "stream",
     "text": [
      "Epoch [2/5], Average Loss: 0.0458\n"
     ]
    },
    {
     "name": "stderr",
     "output_type": "stream",
     "text": [
      "Tanh - Epoch 3/5: 100%|██████████| 1875/1875 [00:21<00:00, 85.55batch/s]\n"
     ]
    },
    {
     "name": "stdout",
     "output_type": "stream",
     "text": [
      "Epoch [3/5], Average Loss: 0.0332\n"
     ]
    },
    {
     "name": "stderr",
     "output_type": "stream",
     "text": [
      "Tanh - Epoch 4/5: 100%|██████████| 1875/1875 [00:20<00:00, 90.87batch/s]\n"
     ]
    },
    {
     "name": "stdout",
     "output_type": "stream",
     "text": [
      "Epoch [4/5], Average Loss: 0.0272\n"
     ]
    },
    {
     "name": "stderr",
     "output_type": "stream",
     "text": [
      "Tanh - Epoch 5/5: 100%|██████████| 1875/1875 [00:20<00:00, 91.30batch/s]\n"
     ]
    },
    {
     "name": "stdout",
     "output_type": "stream",
     "text": [
      "Epoch [5/5], Average Loss: 0.0205\n"
     ]
    },
    {
     "name": "stderr",
     "output_type": "stream",
     "text": [
      "Tanh - Evaluating: 100%|██████████| 313/313 [00:01<00:00, 169.23batch/s]\n"
     ]
    },
    {
     "name": "stdout",
     "output_type": "stream",
     "text": [
      "Accuracy of the model on the test set: 98.67%\n",
      "\n",
      "Training model with Sigmoid activations...\n",
      "=================================================================\n",
      "Layer (type:depth-idx)                   Param #\n",
      "=================================================================\n",
      "├─Conv2d: 1-1                            320\n",
      "├─Conv2d: 1-2                            9,248\n",
      "├─MaxPool2d: 1-3                         --\n",
      "├─Linear: 1-4                            200,832\n",
      "├─Linear: 1-5                            8,256\n",
      "├─Linear: 1-6                            650\n",
      "=================================================================\n",
      "Total params: 219,306\n",
      "Trainable params: 219,306\n",
      "Non-trainable params: 0\n",
      "=================================================================\n"
     ]
    },
    {
     "name": "stderr",
     "output_type": "stream",
     "text": [
      "Sigmoid - Epoch 1/5: 100%|██████████| 1875/1875 [00:23<00:00, 79.38batch/s]\n"
     ]
    },
    {
     "name": "stdout",
     "output_type": "stream",
     "text": [
      "Epoch [1/5], Average Loss: 0.5237\n"
     ]
    },
    {
     "name": "stderr",
     "output_type": "stream",
     "text": [
      "Sigmoid - Epoch 2/5: 100%|██████████| 1875/1875 [00:21<00:00, 85.52batch/s]\n"
     ]
    },
    {
     "name": "stdout",
     "output_type": "stream",
     "text": [
      "Epoch [2/5], Average Loss: 0.0923\n"
     ]
    },
    {
     "name": "stderr",
     "output_type": "stream",
     "text": [
      "Sigmoid - Epoch 3/5: 100%|██████████| 1875/1875 [00:22<00:00, 84.66batch/s]\n"
     ]
    },
    {
     "name": "stdout",
     "output_type": "stream",
     "text": [
      "Epoch [3/5], Average Loss: 0.0615\n"
     ]
    },
    {
     "name": "stderr",
     "output_type": "stream",
     "text": [
      "Sigmoid - Epoch 4/5: 100%|██████████| 1875/1875 [00:24<00:00, 78.02batch/s]\n"
     ]
    },
    {
     "name": "stdout",
     "output_type": "stream",
     "text": [
      "Epoch [4/5], Average Loss: 0.0466\n"
     ]
    },
    {
     "name": "stderr",
     "output_type": "stream",
     "text": [
      "Sigmoid - Epoch 5/5: 100%|██████████| 1875/1875 [00:21<00:00, 86.28batch/s]\n"
     ]
    },
    {
     "name": "stdout",
     "output_type": "stream",
     "text": [
      "Epoch [5/5], Average Loss: 0.0397\n"
     ]
    },
    {
     "name": "stderr",
     "output_type": "stream",
     "text": [
      "Sigmoid - Evaluating: 100%|██████████| 313/313 [00:01<00:00, 175.45batch/s]\n"
     ]
    },
    {
     "name": "stdout",
     "output_type": "stream",
     "text": [
      "Accuracy of the model on the test set: 98.54%\n",
      "\n",
      "Training model with ActiSwitch(ReLU) activations...\n",
      "=================================================================\n",
      "Layer (type:depth-idx)                   Param #\n",
      "=================================================================\n",
      "├─Conv2d: 1-1                            320\n",
      "├─Conv2d: 1-2                            9,248\n",
      "├─MaxPool2d: 1-3                         --\n",
      "├─Linear: 1-4                            200,832\n",
      "├─Linear: 1-5                            8,256\n",
      "├─Linear: 1-6                            650\n",
      "=================================================================\n",
      "Total params: 219,306\n",
      "Trainable params: 219,306\n",
      "Non-trainable params: 0\n",
      "=================================================================\n"
     ]
    },
    {
     "name": "stderr",
     "output_type": "stream",
     "text": [
      "ActiSwitch(ReLU) - Epoch 1/5: 100%|██████████| 1875/1875 [00:43<00:00, 42.82batch/s]\n"
     ]
    },
    {
     "name": "stdout",
     "output_type": "stream",
     "text": [
      "Epoch [1/5], Average Loss: 0.1412\n"
     ]
    },
    {
     "name": "stderr",
     "output_type": "stream",
     "text": [
      "ActiSwitch(ReLU) - Epoch 2/5: 100%|██████████| 1875/1875 [00:40<00:00, 45.89batch/s]\n"
     ]
    },
    {
     "name": "stdout",
     "output_type": "stream",
     "text": [
      "Epoch [2/5], Average Loss: 0.0481\n"
     ]
    },
    {
     "name": "stderr",
     "output_type": "stream",
     "text": [
      "ActiSwitch(ReLU) - Epoch 3/5: 100%|██████████| 1875/1875 [00:40<00:00, 46.48batch/s]\n"
     ]
    },
    {
     "name": "stdout",
     "output_type": "stream",
     "text": [
      "Epoch [3/5], Average Loss: 0.0346\n"
     ]
    },
    {
     "name": "stderr",
     "output_type": "stream",
     "text": [
      "ActiSwitch(ReLU) - Epoch 4/5: 100%|██████████| 1875/1875 [00:40<00:00, 46.26batch/s]\n"
     ]
    },
    {
     "name": "stdout",
     "output_type": "stream",
     "text": [
      "Epoch [4/5], Average Loss: 0.0260\n"
     ]
    },
    {
     "name": "stderr",
     "output_type": "stream",
     "text": [
      "ActiSwitch(ReLU) - Epoch 5/5: 100%|██████████| 1875/1875 [00:40<00:00, 46.21batch/s]\n"
     ]
    },
    {
     "name": "stdout",
     "output_type": "stream",
     "text": [
      "Epoch [5/5], Average Loss: 0.0213\n"
     ]
    },
    {
     "name": "stderr",
     "output_type": "stream",
     "text": [
      "ActiSwitch(ReLU) - Evaluating: 100%|██████████| 313/313 [00:02<00:00, 150.69batch/s]\n"
     ]
    },
    {
     "name": "stdout",
     "output_type": "stream",
     "text": [
      "Accuracy of the model on the test set: 99.05%\n",
      "\n",
      "Training model with ActiSwitch(Tanh) activations...\n",
      "=================================================================\n",
      "Layer (type:depth-idx)                   Param #\n",
      "=================================================================\n",
      "├─Conv2d: 1-1                            320\n",
      "├─Conv2d: 1-2                            9,248\n",
      "├─MaxPool2d: 1-3                         --\n",
      "├─Linear: 1-4                            200,832\n",
      "├─Linear: 1-5                            8,256\n",
      "├─Linear: 1-6                            650\n",
      "=================================================================\n",
      "Total params: 219,306\n",
      "Trainable params: 219,306\n",
      "Non-trainable params: 0\n",
      "=================================================================\n"
     ]
    },
    {
     "name": "stderr",
     "output_type": "stream",
     "text": [
      "ActiSwitch(Tanh) - Epoch 1/5: 100%|██████████| 1875/1875 [00:41<00:00, 45.43batch/s]\n"
     ]
    },
    {
     "name": "stdout",
     "output_type": "stream",
     "text": [
      "Epoch [1/5], Average Loss: 0.1425\n"
     ]
    },
    {
     "name": "stderr",
     "output_type": "stream",
     "text": [
      "ActiSwitch(Tanh) - Epoch 2/5: 100%|██████████| 1875/1875 [00:41<00:00, 45.64batch/s]\n"
     ]
    },
    {
     "name": "stdout",
     "output_type": "stream",
     "text": [
      "Epoch [2/5], Average Loss: 0.0488\n"
     ]
    },
    {
     "name": "stderr",
     "output_type": "stream",
     "text": [
      "ActiSwitch(Tanh) - Epoch 3/5: 100%|██████████| 1875/1875 [00:43<00:00, 42.87batch/s]\n"
     ]
    },
    {
     "name": "stdout",
     "output_type": "stream",
     "text": [
      "Epoch [3/5], Average Loss: 0.0367\n"
     ]
    },
    {
     "name": "stderr",
     "output_type": "stream",
     "text": [
      "ActiSwitch(Tanh) - Epoch 4/5: 100%|██████████| 1875/1875 [00:41<00:00, 45.43batch/s]\n"
     ]
    },
    {
     "name": "stdout",
     "output_type": "stream",
     "text": [
      "Epoch [4/5], Average Loss: 0.0284\n"
     ]
    },
    {
     "name": "stderr",
     "output_type": "stream",
     "text": [
      "ActiSwitch(Tanh) - Epoch 5/5: 100%|██████████| 1875/1875 [00:41<00:00, 45.56batch/s]\n"
     ]
    },
    {
     "name": "stdout",
     "output_type": "stream",
     "text": [
      "Epoch [5/5], Average Loss: 0.0245\n"
     ]
    },
    {
     "name": "stderr",
     "output_type": "stream",
     "text": [
      "ActiSwitch(Tanh) - Evaluating: 100%|██████████| 313/313 [00:02<00:00, 147.78batch/s]\n"
     ]
    },
    {
     "name": "stdout",
     "output_type": "stream",
     "text": [
      "Accuracy of the model on the test set: 98.80%\n",
      "\n",
      "Training model with ActiSwitch(Sigmoid) activations...\n",
      "=================================================================\n",
      "Layer (type:depth-idx)                   Param #\n",
      "=================================================================\n",
      "├─Conv2d: 1-1                            320\n",
      "├─Conv2d: 1-2                            9,248\n",
      "├─MaxPool2d: 1-3                         --\n",
      "├─Linear: 1-4                            200,832\n",
      "├─Linear: 1-5                            8,256\n",
      "├─Linear: 1-6                            650\n",
      "=================================================================\n",
      "Total params: 219,306\n",
      "Trainable params: 219,306\n",
      "Non-trainable params: 0\n",
      "=================================================================\n"
     ]
    },
    {
     "name": "stderr",
     "output_type": "stream",
     "text": [
      "ActiSwitch(Sigmoid) - Epoch 1/5: 100%|██████████| 1875/1875 [00:40<00:00, 45.80batch/s]\n"
     ]
    },
    {
     "name": "stdout",
     "output_type": "stream",
     "text": [
      "Epoch [1/5], Average Loss: 0.6363\n"
     ]
    },
    {
     "name": "stderr",
     "output_type": "stream",
     "text": [
      "ActiSwitch(Sigmoid) - Epoch 2/5: 100%|██████████| 1875/1875 [00:41<00:00, 45.58batch/s]\n"
     ]
    },
    {
     "name": "stdout",
     "output_type": "stream",
     "text": [
      "Epoch [2/5], Average Loss: 0.1523\n"
     ]
    },
    {
     "name": "stderr",
     "output_type": "stream",
     "text": [
      "ActiSwitch(Sigmoid) - Epoch 3/5: 100%|██████████| 1875/1875 [00:41<00:00, 45.55batch/s]\n"
     ]
    },
    {
     "name": "stdout",
     "output_type": "stream",
     "text": [
      "Epoch [3/5], Average Loss: 0.0988\n"
     ]
    },
    {
     "name": "stderr",
     "output_type": "stream",
     "text": [
      "ActiSwitch(Sigmoid) - Epoch 4/5: 100%|██████████| 1875/1875 [00:40<00:00, 45.78batch/s]\n"
     ]
    },
    {
     "name": "stdout",
     "output_type": "stream",
     "text": [
      "Epoch [4/5], Average Loss: 0.0727\n"
     ]
    },
    {
     "name": "stderr",
     "output_type": "stream",
     "text": [
      "ActiSwitch(Sigmoid) - Epoch 5/5: 100%|██████████| 1875/1875 [00:40<00:00, 45.80batch/s]\n"
     ]
    },
    {
     "name": "stdout",
     "output_type": "stream",
     "text": [
      "Epoch [5/5], Average Loss: 0.0571\n"
     ]
    },
    {
     "name": "stderr",
     "output_type": "stream",
     "text": [
      "ActiSwitch(Sigmoid) - Evaluating: 100%|██████████| 313/313 [00:02<00:00, 144.82batch/s]"
     ]
    },
    {
     "name": "stdout",
     "output_type": "stream",
     "text": [
      "Accuracy of the model on the test set: 97.60%\n"
     ]
    },
    {
     "name": "stderr",
     "output_type": "stream",
     "text": [
      "\n"
     ]
    }
   ],
   "source": [
    "for name, activations in activation_configs.items():\n",
    "    print(f\"\\nTraining model with {name} activations...\")\n",
    "    \n",
    "    # Initialize model, loss function, and optimizer\n",
    "    model = SimpleCNN(activations)\n",
    "    model.to(device)\n",
    "    criterion = nn.CrossEntropyLoss()\n",
    "    optimizer = optim.Adam(model.parameters(), lr=learning_rate)\n",
    "\n",
    "    # Print model summary\n",
    "    summary(model, input_size=(1, 28, 28))\n",
    "\n",
    "    # Training loop\n",
    "    for epoch in range(num_epochs):\n",
    "        model.train()\n",
    "        running_loss = 0.0\n",
    "        for batch_idx, (data, target) in enumerate(tqdm(train_loader, desc=f'{name} - Epoch {epoch+1}/{num_epochs}', unit='batch')):\n",
    "            data, target = data.to(device), target.to(device)\n",
    "            optimizer.zero_grad()               \n",
    "            outputs = model(data)               \n",
    "            loss = criterion(outputs, target)   \n",
    "            loss.backward()                     \n",
    "            optimizer.step()                    \n",
    "\n",
    "            running_loss += loss.item()\n",
    "\n",
    "        avg_loss = running_loss / len(train_loader)\n",
    "        results['losses'][name].append(avg_loss)\n",
    "        print(f'Epoch [{epoch+1}/{num_epochs}], Average Loss: {avg_loss:.4f}')\n",
    "\n",
    "    # Evaluate the model on the test set\n",
    "    model.eval()\n",
    "    correct = 0\n",
    "    total = 0\n",
    "    with torch.no_grad():\n",
    "        for data, target in tqdm(test_loader, desc=f'{name} - Evaluating', unit='batch'):\n",
    "            data, target = data.to(device), target.to(device)\n",
    "            outputs = model(data)\n",
    "            _, predicted = torch.max(outputs.data, 1)\n",
    "            total += target.size(0)\n",
    "            correct += (predicted == target).sum().item()\n",
    "\n",
    "    accuracy = 100 * correct / total\n",
    "    results['accuracies'][name] = accuracy\n",
    "    print(f'Accuracy of the model on the test set: {accuracy:.2f}%')"
   ]
  },
  {
   "cell_type": "markdown",
   "metadata": {},
   "source": [
    "### Results and Plotting"
   ]
  },
  {
   "cell_type": "code",
   "execution_count": 29,
   "metadata": {},
   "outputs": [
    {
     "data": {
      "image/png": "[encoded data removed]",
      "text/plain": [
       "<Figure size 1200x600 with 1 Axes>"
      ]
     },
     "metadata": {},
     "output_type": "display_data"
    },
    {
     "data": {
      "image/png": "[encoded data removed]",
      "text/plain": [
       "<Figure size 1200x600 with 1 Axes>"
      ]
     },
     "metadata": {},
     "output_type": "display_data"
    }
   ],
   "source": [
    "# Plot training losses\n",
    "plt.figure(figsize=(12, 6))\n",
    "for name, losses in results['losses'].items():\n",
    "    plt.plot(range(1, num_epochs + 1), losses, label=name)\n",
    "plt.xlabel('Epoch')\n",
    "plt.ylabel('Loss')\n",
    "plt.title('Training Losses')\n",
    "plt.legend()\n",
    "plt.grid(True)\n",
    "# plt.savefig('training_losses.png')\n",
    "plt.show()\n",
    "\n",
    "# Plot accuracies\n",
    "plt.figure(figsize=(12, 6))\n",
    "names = list(results['accuracies'].keys())\n",
    "accuracies = list(results['accuracies'].values())\n",
    "plt.bar(names, accuracies, color='skyblue')\n",
    "plt.xlabel('Model')\n",
    "plt.ylabel('Accuracy (%)')\n",
    "plt.title('Test Set Accuracies')\n",
    "plt.xticks(rotation=45, ha='right')\n",
    "plt.grid(axis='y')\n",
    "plt.tight_layout()\n",
    "# plt.savefig('model_accuracies.png')\n",
    "plt.show()"
   ]
  },
  {
   "cell_type": "code",
   "execution_count": null,
   "metadata": {},
   "outputs": [],
   "source": []
  }
 ],
 "metadata": {
  "kernelspec": {
   "display_name": "Python 3",
   "language": "python",
   "name": "python3"
  },
  "language_info": {
   "codemirror_mode": {
    "name": "ipython",
    "version": 3
   },
   "file_extension": ".py",
   "mimetype": "text/x-python",
   "name": "python",
   "nbconvert_exporter": "python",
   "pygments_lexer": "ipython3",
   "version": "3.12.5"
  }
 },
 "nbformat": 4,
 "nbformat_minor": 2
}
